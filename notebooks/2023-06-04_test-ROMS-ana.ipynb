{
 "cells": [
  {
   "cell_type": "code",
   "execution_count": 1,
   "id": "c1f6acfc-154b-4418-b1a5-2ca86884b17b",
   "metadata": {},
   "outputs": [],
   "source": [
    "import xarray as xr\n",
    "import numpy as np\n",
    "import matplotlib.pyplot as plt"
   ]
  },
  {
   "cell_type": "code",
   "execution_count": 2,
   "id": "c6c1e4ab-5363-4ec6-8a4a-a15d8a2cc84f",
   "metadata": {},
   "outputs": [],
   "source": [
    "data_file = '../data/config/ROMS/roms_avg01_2009_datetime.nc'\n",
    "mesh_file = '/gxfs_work1/geomar/smomw044/prep_data_iAtlantic_LMock/ROMS/roms_grd2_1500mVT1.nc'\n",
    "sigma_file = '../data/config/ROMS/sigma2depth_parent.nc'"
   ]
  },
  {
   "cell_type": "code",
   "execution_count": 3,
   "id": "5942c9de-4720-4979-8e71-89f3f90938be",
   "metadata": {},
   "outputs": [],
   "source": [
    "coord = xr.open_dataset(mesh_file)"
   ]
  },
  {
   "cell_type": "code",
   "execution_count": 4,
   "id": "49fcdc93-8feb-48eb-9c41-6d872c049a59",
   "metadata": {},
   "outputs": [
    {
     "name": "stdout",
     "output_type": "stream",
     "text": [
      "(258, 237)\n",
      "(257, 238)\n",
      "(258, 238)\n",
      "(257, 237)\n"
     ]
    }
   ],
   "source": [
    "lon_u = coord.lon_u\n",
    "lat_u = coord.lat_u\n",
    "lon_v = coord.lon_v\n",
    "lat_v = coord.lat_v\n",
    "lon_rho = coord.lon_rho\n",
    "lat_rho = coord.lat_rho\n",
    "lon_psi = coord.lon_psi\n",
    "lat_psi = coord.lat_psi\n",
    "print(lon_u.shape)\n",
    "print(lon_v.shape)\n",
    "print(lon_rho.shape)\n",
    "print(lon_psi.shape)"
   ]
  },
  {
   "cell_type": "code",
   "execution_count": 5,
   "id": "457dbb2a-aeb1-49d2-9db3-c39d14552c6c",
   "metadata": {},
   "outputs": [
    {
     "data": {
      "text/plain": [
       "<matplotlib.collections.PathCollection at 0x7f3580a9fc70>"
      ]
     },
     "execution_count": 5,
     "metadata": {},
     "output_type": "execute_result"
    },
    {
     "data": {
      "image/png": "[encoded data removed]",
      "text/plain": [
       "<Figure size 432x288 with 1 Axes>"
      ]
     },
     "metadata": {
      "needs_background": "light"
     },
     "output_type": "display_data"
    }
   ],
   "source": [
    "plt.scatter(lon_u[:10,:9], lat_u[:10,:9], color='red')\n",
    "plt.scatter(lon_v[:9,:10], lat_v[:9,:10], color='green')\n",
    "plt.scatter(lon_rho[:10,:10], lat_rho[:10,:10], color='blue')\n",
    "plt.scatter(lon_psi[:9,:9], lat_psi[:9,:9], color='gray')"
   ]
  },
  {
   "cell_type": "code",
   "execution_count": 6,
   "id": "ee2b3b18-e6b8-4437-841a-ed956e949737",
   "metadata": {},
   "outputs": [
    {
     "data": {
      "text/plain": [
       "<matplotlib.collections.PathCollection at 0x7f35788ecdf0>"
      ]
     },
     "execution_count": 6,
     "metadata": {},
     "output_type": "execute_result"
    },
    {
     "data": {
      "image/png": "[encoded data removed]",
      "text/plain": [
       "<Figure size 432x288 with 1 Axes>"
      ]
     },
     "metadata": {
      "needs_background": "light"
     },
     "output_type": "display_data"
    }
   ],
   "source": [
    "i = 4\n",
    "j = 8\n",
    "plt.scatter(lon_u[j+1,i], lat_u[j+1, i], color='red')\n",
    "plt.scatter(lon_u[j+1,i+1], lat_u[j+1, i+1], color='red')\n",
    "plt.scatter(lon_v[j, i+1], lat_v[j, i+1], color='green')\n",
    "plt.scatter(lon_v[j+1, i+1], lat_v[j+1, i+1], color='green')\n",
    "plt.scatter(lon_rho[j+1, i+1], lat_rho[j+1, i+1], color='blue')\n",
    "plt.scatter(lon_psi[j:j+2,i:i+2], lat_psi[j:j+2,i:i+2], color='gray')"
   ]
  },
  {
   "cell_type": "code",
   "execution_count": 7,
   "id": "6249b330-a78b-4384-8459-d5d9ac5fb31a",
   "metadata": {},
   "outputs": [],
   "source": [
    "ds = xr.open_dataset(data_file)\n",
    "sigma = xr.open_dataset(sigma_file)"
   ]
  },
  {
   "cell_type": "code",
   "execution_count": 8,
   "id": "f1d3c10e-79e0-4f3e-967e-848728887287",
   "metadata": {},
   "outputs": [
    {
     "name": "stdout",
     "output_type": "stream",
     "text": [
      "(60, 32, 258, 237)\n",
      "(60, 32, 257, 238)\n",
      "(60, 32, 258, 238)\n",
      "(32, 258, 238)\n"
     ]
    }
   ],
   "source": [
    "print(ds.u.shape)\n",
    "print(ds.v.shape)\n",
    "print(ds.w.shape)\n",
    "print(sigma.hs.shape)"
   ]
  },
  {
   "cell_type": "code",
   "execution_count": 9,
   "id": "38cd13ff-337b-47d5-8378-8790262ab4ad",
   "metadata": {},
   "outputs": [
    {
     "name": "stderr",
     "output_type": "stream",
     "text": [
      "fatal: not a git repository (or any of the parent directories): .git\n"
     ]
    }
   ],
   "source": [
    "from parcels import FieldSet, ParticleSet, JITParticle, AdvectionRK4_3D"
   ]
  },
  {
   "cell_type": "code",
   "execution_count": 10,
   "id": "7b09faed-d907-4f49-b016-930550a95661",
   "metadata": {},
   "outputs": [],
   "source": [
    "filenames = {'U': {'lon': mesh_file, 'lat': mesh_file, 'depth': sigma_file, 'data': data_file},\n",
    "             'V': {'lon': mesh_file, 'lat': mesh_file, 'depth': sigma_file, 'data': data_file},\n",
    "             'W': {'lon': mesh_file, 'lat': mesh_file, 'depth': sigma_file, 'data': data_file},\n",
    "            }\n",
    "variables = {'U': 'u',\n",
    "             'V': 'v',\n",
    "             'W': 'w'}\n",
    "dimensions = {'lon': 'lon_psi', 'lat': 'lat_psi', 'depth': 'hs', 'time': 'time'}\n",
    "fieldset = FieldSet.from_c_grid_dataset(filenames, variables, dimensions)"
   ]
  },
  {
   "cell_type": "code",
   "execution_count": 11,
   "id": "5981c2f8-c2d0-445a-b7ea-993612d6ca49",
   "metadata": {},
   "outputs": [
    {
     "name": "stdout",
     "output_type": "stream",
     "text": [
      "<class 'parcels.grid.RectilinearSGrid'>\n"
     ]
    }
   ],
   "source": [
    "print(type(fieldset.U.grid))\n",
    "assert fieldset.U.grid is fieldset.V.grid\n",
    "assert fieldset.U.grid is fieldset.W.grid"
   ]
  },
  {
   "cell_type": "code",
   "execution_count": 12,
   "id": "54ade8f2-c412-447f-a355-5d0baf02a9bc",
   "metadata": {},
   "outputs": [
    {
     "name": "stdout",
     "output_type": "stream",
     "text": [
      "(2, 32, 257, 237)\n",
      "(237,)\n",
      "(257,)\n",
      "(32, 257, 237)\n"
     ]
    }
   ],
   "source": [
    "fieldset.computeTimeChunk(time=fieldset.U.grid.time[0], dt=1)\n",
    "print(fieldset.U.data.shape)\n",
    "print(fieldset.U.grid.lon.shape)\n",
    "print(fieldset.U.grid.lat.shape)\n",
    "print(fieldset.U.grid.depth.shape)"
   ]
  },
  {
   "cell_type": "code",
   "execution_count": 13,
   "id": "201cb5a8-53a3-49c8-aa64-230032bac3c8",
   "metadata": {},
   "outputs": [
    {
     "name": "stdout",
     "output_type": "stream",
     "text": [
      "[1681.8895   1667.2445   1649.4756   1628.0054   1602.1926   1571.3462\n",
      " 1534.751    1491.7078   1441.5907   1383.9218   1318.4575   1245.2798\n",
      " 1164.8749   1078.1821    986.5929    891.8883    796.1139    701.4093\n",
      "  609.82007   523.12726   442.72235   369.54465   304.0804    246.4115\n",
      "  196.29445   153.25117   116.65596    85.80959    59.99679    38.526546\n",
      "   20.757671    6.112674]\n"
     ]
    }
   ],
   "source": [
    "print(fieldset.U.grid.depth[:,0,0])"
   ]
  },
  {
   "cell_type": "code",
   "execution_count": 14,
   "id": "b4b5f01b-b736-4c04-8e88-fc62bf355a6a",
   "metadata": {},
   "outputs": [
    {
     "name": "stderr",
     "output_type": "stream",
     "text": [
      "INFO: Compiled ArrayJITParticleAdvectionRK4_3D ==> /tmp/parcels-726810/lib1fe8d8184ea4958bc638164ee5851f6e_0.so\n"
     ]
    },
    {
     "ename": "OutOfBoundsError",
     "evalue": "0\nParticle P[0](lon=8.250000, lat=-23.250000, depth=1.000000, time=0.000000)\nTime: 2009-01-01T00:00:00.000000000,\ttimestep dt: 900.000000\nOut-of-bounds sampling by particle at (8.250000, -23.250000, 1.000000)",
     "output_type": "error",
     "traceback": [
      "\u001b[0;31m---------------------------------------------------------------------------\u001b[0m",
      "\u001b[0;31mOutOfBoundsError\u001b[0m                          Traceback (most recent call last)",
      "Input \u001b[0;32mIn [14]\u001b[0m, in \u001b[0;36m<cell line: 2>\u001b[0;34m()\u001b[0m\n\u001b[1;32m      1\u001b[0m pset \u001b[38;5;241m=\u001b[39m ParticleSet(fieldset, JITParticle, lon\u001b[38;5;241m=\u001b[39m\u001b[38;5;241m8.25\u001b[39m, lat\u001b[38;5;241m=\u001b[39m\u001b[38;5;241m-\u001b[39m\u001b[38;5;241m23.25\u001b[39m, depth\u001b[38;5;241m=\u001b[39m\u001b[38;5;241m1\u001b[39m)\n\u001b[0;32m----> 2\u001b[0m \u001b[43mpset\u001b[49m\u001b[38;5;241;43m.\u001b[39;49m\u001b[43mexecute\u001b[49m\u001b[43m(\u001b[49m\u001b[43mAdvectionRK4_3D\u001b[49m\u001b[43m,\u001b[49m\u001b[43m \u001b[49m\u001b[43mruntime\u001b[49m\u001b[38;5;241;43m=\u001b[39;49m\u001b[38;5;241;43m186400\u001b[39;49m\u001b[43m,\u001b[49m\u001b[43m \u001b[49m\u001b[43mdt\u001b[49m\u001b[38;5;241;43m=\u001b[39;49m\u001b[38;5;241;43m900\u001b[39;49m\u001b[43m)\u001b[49m\n\u001b[1;32m      3\u001b[0m \u001b[38;5;28mprint\u001b[39m(pset)\n",
      "File \u001b[0;32m/opt/conda/lib/python3.10/site-packages/parcels/particleset/baseparticleset.py:452\u001b[0m, in \u001b[0;36mBaseParticleSet.execute\u001b[0;34m(self, pyfunc, pyfunc_inter, endtime, runtime, dt, moviedt, recovery, output_file, movie_background_field, verbose_progress, postIterationCallbacks, callbackdt)\u001b[0m\n\u001b[1;32m    450\u001b[0m \u001b[38;5;66;03m# If we don't perform interaction, only execute the normal kernel efficiently.\u001b[39;00m\n\u001b[1;32m    451\u001b[0m \u001b[38;5;28;01mif\u001b[39;00m \u001b[38;5;28mself\u001b[39m\u001b[38;5;241m.\u001b[39minteraction_kernel \u001b[38;5;129;01mis\u001b[39;00m \u001b[38;5;28;01mNone\u001b[39;00m:\n\u001b[0;32m--> 452\u001b[0m     \u001b[38;5;28;43mself\u001b[39;49m\u001b[38;5;241;43m.\u001b[39;49m\u001b[43mkernel\u001b[49m\u001b[38;5;241;43m.\u001b[39;49m\u001b[43mexecute\u001b[49m\u001b[43m(\u001b[49m\u001b[38;5;28;43mself\u001b[39;49m\u001b[43m,\u001b[49m\u001b[43m \u001b[49m\u001b[43mendtime\u001b[49m\u001b[38;5;241;43m=\u001b[39;49m\u001b[43mnext_time\u001b[49m\u001b[43m,\u001b[49m\u001b[43m \u001b[49m\u001b[43mdt\u001b[49m\u001b[38;5;241;43m=\u001b[39;49m\u001b[43mdt\u001b[49m\u001b[43m,\u001b[49m\u001b[43m \u001b[49m\u001b[43mrecovery\u001b[49m\u001b[38;5;241;43m=\u001b[39;49m\u001b[43mrecovery\u001b[49m\u001b[43m,\u001b[49m\u001b[43m \u001b[49m\u001b[43moutput_file\u001b[49m\u001b[38;5;241;43m=\u001b[39;49m\u001b[43moutput_file\u001b[49m\u001b[43m,\u001b[49m\n\u001b[1;32m    453\u001b[0m \u001b[43m                        \u001b[49m\u001b[43mexecute_once\u001b[49m\u001b[38;5;241;43m=\u001b[39;49m\u001b[43mexecute_once\u001b[49m\u001b[43m)\u001b[49m\n\u001b[1;32m    454\u001b[0m \u001b[38;5;66;03m# Interaction: interleave the interaction and non-interaction kernel for each time step.\u001b[39;00m\n\u001b[1;32m    455\u001b[0m \u001b[38;5;66;03m# E.g. Inter -> Normal -> Inter -> Normal if endtime-time == 2*dt\u001b[39;00m\n\u001b[1;32m    456\u001b[0m \u001b[38;5;28;01melse\u001b[39;00m:\n\u001b[1;32m    457\u001b[0m     cur_time \u001b[38;5;241m=\u001b[39m time\n",
      "File \u001b[0;32m/opt/conda/lib/python3.10/site-packages/parcels/kernel/kernelsoa.py:227\u001b[0m, in \u001b[0;36mKernelSOA.execute\u001b[0;34m(self, pset, endtime, dt, recovery, output_file, execute_once)\u001b[0m\n\u001b[1;32m    225\u001b[0m recovery_kernel \u001b[38;5;241m=\u001b[39m recovery_map[p\u001b[38;5;241m.\u001b[39mstate]\n\u001b[1;32m    226\u001b[0m p\u001b[38;5;241m.\u001b[39mset_state(StateCode\u001b[38;5;241m.\u001b[39mSuccess)\n\u001b[0;32m--> 227\u001b[0m \u001b[43mrecovery_kernel\u001b[49m\u001b[43m(\u001b[49m\u001b[43mp\u001b[49m\u001b[43m,\u001b[49m\u001b[43m \u001b[49m\u001b[38;5;28;43mself\u001b[39;49m\u001b[38;5;241;43m.\u001b[39;49m\u001b[43mfieldset\u001b[49m\u001b[43m,\u001b[49m\u001b[43m \u001b[49m\u001b[43mp\u001b[49m\u001b[38;5;241;43m.\u001b[39;49m\u001b[43mtime\u001b[49m\u001b[43m)\u001b[49m\n\u001b[1;32m    228\u001b[0m \u001b[38;5;28;01mif\u001b[39;00m p\u001b[38;5;241m.\u001b[39misComputed():\n\u001b[1;32m    229\u001b[0m     p\u001b[38;5;241m.\u001b[39mreset_state()\n",
      "File \u001b[0;32m/opt/conda/lib/python3.10/site-packages/parcels/tools/statuscodes.py:196\u001b[0m, in \u001b[0;36mrecovery_kernel_out_of_bounds\u001b[0;34m(particle, fieldset, time)\u001b[0m\n\u001b[1;32m    192\u001b[0m \u001b[38;5;124;03m\"\"\"Default sampling error kernel that throws OutOfBoundsError\"\"\"\u001b[39;00m\n\u001b[1;32m    193\u001b[0m \u001b[38;5;28;01mif\u001b[39;00m particle\u001b[38;5;241m.\u001b[39mexception \u001b[38;5;129;01mis\u001b[39;00m \u001b[38;5;28;01mNone\u001b[39;00m:\n\u001b[1;32m    194\u001b[0m     \u001b[38;5;66;03m# TODO: JIT does not yet provide the context that created\u001b[39;00m\n\u001b[1;32m    195\u001b[0m     \u001b[38;5;66;03m# the exception. We need to pass that info back from C.\u001b[39;00m\n\u001b[0;32m--> 196\u001b[0m     \u001b[38;5;28;01mraise\u001b[39;00m OutOfBoundsError(particle, fieldset)\n\u001b[1;32m    197\u001b[0m \u001b[38;5;28;01melse\u001b[39;00m:\n\u001b[1;32m    198\u001b[0m     error \u001b[38;5;241m=\u001b[39m particle\u001b[38;5;241m.\u001b[39mexception\n",
      "\u001b[0;31mOutOfBoundsError\u001b[0m: 0\nParticle P[0](lon=8.250000, lat=-23.250000, depth=1.000000, time=0.000000)\nTime: 2009-01-01T00:00:00.000000000,\ttimestep dt: 900.000000\nOut-of-bounds sampling by particle at (8.250000, -23.250000, 1.000000)"
     ]
    }
   ],
   "source": [
    "pset = ParticleSet(fieldset, JITParticle, lon=8.25, lat=-23.25, depth=1)\n",
    "pset.execute(AdvectionRK4_3D, runtime=186400, dt=900)\n",
    "print(pset)"
   ]
  },
  {
   "cell_type": "code",
   "execution_count": null,
   "id": "f8565892-7ac6-4a44-ae96-a77b808c7498",
   "metadata": {},
   "outputs": [],
   "source": []
  }
 ],
 "metadata": {
  "kernelspec": {
   "display_name": "Python 3 (ipykernel)",
   "language": "python",
   "name": "python3"
  },
  "language_info": {
   "codemirror_mode": {
    "name": "ipython",
    "version": 3
   },
   "file_extension": ".py",
   "mimetype": "text/x-python",
   "name": "python",
   "nbconvert_exporter": "python",
   "pygments_lexer": "ipython3",
   "version": "3.10.5"
  }
 },
 "nbformat": 4,
 "nbformat_minor": 5
}

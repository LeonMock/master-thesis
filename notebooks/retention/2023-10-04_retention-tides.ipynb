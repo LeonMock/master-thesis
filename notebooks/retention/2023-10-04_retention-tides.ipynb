{
 "cells": [
  {
   "cell_type": "raw",
   "id": "9498ce0f-20e0-4f18-800a-b5c157c8cd3d",
   "metadata": {},
   "source": [
    "from dask.distributed import Client"
   ]
  },
  {
   "cell_type": "raw",
   "id": "48dd6994-dff3-4d01-acb8-d132c857ff8a",
   "metadata": {},
   "source": [
    "client = Client(n_workers=12, threads_per_worker=2, memory_limit=8e9, ip=\"0.0.0.0\")\n",
    "client"
   ]
  },
  {
   "cell_type": "code",
   "execution_count": 2,
   "id": "febc6c80-04f3-43f8-b8f6-69842b6f7a93",
   "metadata": {},
   "outputs": [],
   "source": [
    "import xarray as xr\n",
    "import numpy as np\n",
    "import matplotlib.pyplot as plt\n",
    "import pandas as pd\n",
    "from scipy.spatial import ConvexHull\n",
    "from shapely.geometry import Polygon, Point"
   ]
  },
  {
   "cell_type": "code",
   "execution_count": 1,
   "id": "8ac9b639-61fc-4bb2-965d-ea3d62df7d28",
   "metadata": {
    "tags": [
     "parameters"
    ]
   },
   "outputs": [],
   "source": [
    "# parameters\n",
    "start_year = 2009\n",
    "start_month = 1\n",
    "start_day = 1"
   ]
  },
  {
   "cell_type": "code",
   "execution_count": 4,
   "id": "495213ea-21db-4134-b5bd-3a49c2b5bbec",
   "metadata": {},
   "outputs": [
    {
     "data": {
      "text/html": [
       "<div><svg style=\"position: absolute; width: 0; height: 0; overflow: hidden\">\n",
       "<defs>\n",
       "<symbol id=\"icon-database\" viewBox=\"0 0 32 32\">\n",
       "<path d=\"M16 0c-8.837 0-16 2.239-16 5v4c0 2.761 7.163 5 16 5s16-2.239 16-5v-4c0-2.761-7.163-5-16-5z\"></path>\n",
       "<path d=\"M16 17c-8.837 0-16-2.239-16-5v6c0 2.761 7.163 5 16 5s16-2.239 16-5v-6c0 2.761-7.163 5-16 5z\"></path>\n",
       "<path d=\"M16 26c-8.837 0-16-2.239-16-5v6c0 2.761 7.163 5 16 5s16-2.239 16-5v-6c0 2.761-7.163 5-16 5z\"></path>\n",
       "</symbol>\n",
       "<symbol id=\"icon-file-text2\" viewBox=\"0 0 32 32\">\n",
       "<path d=\"M28.681 7.159c-0.694-0.947-1.662-2.053-2.724-3.116s-2.169-2.030-3.116-2.724c-1.612-1.182-2.393-1.319-2.841-1.319h-15.5c-1.378 0-2.5 1.121-2.5 2.5v27c0 1.378 1.122 2.5 2.5 2.5h23c1.378 0 2.5-1.122 2.5-2.5v-19.5c0-0.448-0.137-1.23-1.319-2.841zM24.543 5.457c0.959 0.959 1.712 1.825 2.268 2.543h-4.811v-4.811c0.718 0.556 1.584 1.309 2.543 2.268zM28 29.5c0 0.271-0.229 0.5-0.5 0.5h-23c-0.271 0-0.5-0.229-0.5-0.5v-27c0-0.271 0.229-0.5 0.5-0.5 0 0 15.499-0 15.5 0v7c0 0.552 0.448 1 1 1h7v19.5z\"></path>\n",
       "<path d=\"M23 26h-14c-0.552 0-1-0.448-1-1s0.448-1 1-1h14c0.552 0 1 0.448 1 1s-0.448 1-1 1z\"></path>\n",
       "<path d=\"M23 22h-14c-0.552 0-1-0.448-1-1s0.448-1 1-1h14c0.552 0 1 0.448 1 1s-0.448 1-1 1z\"></path>\n",
       "<path d=\"M23 18h-14c-0.552 0-1-0.448-1-1s0.448-1 1-1h14c0.552 0 1 0.448 1 1s-0.448 1-1 1z\"></path>\n",
       "</symbol>\n",
       "</defs>\n",
       "</svg>\n",
       "<style>/* CSS stylesheet for displaying xarray objects in jupyterlab.\n",
       " *\n",
       " */\n",
       "\n",
       ":root {\n",
       "  --xr-font-color0: var(--jp-content-font-color0, rgba(0, 0, 0, 1));\n",
       "  --xr-font-color2: var(--jp-content-font-color2, rgba(0, 0, 0, 0.54));\n",
       "  --xr-font-color3: var(--jp-content-font-color3, rgba(0, 0, 0, 0.38));\n",
       "  --xr-border-color: var(--jp-border-color2, #e0e0e0);\n",
       "  --xr-disabled-color: var(--jp-layout-color3, #bdbdbd);\n",
       "  --xr-background-color: var(--jp-layout-color0, white);\n",
       "  --xr-background-color-row-even: var(--jp-layout-color1, white);\n",
       "  --xr-background-color-row-odd: var(--jp-layout-color2, #eeeeee);\n",
       "}\n",
       "\n",
       "html[theme=dark],\n",
       "body.vscode-dark {\n",
       "  --xr-font-color0: rgba(255, 255, 255, 1);\n",
       "  --xr-font-color2: rgba(255, 255, 255, 0.54);\n",
       "  --xr-font-color3: rgba(255, 255, 255, 0.38);\n",
       "  --xr-border-color: #1F1F1F;\n",
       "  --xr-disabled-color: #515151;\n",
       "  --xr-background-color: #111111;\n",
       "  --xr-background-color-row-even: #111111;\n",
       "  --xr-background-color-row-odd: #313131;\n",
       "}\n",
       "\n",
       ".xr-wrap {\n",
       "  display: block !important;\n",
       "  min-width: 300px;\n",
       "  max-width: 700px;\n",
       "}\n",
       "\n",
       ".xr-text-repr-fallback {\n",
       "  /* fallback to plain text repr when CSS is not injected (untrusted notebook) */\n",
       "  display: none;\n",
       "}\n",
       "\n",
       ".xr-header {\n",
       "  padding-top: 6px;\n",
       "  padding-bottom: 6px;\n",
       "  margin-bottom: 4px;\n",
       "  border-bottom: solid 1px var(--xr-border-color);\n",
       "}\n",
       "\n",
       ".xr-header > div,\n",
       ".xr-header > ul {\n",
       "  display: inline;\n",
       "  margin-top: 0;\n",
       "  margin-bottom: 0;\n",
       "}\n",
       "\n",
       ".xr-obj-type,\n",
       ".xr-array-name {\n",
       "  margin-left: 2px;\n",
       "  margin-right: 10px;\n",
       "}\n",
       "\n",
       ".xr-obj-type {\n",
       "  color: var(--xr-font-color2);\n",
       "}\n",
       "\n",
       ".xr-sections {\n",
       "  padding-left: 0 !important;\n",
       "  display: grid;\n",
       "  grid-template-columns: 150px auto auto 1fr 20px 20px;\n",
       "}\n",
       "\n",
       ".xr-section-item {\n",
       "  display: contents;\n",
       "}\n",
       "\n",
       ".xr-section-item input {\n",
       "  display: none;\n",
       "}\n",
       "\n",
       ".xr-section-item input + label {\n",
       "  color: var(--xr-disabled-color);\n",
       "}\n",
       "\n",
       ".xr-section-item input:enabled + label {\n",
       "  cursor: pointer;\n",
       "  color: var(--xr-font-color2);\n",
       "}\n",
       "\n",
       ".xr-section-item input:enabled + label:hover {\n",
       "  color: var(--xr-font-color0);\n",
       "}\n",
       "\n",
       ".xr-section-summary {\n",
       "  grid-column: 1;\n",
       "  color: var(--xr-font-color2);\n",
       "  font-weight: 500;\n",
       "}\n",
       "\n",
       ".xr-section-summary > span {\n",
       "  display: inline-block;\n",
       "  padding-left: 0.5em;\n",
       "}\n",
       "\n",
       ".xr-section-summary-in:disabled + label {\n",
       "  color: var(--xr-font-color2);\n",
       "}\n",
       "\n",
       ".xr-section-summary-in + label:before {\n",
       "  display: inline-block;\n",
       "  content: '►';\n",
       "  font-size: 11px;\n",
       "  width: 15px;\n",
       "  text-align: center;\n",
       "}\n",
       "\n",
       ".xr-section-summary-in:disabled + label:before {\n",
       "  color: var(--xr-disabled-color);\n",
       "}\n",
       "\n",
       ".xr-section-summary-in:checked + label:before {\n",
       "  content: '▼';\n",
       "}\n",
       "\n",
       ".xr-section-summary-in:checked + label > span {\n",
       "  display: none;\n",
       "}\n",
       "\n",
       ".xr-section-summary,\n",
       ".xr-section-inline-details {\n",
       "  padding-top: 4px;\n",
       "  padding-bottom: 4px;\n",
       "}\n",
       "\n",
       ".xr-section-inline-details {\n",
       "  grid-column: 2 / -1;\n",
       "}\n",
       "\n",
       ".xr-section-details {\n",
       "  display: none;\n",
       "  grid-column: 1 / -1;\n",
       "  margin-bottom: 5px;\n",
       "}\n",
       "\n",
       ".xr-section-summary-in:checked ~ .xr-section-details {\n",
       "  display: contents;\n",
       "}\n",
       "\n",
       ".xr-array-wrap {\n",
       "  grid-column: 1 / -1;\n",
       "  display: grid;\n",
       "  grid-template-columns: 20px auto;\n",
       "}\n",
       "\n",
       ".xr-array-wrap > label {\n",
       "  grid-column: 1;\n",
       "  vertical-align: top;\n",
       "}\n",
       "\n",
       ".xr-preview {\n",
       "  color: var(--xr-font-color3);\n",
       "}\n",
       "\n",
       ".xr-array-preview,\n",
       ".xr-array-data {\n",
       "  padding: 0 5px !important;\n",
       "  grid-column: 2;\n",
       "}\n",
       "\n",
       ".xr-array-data,\n",
       ".xr-array-in:checked ~ .xr-array-preview {\n",
       "  display: none;\n",
       "}\n",
       "\n",
       ".xr-array-in:checked ~ .xr-array-data,\n",
       ".xr-array-preview {\n",
       "  display: inline-block;\n",
       "}\n",
       "\n",
       ".xr-dim-list {\n",
       "  display: inline-block !important;\n",
       "  list-style: none;\n",
       "  padding: 0 !important;\n",
       "  margin: 0;\n",
       "}\n",
       "\n",
       ".xr-dim-list li {\n",
       "  display: inline-block;\n",
       "  padding: 0;\n",
       "  margin: 0;\n",
       "}\n",
       "\n",
       ".xr-dim-list:before {\n",
       "  content: '(';\n",
       "}\n",
       "\n",
       ".xr-dim-list:after {\n",
       "  content: ')';\n",
       "}\n",
       "\n",
       ".xr-dim-list li:not(:last-child):after {\n",
       "  content: ',';\n",
       "  padding-right: 5px;\n",
       "}\n",
       "\n",
       ".xr-has-index {\n",
       "  font-weight: bold;\n",
       "}\n",
       "\n",
       ".xr-var-list,\n",
       ".xr-var-item {\n",
       "  display: contents;\n",
       "}\n",
       "\n",
       ".xr-var-item > div,\n",
       ".xr-var-item label,\n",
       ".xr-var-item > .xr-var-name span {\n",
       "  background-color: var(--xr-background-color-row-even);\n",
       "  margin-bottom: 0;\n",
       "}\n",
       "\n",
       ".xr-var-item > .xr-var-name:hover span {\n",
       "  padding-right: 5px;\n",
       "}\n",
       "\n",
       ".xr-var-list > li:nth-child(odd) > div,\n",
       ".xr-var-list > li:nth-child(odd) > label,\n",
       ".xr-var-list > li:nth-child(odd) > .xr-var-name span {\n",
       "  background-color: var(--xr-background-color-row-odd);\n",
       "}\n",
       "\n",
       ".xr-var-name {\n",
       "  grid-column: 1;\n",
       "}\n",
       "\n",
       ".xr-var-dims {\n",
       "  grid-column: 2;\n",
       "}\n",
       "\n",
       ".xr-var-dtype {\n",
       "  grid-column: 3;\n",
       "  text-align: right;\n",
       "  color: var(--xr-font-color2);\n",
       "}\n",
       "\n",
       ".xr-var-preview {\n",
       "  grid-column: 4;\n",
       "}\n",
       "\n",
       ".xr-var-name,\n",
       ".xr-var-dims,\n",
       ".xr-var-dtype,\n",
       ".xr-preview,\n",
       ".xr-attrs dt {\n",
       "  white-space: nowrap;\n",
       "  overflow: hidden;\n",
       "  text-overflow: ellipsis;\n",
       "  padding-right: 10px;\n",
       "}\n",
       "\n",
       ".xr-var-name:hover,\n",
       ".xr-var-dims:hover,\n",
       ".xr-var-dtype:hover,\n",
       ".xr-attrs dt:hover {\n",
       "  overflow: visible;\n",
       "  width: auto;\n",
       "  z-index: 1;\n",
       "}\n",
       "\n",
       ".xr-var-attrs,\n",
       ".xr-var-data {\n",
       "  display: none;\n",
       "  background-color: var(--xr-background-color) !important;\n",
       "  padding-bottom: 5px !important;\n",
       "}\n",
       "\n",
       ".xr-var-attrs-in:checked ~ .xr-var-attrs,\n",
       ".xr-var-data-in:checked ~ .xr-var-data {\n",
       "  display: block;\n",
       "}\n",
       "\n",
       ".xr-var-data > table {\n",
       "  float: right;\n",
       "}\n",
       "\n",
       ".xr-var-name span,\n",
       ".xr-var-data,\n",
       ".xr-attrs {\n",
       "  padding-left: 25px !important;\n",
       "}\n",
       "\n",
       ".xr-attrs,\n",
       ".xr-var-attrs,\n",
       ".xr-var-data {\n",
       "  grid-column: 1 / -1;\n",
       "}\n",
       "\n",
       "dl.xr-attrs {\n",
       "  padding: 0;\n",
       "  margin: 0;\n",
       "  display: grid;\n",
       "  grid-template-columns: 125px auto;\n",
       "}\n",
       "\n",
       ".xr-attrs dt,\n",
       ".xr-attrs dd {\n",
       "  padding: 0;\n",
       "  margin: 0;\n",
       "  float: left;\n",
       "  padding-right: 10px;\n",
       "  width: auto;\n",
       "}\n",
       "\n",
       ".xr-attrs dt {\n",
       "  font-weight: normal;\n",
       "  grid-column: 1;\n",
       "}\n",
       "\n",
       ".xr-attrs dt:hover span {\n",
       "  display: inline-block;\n",
       "  background: var(--xr-background-color);\n",
       "  padding-right: 10px;\n",
       "}\n",
       "\n",
       ".xr-attrs dd {\n",
       "  grid-column: 2;\n",
       "  white-space: pre-wrap;\n",
       "  word-break: break-all;\n",
       "}\n",
       "\n",
       ".xr-icon-database,\n",
       ".xr-icon-file-text2 {\n",
       "  display: inline-block;\n",
       "  vertical-align: middle;\n",
       "  width: 1em;\n",
       "  height: 1.5em !important;\n",
       "  stroke-width: 0;\n",
       "  stroke: currentColor;\n",
       "  fill: currentColor;\n",
       "}\n",
       "</style><pre class='xr-text-repr-fallback'>&lt;xarray.Dataset&gt;\n",
       "Dimensions:     (traj: 100000, obs: 44)\n",
       "Dimensions without coordinates: traj, obs\n",
       "Data variables:\n",
       "    lon         (traj, obs) float64 ...\n",
       "    lat         (traj, obs) float64 ...\n",
       "    z           (traj, obs) float64 ...\n",
       "    time        (traj, obs) datetime64[ns] ...\n",
       "    trajectory  (traj, obs) float64 ...\n",
       "    topography  (traj, obs) float32 ...\n",
       "Attributes:\n",
       "    feature_type:           trajectory\n",
       "    Conventions:            CF-1.6/CF-1.7\n",
       "    ncei_template_version:  NCEI_NetCDF_Trajectory_Template_v2.0\n",
       "    parcels_version:        2.3.1\n",
       "    parcels_mesh:           spherical</pre><div class='xr-wrap' style='display:none'><div class='xr-header'><div class='xr-obj-type'>xarray.Dataset</div></div><ul class='xr-sections'><li class='xr-section-item'><input id='section-40f044a5-23c0-4091-b086-0595bf02ff86' class='xr-section-summary-in' type='checkbox' disabled ><label for='section-40f044a5-23c0-4091-b086-0595bf02ff86' class='xr-section-summary'  title='Expand/collapse section'>Dimensions:</label><div class='xr-section-inline-details'><ul class='xr-dim-list'><li><span>traj</span>: 100000</li><li><span>obs</span>: 44</li></ul></div><div class='xr-section-details'></div></li><li class='xr-section-item'><input id='section-5cde2477-cf44-4c96-960d-81240cce6531' class='xr-section-summary-in' type='checkbox' disabled ><label for='section-5cde2477-cf44-4c96-960d-81240cce6531' class='xr-section-summary'  title='Expand/collapse section'>Coordinates: <span>(0)</span></label><div class='xr-section-inline-details'></div><div class='xr-section-details'><ul class='xr-var-list'></ul></div></li><li class='xr-section-item'><input id='section-216fee5e-b56a-4882-82b3-d26b0d3d6f4c' class='xr-section-summary-in' type='checkbox'  checked><label for='section-216fee5e-b56a-4882-82b3-d26b0d3d6f4c' class='xr-section-summary' >Data variables: <span>(6)</span></label><div class='xr-section-inline-details'></div><div class='xr-section-details'><ul class='xr-var-list'><li class='xr-var-item'><div class='xr-var-name'><span>lon</span></div><div class='xr-var-dims'>(traj, obs)</div><div class='xr-var-dtype'>float64</div><div class='xr-var-preview xr-preview'>...</div><input id='attrs-731b1570-3ee4-40a6-a3ca-a9f5954a6438' class='xr-var-attrs-in' type='checkbox' ><label for='attrs-731b1570-3ee4-40a6-a3ca-a9f5954a6438' title='Show/Hide attributes'><svg class='icon xr-icon-file-text2'><use xlink:href='#icon-file-text2'></use></svg></label><input id='data-ece5ffdd-62e1-41d3-92df-fc8e9e4c0872' class='xr-var-data-in' type='checkbox'><label for='data-ece5ffdd-62e1-41d3-92df-fc8e9e4c0872' title='Show/Hide data repr'><svg class='icon xr-icon-database'><use xlink:href='#icon-database'></use></svg></label><div class='xr-var-attrs'><dl class='xr-attrs'><dt><span>long_name :</span></dt><dd></dd><dt><span>standard_name :</span></dt><dd>longitude</dd><dt><span>units :</span></dt><dd>degrees_east</dd><dt><span>axis :</span></dt><dd>X</dd></dl></div><div class='xr-var-data'><pre>[4400000 values with dtype=float64]</pre></div></li><li class='xr-var-item'><div class='xr-var-name'><span>lat</span></div><div class='xr-var-dims'>(traj, obs)</div><div class='xr-var-dtype'>float64</div><div class='xr-var-preview xr-preview'>...</div><input id='attrs-3dcba371-e134-4c71-8144-8777af38bd6d' class='xr-var-attrs-in' type='checkbox' ><label for='attrs-3dcba371-e134-4c71-8144-8777af38bd6d' title='Show/Hide attributes'><svg class='icon xr-icon-file-text2'><use xlink:href='#icon-file-text2'></use></svg></label><input id='data-80b11277-bedb-44fc-9935-0aa7c0215e3f' class='xr-var-data-in' type='checkbox'><label for='data-80b11277-bedb-44fc-9935-0aa7c0215e3f' title='Show/Hide data repr'><svg class='icon xr-icon-database'><use xlink:href='#icon-database'></use></svg></label><div class='xr-var-attrs'><dl class='xr-attrs'><dt><span>long_name :</span></dt><dd></dd><dt><span>standard_name :</span></dt><dd>latitude</dd><dt><span>units :</span></dt><dd>degrees_north</dd><dt><span>axis :</span></dt><dd>Y</dd></dl></div><div class='xr-var-data'><pre>[4400000 values with dtype=float64]</pre></div></li><li class='xr-var-item'><div class='xr-var-name'><span>z</span></div><div class='xr-var-dims'>(traj, obs)</div><div class='xr-var-dtype'>float64</div><div class='xr-var-preview xr-preview'>...</div><input id='attrs-d8611b55-3df5-465f-a1c7-d31b8d8d5cdd' class='xr-var-attrs-in' type='checkbox' ><label for='attrs-d8611b55-3df5-465f-a1c7-d31b8d8d5cdd' title='Show/Hide attributes'><svg class='icon xr-icon-file-text2'><use xlink:href='#icon-file-text2'></use></svg></label><input id='data-ebf36784-eac8-4528-a603-608b26af88ee' class='xr-var-data-in' type='checkbox'><label for='data-ebf36784-eac8-4528-a603-608b26af88ee' title='Show/Hide data repr'><svg class='icon xr-icon-database'><use xlink:href='#icon-database'></use></svg></label><div class='xr-var-attrs'><dl class='xr-attrs'><dt><span>long_name :</span></dt><dd></dd><dt><span>standard_name :</span></dt><dd>depth</dd><dt><span>units :</span></dt><dd>m</dd><dt><span>positive :</span></dt><dd>down</dd></dl></div><div class='xr-var-data'><pre>[4400000 values with dtype=float64]</pre></div></li><li class='xr-var-item'><div class='xr-var-name'><span>time</span></div><div class='xr-var-dims'>(traj, obs)</div><div class='xr-var-dtype'>datetime64[ns]</div><div class='xr-var-preview xr-preview'>...</div><input id='attrs-fae9f688-8ffe-4f7e-a478-f1edc5d31367' class='xr-var-attrs-in' type='checkbox' ><label for='attrs-fae9f688-8ffe-4f7e-a478-f1edc5d31367' title='Show/Hide attributes'><svg class='icon xr-icon-file-text2'><use xlink:href='#icon-file-text2'></use></svg></label><input id='data-c57fc0ac-23d0-420f-8ca3-7ae76d2eabae' class='xr-var-data-in' type='checkbox'><label for='data-c57fc0ac-23d0-420f-8ca3-7ae76d2eabae' title='Show/Hide data repr'><svg class='icon xr-icon-database'><use xlink:href='#icon-database'></use></svg></label><div class='xr-var-attrs'><dl class='xr-attrs'><dt><span>long_name :</span></dt><dd></dd><dt><span>standard_name :</span></dt><dd>time</dd><dt><span>axis :</span></dt><dd>T</dd></dl></div><div class='xr-var-data'><pre>[4400000 values with dtype=datetime64[ns]]</pre></div></li><li class='xr-var-item'><div class='xr-var-name'><span>trajectory</span></div><div class='xr-var-dims'>(traj, obs)</div><div class='xr-var-dtype'>float64</div><div class='xr-var-preview xr-preview'>...</div><input id='attrs-d29348b6-5a93-432e-bf7b-66e870b30454' class='xr-var-attrs-in' type='checkbox' ><label for='attrs-d29348b6-5a93-432e-bf7b-66e870b30454' title='Show/Hide attributes'><svg class='icon xr-icon-file-text2'><use xlink:href='#icon-file-text2'></use></svg></label><input id='data-fd956667-6d2c-4a77-8831-b623c8e2e947' class='xr-var-data-in' type='checkbox'><label for='data-fd956667-6d2c-4a77-8831-b623c8e2e947' title='Show/Hide data repr'><svg class='icon xr-icon-database'><use xlink:href='#icon-database'></use></svg></label><div class='xr-var-attrs'><dl class='xr-attrs'><dt><span>long_name :</span></dt><dd>Unique identifier for each particle</dd><dt><span>cf_role :</span></dt><dd>trajectory_id</dd></dl></div><div class='xr-var-data'><pre>[4400000 values with dtype=float64]</pre></div></li><li class='xr-var-item'><div class='xr-var-name'><span>topography</span></div><div class='xr-var-dims'>(traj, obs)</div><div class='xr-var-dtype'>float32</div><div class='xr-var-preview xr-preview'>...</div><input id='attrs-e2b99e99-5980-4095-a19c-44ca16c63e6a' class='xr-var-attrs-in' type='checkbox' ><label for='attrs-e2b99e99-5980-4095-a19c-44ca16c63e6a' title='Show/Hide attributes'><svg class='icon xr-icon-file-text2'><use xlink:href='#icon-file-text2'></use></svg></label><input id='data-75b351d0-51ad-46df-8780-0b3ea26221ef' class='xr-var-data-in' type='checkbox'><label for='data-75b351d0-51ad-46df-8780-0b3ea26221ef' title='Show/Hide data repr'><svg class='icon xr-icon-database'><use xlink:href='#icon-database'></use></svg></label><div class='xr-var-attrs'><dl class='xr-attrs'><dt><span>long_name :</span></dt><dd></dd><dt><span>standard_name :</span></dt><dd>topography</dd><dt><span>units :</span></dt><dd>unknown</dd></dl></div><div class='xr-var-data'><pre>[4400000 values with dtype=float32]</pre></div></li></ul></div></li><li class='xr-section-item'><input id='section-2e0d2f27-85a0-4a89-bb22-0a6fef21fabd' class='xr-section-summary-in' type='checkbox'  checked><label for='section-2e0d2f27-85a0-4a89-bb22-0a6fef21fabd' class='xr-section-summary' >Attributes: <span>(5)</span></label><div class='xr-section-inline-details'></div><div class='xr-section-details'><dl class='xr-attrs'><dt><span>feature_type :</span></dt><dd>trajectory</dd><dt><span>Conventions :</span></dt><dd>CF-1.6/CF-1.7</dd><dt><span>ncei_template_version :</span></dt><dd>NCEI_NetCDF_Trajectory_Template_v2.0</dd><dt><span>parcels_version :</span></dt><dd>2.3.1</dd><dt><span>parcels_mesh :</span></dt><dd>spherical</dd></dl></div></li></ul></div></div>"
      ],
      "text/plain": [
       "<xarray.Dataset>\n",
       "Dimensions:     (traj: 100000, obs: 44)\n",
       "Dimensions without coordinates: traj, obs\n",
       "Data variables:\n",
       "    lon         (traj, obs) float64 ...\n",
       "    lat         (traj, obs) float64 ...\n",
       "    z           (traj, obs) float64 ...\n",
       "    time        (traj, obs) datetime64[ns] ...\n",
       "    trajectory  (traj, obs) float64 ...\n",
       "    topography  (traj, obs) float32 ...\n",
       "Attributes:\n",
       "    feature_type:           trajectory\n",
       "    Conventions:            CF-1.6/CF-1.7\n",
       "    ncei_template_version:  NCEI_NetCDF_Trajectory_Template_v2.0\n",
       "    parcels_version:        2.3.1\n",
       "    parcels_mesh:           spherical"
      ]
     },
     "execution_count": 4,
     "metadata": {},
     "output_type": "execute_result"
    }
   ],
   "source": [
    "INALT_mask=xr.open_dataset('/gxfs_work1/geomar/smomw044/prep_data_iAtlantic_LMock/INALT20.L46-KFS104/1_mesh_mask_iMirabilis.nc')\n",
    "particle_ds = xr.open_dataset(f'/gxfs_work1/geomar/smomw523/master-thesis/output_data/INALT20.L46-KFS104/Tides-Column_test_1500_{start_year:04d}{start_month:02d}{start_day:02d}_RT-42_N-100000_seed-12345.nc')\n",
    "#SIGMA=xr.open_dataset('/gxfs_work1/geomar/smomw523/master-thesis/data/config/ROMS/sigma2depth_parent.nc')\n",
    "#ROMS_ds = xr.open_dataset(f'/gxfs_work1/geomar/smomw523/master-thesis/output_data/ROMS/Track-Column_test_1500_{start_year:04d}{start_month:02d}{start_day:02d}_RT-42_N-100000_seed-12345.nc')\n",
    "#SIGMA_child=xr.open_dataset('/gxfs_work1/geomar/smomw523/master-thesis/data/config/ROMS/sigma2depth_child.nc')\n",
    "#ROMSchild_ds = xr.open_dataset(f'/gxfs_work1/geomar/smomw523/master-thesis/output_data/ROMS_child/Track-Column_test_1500_{start_year:04d}{start_month:02d}{start_day:02d}_RT-42_N-100000_seed-12345.nc')\n",
    "particle_ds"
   ]
  },
  {
   "cell_type": "code",
   "execution_count": 5,
   "id": "dee55623-cf70-48f7-b983-3cd16a656249",
   "metadata": {},
   "outputs": [
    {
     "data": {
      "text/plain": [
       "<matplotlib.collections.QuadMesh at 0x7fec18ec5a50>"
      ]
     },
     "execution_count": 5,
     "metadata": {},
     "output_type": "execute_result"
    },
    {
     "data": {
      "image/png": "[encoded data removed]",
      "text/plain": [
       "<Figure size 1080x288 with 2 Axes>"
      ]
     },
     "metadata": {
      "needs_background": "light"
     },
     "output_type": "display_data"
    }
   ],
   "source": [
    "topo_INALT = np.sum((INALT_mask.tmask*INALT_mask.e3t_0).isel(t=0),axis=0)\n",
    "topo_INALT = topo_INALT.assign_coords({\"lon\": INALT_mask.glamt.isel(t=0,y=0),\n",
    "                                       \"lat\": INALT_mask.gphit.isel(t=0,x=0),\n",
    "                                      })\n",
    "topo_INALT = topo_INALT.swap_dims({'x': 'lon', 'y': 'lat'})\n",
    "\n",
    "plt.figure(figsize=(15,4))\n",
    "plt.subplot(1, 3,1)\n",
    "topo_INALT.sel(lon=slice(8,8.5),lat=slice(-23.5,-23)).plot()\n",
    "#plt.subplot(1, 3,2)\n",
    "#SIGMA.h.plot()\n",
    "#plt.subplot(1, 3,3)\n",
    "#SIGMA_child.h.plot();"
   ]
  },
  {
   "cell_type": "code",
   "execution_count": 6,
   "id": "c4be9528-0778-4b9d-b2ba-2f6ef2519120",
   "metadata": {},
   "outputs": [],
   "source": [
    "MLD = pd.read_csv('/gxfs_work1/geomar/smomw523/master-thesis/output_data/retention/MLD2009_s001_EOS80-tides.csv',index_col=0)"
   ]
  },
  {
   "cell_type": "code",
   "execution_count": 7,
   "id": "ef289302-e84d-47c0-ab4f-4d926ace037f",
   "metadata": {},
   "outputs": [],
   "source": [
    "# Mixed layer depth at release day\n",
    "MLD_INALT_1d = MLD.INALT[f'{start_year:04d}-{start_month:02d}-{start_day:02d}']\n",
    "#MLD_ROMS_1d = MLD.ROMS[f'{start_year:04d}-{start_month:02d}-{start_day:02d}']\n",
    "#MLD_ROMSchild_1d = MLD.ROMSchild[f'{start_year:04d}-{start_month:02d}-{start_day:02d}']"
   ]
  },
  {
   "cell_type": "code",
   "execution_count": 8,
   "id": "ed72eb85-a64a-4632-a526-c99afe52d030",
   "metadata": {},
   "outputs": [],
   "source": [
    "#Mixed layer depth first 5 days\n",
    "MLD_INALT_5d = np.mean(MLD.INALT[MLD.INALT.index.get_loc(f'{start_year:04d}-{start_month:02d}-{start_day:02d}'):(\n",
    "    MLD.INALT.index.get_loc(f'{start_year:04d}-{start_month:02d}-{start_day:02d}')+5)])\n",
    "#MLD_ROMS_5d = np.mean(MLD.ROMS[MLD.ROMS.index.get_loc(f'{start_year:04d}-{start_month:02d}-{start_day:02d}'):(\n",
    "#    MLD.ROMS.index.get_loc(f'{start_year:04d}-{start_month:02d}-{start_day:02d}')+5)])\n",
    "#MLD_ROMSchild_5d = np.mean(MLD.ROMSchild[MLD.ROMSchild.index.get_loc(f'{start_year:04d}-{start_month:02d}-{start_day:02d}'):(\n",
    "#    MLD.ROMSchild.index.get_loc(f'{start_year:04d}-{start_month:02d}-{start_day:02d}')+5)])"
   ]
  },
  {
   "cell_type": "code",
   "execution_count": 9,
   "id": "c1f8d25c-8c3d-485b-b65b-8f48d9c191e7",
   "metadata": {},
   "outputs": [
    {
     "name": "stdout",
     "output_type": "stream",
     "text": [
      "16.363964 16.363964\n"
     ]
    }
   ],
   "source": [
    "print(MLD_INALT_1d,MLD_INALT_5d)\n",
    "#print(MLD_ROMS_5d,MLD_ROMS_1d)\n",
    "#print(MLD_ROMSchild_5d,MLD_ROMSchild_1d)"
   ]
  },
  {
   "cell_type": "code",
   "execution_count": 10,
   "id": "e23bd49d-47b2-4297-9d87-ea48222e77c0",
   "metadata": {},
   "outputs": [],
   "source": [
    "releasepoints_INALT = pd.read_csv('/gxfs_work1/geomar/smomw523/master-thesis/data/config/releasepoints_INALT.csv',usecols=[2,1]).reindex(columns=['lon','lat'])\n",
    "#releasepoints_ROMS = pd.read_csv('/gxfs_work1/geomar/smomw523/master-thesis/data/config/releasepoints_ROMS.csv',usecols=[2,1]).reindex(columns=['lon','lat'])\n",
    "#releasepoints_ROMSchild = pd.read_csv('/gxfs_work1/geomar/smomw523/master-thesis/data/config/releasepoints_ROMSchild.csv',usecols=[2,1]).reindex(columns=['lon','lat'])"
   ]
  },
  {
   "cell_type": "code",
   "execution_count": 11,
   "id": "aa833d9c-530e-4739-9a5b-72d09bb5a9e5",
   "metadata": {},
   "outputs": [
    {
     "data": {
      "text/plain": [
       "<matplotlib.collections.PathCollection at 0x7fec10c78fa0>"
      ]
     },
     "execution_count": 11,
     "metadata": {},
     "output_type": "execute_result"
    },
    {
     "data": {
      "image/png": "[encoded data removed]",
      "text/plain": [
       "<Figure size 1080x288 with 1 Axes>"
      ]
     },
     "metadata": {
      "needs_background": "light"
     },
     "output_type": "display_data"
    }
   ],
   "source": [
    "plt.figure(figsize=(15,4))\n",
    "plt.subplot(1, 3,1)\n",
    "plt.pcolormesh(topo_INALT.sel(lon=slice(8,8.6),lat=slice(-23.5,-23)).lon,\n",
    "            topo_INALT.sel(lon=slice(8,8.6),lat=slice(-23.5,-23)).lat,\n",
    "            topo_INALT.sel(lon=slice(8,8.6),lat=slice(-23.5,-23)))#,levels=20)\n",
    "cl_INALT=plt.contour(topo_INALT.sel(lon=slice(8,8.6),lat=slice(-23.5,-23)).lon,\n",
    "            topo_INALT.sel(lon=slice(8,8.6),lat=slice(-23.5,-23)).lat,\n",
    "            topo_INALT.sel(lon=slice(8,8.6),lat=slice(-23.5,-23)),levels=[1500])\n",
    "plt.scatter(releasepoints_INALT['lon'],releasepoints_INALT['lat'],s=0.01,color='red')\n",
    "\n",
    "# plt.subplot(1, 3,2)\n",
    "# plt.pcolormesh(SIGMA.h.sel(lon_rho=slice(8,8.6),lat_rho=slice(-23.5,-23)).lon_rho,\n",
    "#             SIGMA.h.sel(lon_rho=slice(8,8.6),lat_rho=slice(-23.5,-23)).lat_rho,\n",
    "#             SIGMA.h.sel(lon_rho=slice(8,8.6),lat_rho=slice(-23.5,-23)))#,levels=20)\n",
    "# cl_ROMS=plt.contour(SIGMA.h.sel(lon_rho=slice(8,8.6),lat_rho=slice(-23.5,-23)).lon_rho,\n",
    "#             SIGMA.h.sel(lon_rho=slice(8,8.6),lat_rho=slice(-23.5,-23)).lat_rho,\n",
    "#             SIGMA.h.sel(lon_rho=slice(8,8.6),lat_rho=slice(-23.5,-23)),levels=[1500])\n",
    "# plt.scatter(releasepoints_ROMS['lon'],releasepoints_ROMS['lat'],s=0.01,color='red')\n",
    "# #ROMS_ds.isel(obs=0).plot.scatter(x='lon',y='lat',s=0.01,color='red')\n",
    "\n",
    "# plt.subplot(1, 3,3)\n",
    "# plt.pcolormesh(SIGMA_child.h.sel(lon_rho=slice(8,8.6),lat_rho=slice(-23.5,-23)).lon_rho,\n",
    "#             SIGMA_child.h.sel(lon_rho=slice(8,8.6),lat_rho=slice(-23.5,-23)).lat_rho,\n",
    "#             SIGMA_child.h.sel(lon_rho=slice(8,8.6),lat_rho=slice(-23.5,-23)))#,levels=20)\n",
    "# cl_ROMSchild=plt.contour(SIGMA_child.h.sel(lon_rho=slice(8,8.6),lat_rho=slice(-23.5,-23)).lon_rho,\n",
    "#             SIGMA_child.h.sel(lon_rho=slice(8,8.6),lat_rho=slice(-23.5,-23)).lat_rho,\n",
    "#             SIGMA_child.h.sel(lon_rho=slice(8,8.6),lat_rho=slice(-23.5,-23)),levels=[1500])\n",
    "# plt.scatter(releasepoints_ROMSchild['lon'],releasepoints_ROMSchild['lat'],s=0.01,color='red')\n",
    "# #ROMSchild_ds.isel(obs=0).plot.scatter(x='lon',y='lat',s=0.01,color='red');"
   ]
  },
  {
   "cell_type": "code",
   "execution_count": 12,
   "id": "d7f7b63b-744c-4a0d-967f-edee70f79bbe",
   "metadata": {},
   "outputs": [
    {
     "data": {
      "text/plain": [
       "<matplotlib.collections.PathCollection at 0x7fec10c79630>"
      ]
     },
     "execution_count": 12,
     "metadata": {},
     "output_type": "execute_result"
    },
    {
     "data": {
      "image/png": "[encoded data removed]",
      "text/plain": [
       "<Figure size 1080x288 with 1 Axes>"
      ]
     },
     "metadata": {
      "needs_background": "light"
     },
     "output_type": "display_data"
    }
   ],
   "source": [
    "plt.figure(figsize=(15,4))\n",
    "plt.subplot(1, 3,1)\n",
    "plt.pcolormesh(topo_INALT.sel(lon=slice(8,8.6),lat=slice(-23.5,-23)).lon,\n",
    "            topo_INALT.sel(lon=slice(8,8.6),lat=slice(-23.5,-23)).lat,\n",
    "            topo_INALT.sel(lon=slice(8,8.6),lat=slice(-23.5,-23)))#,levels=20)\n",
    "cl_INALT=plt.contour(topo_INALT.sel(lon=slice(8,8.6),lat=slice(-23.5,-23)).lon,\n",
    "            topo_INALT.sel(lon=slice(8,8.6),lat=slice(-23.5,-23)).lat,\n",
    "            topo_INALT.sel(lon=slice(8,8.6),lat=slice(-23.5,-23)),levels=[1500])\n",
    "particle_ds.isel(obs=0).plot.scatter(x='lon',y='lat',s=0.1,color='red')\n",
    "\n",
    "# plt.subplot(1, 3,2)\n",
    "# plt.pcolormesh(SIGMA.h.sel(lon_rho=slice(8,8.6),lat_rho=slice(-23.5,-23)).lon_rho,\n",
    "#             SIGMA.h.sel(lon_rho=slice(8,8.6),lat_rho=slice(-23.5,-23)).lat_rho,\n",
    "#             SIGMA.h.sel(lon_rho=slice(8,8.6),lat_rho=slice(-23.5,-23)))#,levels=20)\n",
    "# cl_ROMS=plt.contour(SIGMA.h.sel(lon_rho=slice(8,8.6),lat_rho=slice(-23.5,-23)).lon_rho,\n",
    "#             SIGMA.h.sel(lon_rho=slice(8,8.6),lat_rho=slice(-23.5,-23)).lat_rho,\n",
    "#             SIGMA.h.sel(lon_rho=slice(8,8.6),lat_rho=slice(-23.5,-23)),levels=[1500])\n",
    "# ROMS_ds.isel(obs=0).plot.scatter(x='lon',y='lat',s=0.1,color='red')\n",
    "\n",
    "# plt.subplot(1, 3,3)\n",
    "# plt.pcolormesh(SIGMA_child.h.sel(lon_rho=slice(8,8.6),lat_rho=slice(-23.5,-23)).lon_rho,\n",
    "#             SIGMA_child.h.sel(lon_rho=slice(8,8.6),lat_rho=slice(-23.5,-23)).lat_rho,\n",
    "#             SIGMA_child.h.sel(lon_rho=slice(8,8.6),lat_rho=slice(-23.5,-23)))#,levels=20)\n",
    "# cl_ROMSchild=plt.contour(SIGMA_child.h.sel(lon_rho=slice(8,8.6),lat_rho=slice(-23.5,-23)).lon_rho,\n",
    "#             SIGMA_child.h.sel(lon_rho=slice(8,8.6),lat_rho=slice(-23.5,-23)).lat_rho,\n",
    "#             SIGMA_child.h.sel(lon_rho=slice(8,8.6),lat_rho=slice(-23.5,-23)),levels=[1500])\n",
    "# ROMSchild_ds.isel(obs=0).plot.scatter(x='lon',y='lat',s=0.1,color='red');"
   ]
  },
  {
   "cell_type": "code",
   "execution_count": 13,
   "id": "47e68949-fca4-4638-a303-a80fa68bb932",
   "metadata": {},
   "outputs": [],
   "source": [
    "hull_INALT=ConvexHull(releasepoints_INALT.to_numpy())\n",
    "# hull_ROMS=ConvexHull(releasepoints_ROMS.to_numpy())\n",
    "# hull_ROMSchild=ConvexHull(releasepoints_ROMSchild.to_numpy())\n",
    "\n",
    "#INALT\n",
    "x = releasepoints_INALT.to_numpy()[hull_INALT.vertices, 0]\n",
    "y = releasepoints_INALT.to_numpy()[hull_INALT.vertices, 1]\n",
    "#z = releasepoints_INALT.to_numpy()[hull_INALT.vertices, 2]\n",
    "poly_INALT = Polygon([(i[0], i[1]) for i in zip(x,y)])\n",
    "    \n",
    "# #ROMS\n",
    "# x = releasepoints_ROMS.to_numpy()[hull_ROMS.vertices, 0]\n",
    "# y = releasepoints_ROMS.to_numpy()[hull_ROMS.vertices, 1]\n",
    "# #z = releasepoints_ROMS.to_numpy()[hull_ROMS.vertices, 2]\n",
    "# poly_ROMS = Polygon([(i[0], i[1]) for i in zip(x,y)])\n",
    "    \n",
    "# #ROMSchild\n",
    "# x = releasepoints_ROMSchild.to_numpy()[hull_ROMSchild.vertices, 0]\n",
    "# y = releasepoints_ROMSchild.to_numpy()[hull_ROMSchild.vertices, 1]\n",
    "# #z = releasepoints_ROMSchild.to_numpy()[hull_ROMSchild.vertices, 2]\n",
    "# poly_ROMSchild = Polygon([(i[0], i[1]) for i in zip(x,y)])"
   ]
  },
  {
   "cell_type": "code",
   "execution_count": 14,
   "id": "6745dc80-b883-44f2-a16d-2795c4f5d765",
   "metadata": {},
   "outputs": [
    {
     "data": {
      "image/svg+xml": [
       "<svg xmlns=\"http://www.w3.org/2000/svg\" xmlns:xlink=\"http://www.w3.org/1999/xlink\" width=\"100.0\" height=\"100.0\" viewBox=\"8.167001717215465 -23.312497081555332 0.21599278437349412 0.1998042845557677\" preserveAspectRatio=\"xMinYMin meet\"><g transform=\"matrix(1,0,0,-1,0,-46.425189878554896)\"><path fill-rule=\"evenodd\" fill=\"#66cc99\" stroke=\"#555555\" stroke-width=\"0.004319855687469882\" opacity=\"0.6\" d=\"M 8.37462772780448,-23.166717991666925 L 8.32482190252609,-23.120764617518464 L 8.324099683107642,-23.120700977764617 L 8.320144473409194,-23.12069425827957 L 8.175655926294887,-23.120692529754137 L 8.17512465796122,-23.122409455003577 L 8.175020255243863,-23.12464762964779 L 8.175001449970038,-23.15736927694859 L 8.175004054531897,-23.2433312396258 L 8.175004528500905,-23.255859306638424 L 8.175105451249589,-23.257684731534063 L 8.175133688566163,-23.25778042377564 L 8.225214488932597,-23.30391574565826 L 8.225875032847481,-23.304250116298704 L 8.227259042660126,-23.30430741028448 L 8.232470769654688,-23.304441701574795 L 8.234942248770512,-23.304487362413894 L 8.238947264201002,-23.30449734880076 L 8.321946438101213,-23.304497284519723 L 8.323096542292259,-23.30449626748409 L 8.323858668730718,-23.30435020610816 L 8.324912972683562,-23.303941351875636 L 8.37465594617362,-23.258258517631745 L 8.374986407214147,-23.25691758557916 L 8.374989274882157,-23.24673395428015 L 8.374994768834386,-23.20632315540778 L 8.37498341820924,-23.18114527495989 L 8.374966994856075,-23.17510879594245 L 8.374943975511044,-23.172998651833595 L 8.374860812599886,-23.169495123494947 L 8.374726857241475,-23.16739910374221 L 8.37462772780448,-23.166717991666925 z\" /></g></svg>"
      ],
      "text/plain": [
       "<shapely.geometry.polygon.Polygon at 0x7fec10ca9c00>"
      ]
     },
     "execution_count": 14,
     "metadata": {},
     "output_type": "execute_result"
    }
   ],
   "source": [
    "poly_INALT"
   ]
  },
  {
   "cell_type": "raw",
   "id": "11e6e99d-1214-4bb3-b2de-25ee3ad404ae",
   "metadata": {},
   "source": [
    "poly_ROMS"
   ]
  },
  {
   "cell_type": "raw",
   "id": "34f91ecb-7972-4787-b2a1-472d0dfe7a75",
   "metadata": {},
   "source": [
    "poly_ROMSchild"
   ]
  },
  {
   "cell_type": "code",
   "execution_count": 15,
   "id": "7a5165b4-9c39-4fed-a101-85b5d9e019aa",
   "metadata": {},
   "outputs": [],
   "source": [
    "particle_ds['depthdiff'] = particle_ds.topography-particle_ds.z\n",
    "# ROMS_ds['depthdiff'] = ROMS_ds.topography-ROMS_ds.z\n",
    "# ROMSchild_ds['depthdiff'] = ROMSchild_ds.topography-ROMSchild_ds.z"
   ]
  },
  {
   "cell_type": "code",
   "execution_count": 16,
   "id": "d12b803f-864a-4aeb-b777-14cfef25d4ed",
   "metadata": {},
   "outputs": [
    {
     "name": "stdout",
     "output_type": "stream",
     "text": [
      "CPU times: user 16.6 s, sys: 375 ms, total: 16.9 s\n",
      "Wall time: 17 s\n"
     ]
    }
   ],
   "source": [
    "%%time\n",
    "\n",
    "df_INALT1 = particle_ds.where(particle_ds.isel(obs=0).z<=MLD_INALT_5d,drop=True).to_dataframe()\n",
    "df_INALT2 = particle_ds.where((particle_ds.isel(obs=0).z>MLD_INALT_5d) & (particle_ds.isel(obs=0).depthdiff > 100),drop=True).to_dataframe()\n",
    "df_INALT3 = particle_ds.where((particle_ds.isel(obs=0).depthdiff < 100), drop=True).to_dataframe()\n",
    "\n",
    "# df_ROMS1 = ROMS_ds.where(ROMS_ds.isel(obs=0).z<=MLD_ROMS_5d,drop=True).to_dataframe()\n",
    "# df_ROMS2 = ROMS_ds.where((ROMS_ds.isel(obs=0).z>MLD_ROMS_5d) & (ROMS_ds.isel(obs=0).depthdiff > 100),drop=True).to_dataframe()\n",
    "# df_ROMS3 = ROMS_ds.where((ROMS_ds.isel(obs=0).depthdiff < 100),drop=True).to_dataframe()\n",
    "\n",
    "# df_ROMSchild1 = ROMSchild_ds.where(ROMSchild_ds.isel(obs=0).z<=MLD_ROMSchild_5d,drop=True).to_dataframe()\n",
    "# df_ROMSchild2 = ROMSchild_ds.where((ROMSchild_ds.isel(obs=0).z>MLD_ROMSchild_5d) & (ROMSchild_ds.isel(obs=0).depthdiff > 100),drop=True).to_dataframe()\n",
    "# df_ROMSchild3 = ROMSchild_ds.where((ROMSchild_ds.isel(obs=0).depthdiff < 100),drop=True).to_dataframe()"
   ]
  },
  {
   "cell_type": "code",
   "execution_count": 17,
   "id": "ecf9d575-ebee-4053-a55e-5d01db52b0c6",
   "metadata": {},
   "outputs": [
    {
     "name": "stdout",
     "output_type": "stream",
     "text": [
      "CPU times: user 2min 36s, sys: 1.35 s, total: 2min 37s\n",
      "Wall time: 2min 37s\n"
     ]
    }
   ],
   "source": [
    "%%time\n",
    "\n",
    "df_INALT1[\"is_in_level\"] = df_INALT1.apply(lambda row: poly_INALT.contains(\n",
    "    Point(row.loc[\"lon\"], row.loc[\"lat\"])), axis=1)\n",
    "df_INALT2[\"is_in_level\"] = df_INALT2.apply(lambda row: poly_INALT.contains(\n",
    "    Point(row.loc[\"lon\"], row.loc[\"lat\"])), axis=1)\n",
    "df_INALT3[\"is_in_level\"] = df_INALT3.apply(lambda row: poly_INALT.contains(\n",
    "    Point(row.loc[\"lon\"], row.loc[\"lat\"])), axis=1)\n",
    "\n",
    "# df_ROMS1[\"is_in_level\"] = df_ROMS1.apply(lambda row: poly_ROMS.contains(\n",
    "#      Point(row.loc[\"lon\"], row.loc[\"lat\"])), axis=1)\n",
    "# df_ROMS2[\"is_in_level\"] = df_ROMS2.apply(lambda row: poly_ROMS.contains(\n",
    "#      Point(row.loc[\"lon\"], row.loc[\"lat\"])), axis=1)\n",
    "# df_ROMS3[\"is_in_level\"] = df_ROMS3.apply(lambda row: poly_ROMS.contains(\n",
    "#      Point(row.loc[\"lon\"], row.loc[\"lat\"])), axis=1)\n",
    "# df_ROMSchild1[\"is_in_level\"] = df_ROMSchild1.apply(lambda row: poly_ROMSchild.contains(\n",
    "#      Point(row.loc[\"lon\"], row.loc[\"lat\"])), axis=1)\n",
    "# df_ROMSchild2[\"is_in_level\"] = df_ROMSchild2.apply(lambda row: poly_ROMSchild.contains(\n",
    "#      Point(row.loc[\"lon\"], row.loc[\"lat\"])), axis=1)\n",
    "# df_ROMSchild3[\"is_in_level\"] = df_ROMSchild3.apply(lambda row: poly_ROMSchild.contains(\n",
    "#      Point(row.loc[\"lon\"], row.loc[\"lat\"])), axis=1)"
   ]
  },
  {
   "cell_type": "code",
   "execution_count": 18,
   "id": "bce0e5df-1e95-4253-aacd-fd98898e1335",
   "metadata": {},
   "outputs": [],
   "source": [
    "INALT_1bool_xr = df_INALT1.to_xarray()\n",
    "# ROMS_1bool_xr, ROMSchild_1bool_xr = df_ROMS1.to_xarray(), df_ROMSchild1.to_xarray()\n",
    "INALT_2bool_xr = df_INALT2.to_xarray()\n",
    "# ROMS_2bool_xr, ROMSchild_2bool_xr = df_ROMS2.to_xarray(), df_ROMSchild2.to_xarray()\n",
    "INALT_3bool_xr = df_INALT3.to_xarray()\n",
    "# ROMS_3bool_xr, ROMSchild_3bool_xr = df_ROMS3.to_xarray(), df_ROMSchild3.to_xarray()"
   ]
  },
  {
   "cell_type": "code",
   "execution_count": 19,
   "id": "9bfe46b0-790b-428e-9019-6c8c6a789612",
   "metadata": {},
   "outputs": [],
   "source": [
    "atmount_INALT1, atmount_ROMS1, atmount_ROMSchild1 = [], [], []\n",
    "atmount_INALT2, atmount_ROMS2, atmount_ROMSchild2 = [], [], []\n",
    "atmount_INALT3, atmount_ROMS3, atmount_ROMSchild3 = [], [], []\n",
    "\n",
    "for i in np.arange(len(INALT_1bool_xr.obs)):\n",
    "    cut1 = INALT_1bool_xr.where(INALT_1bool_xr.sel(obs=i).is_in_level == True, drop = True)\n",
    "    atmount_INALT1.append(len(cut1.traj)/len(INALT_1bool_xr.isel(obs=0).traj))\n",
    "for i in np.arange(len(INALT_2bool_xr.obs)):\n",
    "    cut2 = INALT_2bool_xr.where(INALT_2bool_xr.sel(obs=i).is_in_level == True, drop = True)\n",
    "    atmount_INALT2.append(len(cut2.traj)/len(INALT_2bool_xr.isel(obs=0).traj))\n",
    "for i in np.arange(len(INALT_3bool_xr.obs)):\n",
    "    cut3 = INALT_3bool_xr.where((INALT_3bool_xr.sel(obs=i).is_in_level == True) & (\n",
    "        INALT_3bool_xr.sel(obs=i).depthdiff < 100), drop = True)\n",
    "    atmount_INALT3.append(len(cut3.traj)/len(INALT_3bool_xr.isel(obs=0).traj))\n",
    "    \n",
    "# for i in np.arange(len(ROMS_1bool_xr.obs)):\n",
    "#     cut4 = ROMS_1bool_xr.where(ROMS_1bool_xr.sel(obs=i).is_in_level == True, drop = True)\n",
    "#     atmount_ROMS1.append(len(cut4.traj)/len(ROMS_1bool_xr.isel(obs=0).traj))\n",
    "# for i in np.arange(len(ROMS_2bool_xr.obs)):\n",
    "#     cut5 = ROMS_2bool_xr.where(ROMS_2bool_xr.sel(obs=i).is_in_level == True, drop = True)\n",
    "#     atmount_ROMS2.append(len(cut5.traj)/len(ROMS_2bool_xr.isel(obs=0).traj))\n",
    "# for i in np.arange(len(ROMS_3bool_xr.obs)):\n",
    "#     cut6 = ROMS_3bool_xr.where((ROMS_3bool_xr.sel(obs=i).is_in_level == True),# & (\n",
    "#         #ROMS_3bool_xr.sel(obs=i).depthdiff < 100),\n",
    "#         drop = True)\n",
    "#     atmount_ROMS3.append(len(cut6.traj)/len(ROMS_3bool_xr.isel(obs=0).traj))\n",
    "    \n",
    "# for i in np.arange(len(ROMSchild_1bool_xr.obs)):\n",
    "#     cut7 = ROMSchild_1bool_xr.where(ROMSchild_1bool_xr.sel(obs=i).is_in_level == True, drop = True)\n",
    "#     atmount_ROMSchild1.append(len(cut7.traj)/len(ROMSchild_1bool_xr.isel(obs=0).traj))\n",
    "# for i in np.arange(len(ROMSchild_2bool_xr.obs)):\n",
    "#     cut8 = ROMSchild_2bool_xr.where(ROMSchild_2bool_xr.sel(obs=i).is_in_level == True, drop = True)\n",
    "#     atmount_ROMSchild2.append(len(cut8.traj)/len(ROMSchild_2bool_xr.isel(obs=0).traj))\n",
    "# for i in np.arange(len(ROMSchild_3bool_xr.obs)):\n",
    "#     cut9 = ROMSchild_3bool_xr.where((ROMSchild_3bool_xr.sel(obs=i).is_in_level == True) & (\n",
    "#         ROMSchild_3bool_xr.sel(obs=i).depthdiff < 100), drop = True)\n",
    "#     atmount_ROMSchild3.append(len(cut9.traj)/len(ROMSchild_3bool_xr.isel(obs=0).traj))"
   ]
  },
  {
   "cell_type": "code",
   "execution_count": 20,
   "id": "1a5befc9-2d44-45da-9d97-7e8897cf6a10",
   "metadata": {
    "tags": []
   },
   "outputs": [],
   "source": [
    "dict = {'INALT-ML': atmount_INALT1,'INALT-rest': atmount_INALT2,'INALT-bottom-100': atmount_INALT3,\n",
    "        #'ROMS-ML': atmount_ROMS1,'ROMS-rest': atmount_ROMS2,'ROMS-bottom-100': atmount_ROMS3,\n",
    "        # 'ROMSchild-ML': atmount_ROMSchild1,'ROMSchild-rest': atmount_ROMSchild2,'ROMSchild-bottom-100': atmount_ROMSchild3,\n",
    "       }"
   ]
  },
  {
   "cell_type": "code",
   "execution_count": 21,
   "id": "b06e9e29-1a5d-4c74-809f-71bb149c3083",
   "metadata": {},
   "outputs": [],
   "source": [
    "pd.DataFrame(dict).to_csv(f'/gxfs_work1/geomar/smomw523/master-thesis/output_data/retention/tides/{start_year:04d}{start_month:02d}{start_day:02d}.csv')"
   ]
  },
  {
   "cell_type": "code",
   "execution_count": 22,
   "id": "2d1851e0-c34a-47e1-a5d4-ced593342069",
   "metadata": {},
   "outputs": [
    {
     "name": "stdout",
     "output_type": "stream",
     "text": [
      "Level 1:\n",
      "INALT is below the 1/e threshold at obs = 3.0.\n"
     ]
    },
    {
     "data": {
      "image/png": "[encoded data removed]",
      "text/plain": [
       "<Figure size 432x288 with 1 Axes>"
      ]
     },
     "metadata": {
      "needs_background": "light"
     },
     "output_type": "display_data"
    }
   ],
   "source": [
    "plt.plot(atmount_INALT1,label='INALT')\n",
    "#plt.plot(atmount_ROMS1, color = 'tab:brown',label='ROMS')\n",
    "#plt.plot(atmount_ROMSchild1, color = 'green',label='ROMS child')\n",
    "\n",
    "threshold = 1/np.e\n",
    "\n",
    "lines = plt.gca().get_lines()\n",
    "x_data = lines[0].get_xdata()\n",
    "y_data1 = lines[0].get_ydata()\n",
    "#y_data2 = lines[1].get_ydata()\n",
    "#y_data3 = lines[2].get_ydata()\n",
    "\n",
    "intersec_INALT = None\n",
    "#intersec_ROMS = None\n",
    "#intersec_ROMSchild = None\n",
    "\n",
    "for i in range(len(x_data)):\n",
    "    if y_data1[i] < threshold and intersec_INALT is None:\n",
    "        intersec_INALT = x_data[i]\n",
    "    #if y_data2[i] < threshold and intersec_ROMS is None:\n",
    "    #    intersec_ROMS = x_data[i]\n",
    "    #if y_data3[i] < threshold and intersec_ROMSchild is None:\n",
    "    #    intersec_ROMSchild = x_data[i]\n",
    "\n",
    "#Intersec times\n",
    "print(\"Level 1:\")\n",
    "if intersec_INALT is not None:\n",
    "    print(f\"INALT is below the 1/e threshold at obs = {intersec_INALT}.\")\n",
    "else:\n",
    "    print(f\"INALT does not pass the 1/e threshold.\")\n",
    "\n",
    "#if intersec_ROMS is not None:\n",
    "#    print(f\"ROMS (parent) is below the 1/e threshold at obs = {intersec_ROMS}.\")\n",
    "#else:\n",
    "#    print(f\"ROMS (parent) does not pass the 1/e threshold.\")\n",
    "\n",
    "#if intersec_ROMSchild is not None:\n",
    "#    print(f\"ROMS (child) is below the 1/e threshold at obs = {intersec_ROMSchild}.\")\n",
    "#else:\n",
    "#    print(f\"ROMS (child) does not pass the 1/e threshold.\")\n",
    "\n",
    "plt.axhline(y=threshold, color='gray', linestyle='-.')\n",
    "plt.text(42.5,0.35,'1/e',fontsize=12)\n",
    "plt.xticks([0,7,14,21,28,35,42],fontsize=12)\n",
    "plt.yticks([0,0.2,.4,.6,.8,1],['0%','20%','40%','60%','80%','100%'],fontsize=12)\n",
    "plt.xlim([0,42])\n",
    "plt.ylim([0,1])\n",
    "plt.ylabel('Particles in seamount column',fontsize=12)\n",
    "plt.xlabel('Days since dispersal',fontsize=12)\n",
    "\n",
    "plt.legend(fontsize=12)\n",
    "plt.show()"
   ]
  },
  {
   "cell_type": "code",
   "execution_count": 23,
   "id": "75f5b9d9-499e-41e9-a7e2-7b2920c451ab",
   "metadata": {},
   "outputs": [
    {
     "name": "stdout",
     "output_type": "stream",
     "text": [
      "Level 2:\n",
      "INALT is below the 1/e threshold at obs = 8.0.\n"
     ]
    },
    {
     "data": {
      "image/png": "[encoded data removed]",
      "text/plain": [
       "<Figure size 432x288 with 1 Axes>"
      ]
     },
     "metadata": {
      "needs_background": "light"
     },
     "output_type": "display_data"
    }
   ],
   "source": [
    "plt.plot(atmount_INALT2,label='INALT')\n",
    "#plt.plot(atmount_ROMS2, color = 'tab:brown',label='ROMS')\n",
    "#plt.plot(atmount_ROMSchild2, color = 'green',label='ROMS child')\n",
    "\n",
    "threshold = 1/np.e\n",
    "\n",
    "lines = plt.gca().get_lines()\n",
    "x_data = lines[0].get_xdata()\n",
    "y_data1 = lines[0].get_ydata()\n",
    "#y_data2 = lines[1].get_ydata()\n",
    "#y_data3 = lines[2].get_ydata()\n",
    "\n",
    "intersec_INALT = None\n",
    "#intersec_ROMS = None\n",
    "#intersec_ROMSchild = None\n",
    "\n",
    "for i in range(len(x_data)):\n",
    "    if y_data1[i] < threshold and intersec_INALT is None:\n",
    "        intersec_INALT = x_data[i]\n",
    "    #if y_data2[i] < threshold and intersec_ROMS is None:\n",
    "    #    intersec_ROMS = x_data[i]\n",
    "    #if y_data3[i] < threshold and intersec_ROMSchild is None:\n",
    "    #    intersec_ROMSchild = x_data[i]\n",
    "\n",
    "#Intersec times\n",
    "print(\"Level 2:\")\n",
    "if intersec_INALT is not None:\n",
    "    print(f\"INALT is below the 1/e threshold at obs = {intersec_INALT}.\")\n",
    "else:\n",
    "    print(f\"INALT does not pass the 1/e threshold.\")\n",
    "\n",
    "#if intersec_ROMS is not None:\n",
    "#    print(f\"ROMS (parent) is below the 1/e threshold at obs = {intersec_ROMS}.\")\n",
    "#else:\n",
    "#    print(f\"ROMS (parent) does not pass the 1/e threshold.\")\n",
    "\n",
    "#if intersec_ROMSchild is not None:\n",
    "#    print(f\"ROMS (child) is below the 1/e threshold at obs = {intersec_ROMSchild}.\")\n",
    "#else:\n",
    "#    print(f\"ROMS (child) does not pass the 1/e threshold.\")\n",
    "\n",
    "plt.axhline(y=threshold, color='gray', linestyle='-.')\n",
    "plt.text(42.5,0.35,'1/e',fontsize=12)\n",
    "plt.text(42.5,0.35,'1/e',fontsize=12)\n",
    "plt.xticks([0,7,14,21,28,35,42],fontsize=12)\n",
    "plt.yticks([0,0.2,.4,.6,.8,1],['0%','20%','40%','60%','80%','100%'],fontsize=12)\n",
    "plt.xlim([0,42])\n",
    "plt.ylim([0,1])\n",
    "plt.ylabel('Particles in seamount column',fontsize=12)\n",
    "plt.xlabel('Days since dispersal',fontsize=12)\n",
    "\n",
    "plt.legend(fontsize=12)\n",
    "plt.show()"
   ]
  },
  {
   "cell_type": "code",
   "execution_count": 24,
   "id": "6f790731-1403-4123-8610-71bdb8cfad5f",
   "metadata": {},
   "outputs": [
    {
     "name": "stdout",
     "output_type": "stream",
     "text": [
      "Level 3:\n",
      "INALT is below the 1/e threshold at obs = 31.0.\n"
     ]
    },
    {
     "data": {
      "image/png": "[encoded data removed]",
      "text/plain": [
       "<Figure size 432x288 with 1 Axes>"
      ]
     },
     "metadata": {
      "needs_background": "light"
     },
     "output_type": "display_data"
    }
   ],
   "source": [
    "plt.plot(atmount_INALT3,label='INALT')\n",
    "#plt.plot(atmount_ROMS3, color = 'tab:brown',label='ROMS')\n",
    "#plt.plot(atmount_ROMSchild3, color = 'green',label='ROMS child')\n",
    "\n",
    "threshold = 1/np.e\n",
    "\n",
    "lines = plt.gca().get_lines()\n",
    "x_data = lines[0].get_xdata()\n",
    "y_data1 = lines[0].get_ydata()\n",
    "#y_data2 = lines[1].get_ydata()\n",
    "#y_data3 = lines[2].get_ydata()\n",
    "\n",
    "intersec_INALT = None\n",
    "#intersec_ROMS = None\n",
    "#intersec_ROMSchild = None\n",
    "\n",
    "for i in range(len(x_data)):\n",
    "    if y_data1[i] < threshold and intersec_INALT is None:\n",
    "        intersec_INALT = x_data[i]\n",
    "    #if y_data2[i] < threshold and intersec_ROMS is None:\n",
    "    #    intersec_ROMS = x_data[i]\n",
    "    #if y_data3[i] < threshold and intersec_ROMSchild is None:\n",
    "    #    intersec_ROMSchild = x_data[i]\n",
    "\n",
    "#Intersec times\n",
    "print(\"Level 3:\")\n",
    "if intersec_INALT is not None:\n",
    "    print(f\"INALT is below the 1/e threshold at obs = {intersec_INALT}.\")\n",
    "else:\n",
    "    print(f\"INALT does not pass the 1/e threshold.\")\n",
    "\n",
    "#if intersec_ROMS is not None:\n",
    "#    print(f\"ROMS (parent) is below the 1/e threshold at obs = {intersec_ROMS}.\")\n",
    "#else:\n",
    "#    print(f\"ROMS (parent) does not pass the 1/e threshold.\")\n",
    "\n",
    "#if intersec_ROMSchild is not None:\n",
    "#    print(f\"ROMS (child) is below the 1/e threshold at obs = {intersec_ROMSchild}.\")\n",
    "#else:\n",
    "#    print(f\"ROMS (child) does not pass the 1/e threshold.\")\n",
    "\n",
    "plt.axhline(y=threshold, color='gray', linestyle='-.')\n",
    "plt.text(42.5,0.35,'1/e',fontsize=12)\n",
    "plt.text(42.5,0.35,'1/e',fontsize=12)\n",
    "plt.xticks([0,7,14,21,28,35,42],fontsize=12)\n",
    "plt.yticks([0,0.2,.4,.6,.8,1],['0%','20%','40%','60%','80%','100%'],fontsize=12)\n",
    "plt.xlim([0,42])\n",
    "plt.ylim([0,1])\n",
    "plt.ylabel('Particles in seamount column',fontsize=12)\n",
    "plt.xlabel('Days since dispersal',fontsize=12)\n",
    "\n",
    "plt.legend(fontsize=12)\n",
    "plt.show()"
   ]
  },
  {
   "cell_type": "raw",
   "id": "aca3c79c-b9a3-4de5-b9d2-7cfc7c662c90",
   "metadata": {},
   "source": [
    "plt.figure(figsize=(10,6))\n",
    "q=plt.plot(atmount_INALT1, color = 'tab:blue',label='INALT')\n",
    "linestyle1 = plt.plot(0,0,label=f'upper {levels_INALT[0]}m',color='black')\n",
    "w=plt.plot(atmount_ROMS1, color = 'tab:brown',label='ROMS')\n",
    "linestyle2 = plt.plot(0,0,linestyle='--',label=f'{levels_ROMS[0]}-{levels_ROMS[1]}m',color='black')\n",
    "e=plt.plot(atmount_ROMSchild1, color = 'green',label='ROMS child')\n",
    "linestyle3 = plt.plot(0,0,linestyle='dotted',label=f'{levels[1]}-{levels[2]}m',color='black')\n",
    "r=plt.plot(atmount_INALT2, color = 'tab:blue', linestyle='--')\n",
    "t=plt.plot(atmount_ROMS2, color = 'tab:brown', linestyle='--')\n",
    "a=plt.plot(atmount_ROMSchild2, color = 'green', linestyle='--')\n",
    "s=plt.plot(atmount_INALT3, color = 'tab:blue', linestyle='dotted')\n",
    "d=plt.plot(atmount_ROMS3, color = 'tab:brown', linestyle='dotted')\n",
    "f=plt.plot(atmount_ROMSchild3, color = 'green', linestyle='dotted')\n",
    "\n",
    "\n",
    "plt.axhline(y=threshold, color='gray', linestyle='-.')\n",
    "plt.text(42.5,0.35,'1/e',fontsize=12)\n",
    "plt.xticks([0,7,14,21,28,35,42],fontsize=12)\n",
    "plt.yticks([0,0.2,.4,.6,.8,1],['0%','20%','40%','60%','80%','100%'],fontsize=12)\n",
    "plt.xlim([0,42])\n",
    "plt.ylim([0,1])\n",
    "plt.ylabel('Particles in seamount column',fontsize=12)\n",
    "plt.xlabel('Days since dispersal',fontsize=12)\n",
    "\n",
    "h, l = (q+w+e+r+t+a+s+d+f),['INALT',f'upper {levels[0]}m','ROMS (parent)',\n",
    "                           f'{levels[0]}-{levels[1]}m', 'ROMS (child)', f'{levels[1]}-{levels[2]}m']\n",
    "ph = [plt.plot([],marker=\"\", ls=\"\")[0]]*2\n",
    "handles = ph + h\n",
    "labels = [\"Model:\", \"Depth:\"] + l\n",
    "leg=plt.legend(handles, labels, ncol=4,loc=(.05,-.27),fontsize=12);"
   ]
  },
  {
   "cell_type": "code",
   "execution_count": null,
   "id": "d7eb4cc4-3caa-4e9a-a678-ffacd6142dd0",
   "metadata": {},
   "outputs": [],
   "source": []
  }
 ],
 "metadata": {
  "kernelspec": {
   "display_name": "Python 3 (ipykernel)",
   "language": "python",
   "name": "python3"
  },
  "language_info": {
   "codemirror_mode": {
    "name": "ipython",
    "version": 3
   },
   "file_extension": ".py",
   "mimetype": "text/x-python",
   "name": "python",
   "nbconvert_exporter": "python",
   "pygments_lexer": "ipython3",
   "version": "3.10.5"
  }
 },
 "nbformat": 4,
 "nbformat_minor": 5
}

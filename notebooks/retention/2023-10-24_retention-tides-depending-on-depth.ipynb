{
 "cells": [
  {
   "cell_type": "raw",
   "id": "9498ce0f-20e0-4f18-800a-b5c157c8cd3d",
   "metadata": {},
   "source": [
    "from dask.distributed import Client"
   ]
  },
  {
   "cell_type": "raw",
   "id": "48dd6994-dff3-4d01-acb8-d132c857ff8a",
   "metadata": {},
   "source": [
    "client = Client(n_workers=12, threads_per_worker=2, memory_limit=8e9, ip=\"0.0.0.0\")\n",
    "client"
   ]
  },
  {
   "cell_type": "code",
   "execution_count": 16,
   "id": "febc6c80-04f3-43f8-b8f6-69842b6f7a93",
   "metadata": {},
   "outputs": [],
   "source": [
    "import xarray as xr\n",
    "import numpy as np\n",
    "import matplotlib.pyplot as plt\n",
    "import pandas as pd\n",
    "from scipy.spatial import ConvexHull\n",
    "from shapely.geometry import Polygon, Point\n",
    "from tqdm import tqdm"
   ]
  },
  {
   "cell_type": "code",
   "execution_count": 2,
   "id": "8ac9b639-61fc-4bb2-965d-ea3d62df7d28",
   "metadata": {
    "tags": [
     "parameters"
    ]
   },
   "outputs": [],
   "source": [
    "# parameters\n",
    "start_year = 2009\n",
    "start_month = 1\n",
    "start_day = 1"
   ]
  },
  {
   "cell_type": "code",
   "execution_count": 3,
   "id": "495213ea-21db-4134-b5bd-3a49c2b5bbec",
   "metadata": {},
   "outputs": [
    {
     "data": {
      "text/html": [
       "<div><svg style=\"position: absolute; width: 0; height: 0; overflow: hidden\">\n",
       "<defs>\n",
       "<symbol id=\"icon-database\" viewBox=\"0 0 32 32\">\n",
       "<path d=\"M16 0c-8.837 0-16 2.239-16 5v4c0 2.761 7.163 5 16 5s16-2.239 16-5v-4c0-2.761-7.163-5-16-5z\"></path>\n",
       "<path d=\"M16 17c-8.837 0-16-2.239-16-5v6c0 2.761 7.163 5 16 5s16-2.239 16-5v-6c0 2.761-7.163 5-16 5z\"></path>\n",
       "<path d=\"M16 26c-8.837 0-16-2.239-16-5v6c0 2.761 7.163 5 16 5s16-2.239 16-5v-6c0 2.761-7.163 5-16 5z\"></path>\n",
       "</symbol>\n",
       "<symbol id=\"icon-file-text2\" viewBox=\"0 0 32 32\">\n",
       "<path d=\"M28.681 7.159c-0.694-0.947-1.662-2.053-2.724-3.116s-2.169-2.030-3.116-2.724c-1.612-1.182-2.393-1.319-2.841-1.319h-15.5c-1.378 0-2.5 1.121-2.5 2.5v27c0 1.378 1.122 2.5 2.5 2.5h23c1.378 0 2.5-1.122 2.5-2.5v-19.5c0-0.448-0.137-1.23-1.319-2.841zM24.543 5.457c0.959 0.959 1.712 1.825 2.268 2.543h-4.811v-4.811c0.718 0.556 1.584 1.309 2.543 2.268zM28 29.5c0 0.271-0.229 0.5-0.5 0.5h-23c-0.271 0-0.5-0.229-0.5-0.5v-27c0-0.271 0.229-0.5 0.5-0.5 0 0 15.499-0 15.5 0v7c0 0.552 0.448 1 1 1h7v19.5z\"></path>\n",
       "<path d=\"M23 26h-14c-0.552 0-1-0.448-1-1s0.448-1 1-1h14c0.552 0 1 0.448 1 1s-0.448 1-1 1z\"></path>\n",
       "<path d=\"M23 22h-14c-0.552 0-1-0.448-1-1s0.448-1 1-1h14c0.552 0 1 0.448 1 1s-0.448 1-1 1z\"></path>\n",
       "<path d=\"M23 18h-14c-0.552 0-1-0.448-1-1s0.448-1 1-1h14c0.552 0 1 0.448 1 1s-0.448 1-1 1z\"></path>\n",
       "</symbol>\n",
       "</defs>\n",
       "</svg>\n",
       "<style>/* CSS stylesheet for displaying xarray objects in jupyterlab.\n",
       " *\n",
       " */\n",
       "\n",
       ":root {\n",
       "  --xr-font-color0: var(--jp-content-font-color0, rgba(0, 0, 0, 1));\n",
       "  --xr-font-color2: var(--jp-content-font-color2, rgba(0, 0, 0, 0.54));\n",
       "  --xr-font-color3: var(--jp-content-font-color3, rgba(0, 0, 0, 0.38));\n",
       "  --xr-border-color: var(--jp-border-color2, #e0e0e0);\n",
       "  --xr-disabled-color: var(--jp-layout-color3, #bdbdbd);\n",
       "  --xr-background-color: var(--jp-layout-color0, white);\n",
       "  --xr-background-color-row-even: var(--jp-layout-color1, white);\n",
       "  --xr-background-color-row-odd: var(--jp-layout-color2, #eeeeee);\n",
       "}\n",
       "\n",
       "html[theme=dark],\n",
       "body.vscode-dark {\n",
       "  --xr-font-color0: rgba(255, 255, 255, 1);\n",
       "  --xr-font-color2: rgba(255, 255, 255, 0.54);\n",
       "  --xr-font-color3: rgba(255, 255, 255, 0.38);\n",
       "  --xr-border-color: #1F1F1F;\n",
       "  --xr-disabled-color: #515151;\n",
       "  --xr-background-color: #111111;\n",
       "  --xr-background-color-row-even: #111111;\n",
       "  --xr-background-color-row-odd: #313131;\n",
       "}\n",
       "\n",
       ".xr-wrap {\n",
       "  display: block !important;\n",
       "  min-width: 300px;\n",
       "  max-width: 700px;\n",
       "}\n",
       "\n",
       ".xr-text-repr-fallback {\n",
       "  /* fallback to plain text repr when CSS is not injected (untrusted notebook) */\n",
       "  display: none;\n",
       "}\n",
       "\n",
       ".xr-header {\n",
       "  padding-top: 6px;\n",
       "  padding-bottom: 6px;\n",
       "  margin-bottom: 4px;\n",
       "  border-bottom: solid 1px var(--xr-border-color);\n",
       "}\n",
       "\n",
       ".xr-header > div,\n",
       ".xr-header > ul {\n",
       "  display: inline;\n",
       "  margin-top: 0;\n",
       "  margin-bottom: 0;\n",
       "}\n",
       "\n",
       ".xr-obj-type,\n",
       ".xr-array-name {\n",
       "  margin-left: 2px;\n",
       "  margin-right: 10px;\n",
       "}\n",
       "\n",
       ".xr-obj-type {\n",
       "  color: var(--xr-font-color2);\n",
       "}\n",
       "\n",
       ".xr-sections {\n",
       "  padding-left: 0 !important;\n",
       "  display: grid;\n",
       "  grid-template-columns: 150px auto auto 1fr 20px 20px;\n",
       "}\n",
       "\n",
       ".xr-section-item {\n",
       "  display: contents;\n",
       "}\n",
       "\n",
       ".xr-section-item input {\n",
       "  display: none;\n",
       "}\n",
       "\n",
       ".xr-section-item input + label {\n",
       "  color: var(--xr-disabled-color);\n",
       "}\n",
       "\n",
       ".xr-section-item input:enabled + label {\n",
       "  cursor: pointer;\n",
       "  color: var(--xr-font-color2);\n",
       "}\n",
       "\n",
       ".xr-section-item input:enabled + label:hover {\n",
       "  color: var(--xr-font-color0);\n",
       "}\n",
       "\n",
       ".xr-section-summary {\n",
       "  grid-column: 1;\n",
       "  color: var(--xr-font-color2);\n",
       "  font-weight: 500;\n",
       "}\n",
       "\n",
       ".xr-section-summary > span {\n",
       "  display: inline-block;\n",
       "  padding-left: 0.5em;\n",
       "}\n",
       "\n",
       ".xr-section-summary-in:disabled + label {\n",
       "  color: var(--xr-font-color2);\n",
       "}\n",
       "\n",
       ".xr-section-summary-in + label:before {\n",
       "  display: inline-block;\n",
       "  content: '►';\n",
       "  font-size: 11px;\n",
       "  width: 15px;\n",
       "  text-align: center;\n",
       "}\n",
       "\n",
       ".xr-section-summary-in:disabled + label:before {\n",
       "  color: var(--xr-disabled-color);\n",
       "}\n",
       "\n",
       ".xr-section-summary-in:checked + label:before {\n",
       "  content: '▼';\n",
       "}\n",
       "\n",
       ".xr-section-summary-in:checked + label > span {\n",
       "  display: none;\n",
       "}\n",
       "\n",
       ".xr-section-summary,\n",
       ".xr-section-inline-details {\n",
       "  padding-top: 4px;\n",
       "  padding-bottom: 4px;\n",
       "}\n",
       "\n",
       ".xr-section-inline-details {\n",
       "  grid-column: 2 / -1;\n",
       "}\n",
       "\n",
       ".xr-section-details {\n",
       "  display: none;\n",
       "  grid-column: 1 / -1;\n",
       "  margin-bottom: 5px;\n",
       "}\n",
       "\n",
       ".xr-section-summary-in:checked ~ .xr-section-details {\n",
       "  display: contents;\n",
       "}\n",
       "\n",
       ".xr-array-wrap {\n",
       "  grid-column: 1 / -1;\n",
       "  display: grid;\n",
       "  grid-template-columns: 20px auto;\n",
       "}\n",
       "\n",
       ".xr-array-wrap > label {\n",
       "  grid-column: 1;\n",
       "  vertical-align: top;\n",
       "}\n",
       "\n",
       ".xr-preview {\n",
       "  color: var(--xr-font-color3);\n",
       "}\n",
       "\n",
       ".xr-array-preview,\n",
       ".xr-array-data {\n",
       "  padding: 0 5px !important;\n",
       "  grid-column: 2;\n",
       "}\n",
       "\n",
       ".xr-array-data,\n",
       ".xr-array-in:checked ~ .xr-array-preview {\n",
       "  display: none;\n",
       "}\n",
       "\n",
       ".xr-array-in:checked ~ .xr-array-data,\n",
       ".xr-array-preview {\n",
       "  display: inline-block;\n",
       "}\n",
       "\n",
       ".xr-dim-list {\n",
       "  display: inline-block !important;\n",
       "  list-style: none;\n",
       "  padding: 0 !important;\n",
       "  margin: 0;\n",
       "}\n",
       "\n",
       ".xr-dim-list li {\n",
       "  display: inline-block;\n",
       "  padding: 0;\n",
       "  margin: 0;\n",
       "}\n",
       "\n",
       ".xr-dim-list:before {\n",
       "  content: '(';\n",
       "}\n",
       "\n",
       ".xr-dim-list:after {\n",
       "  content: ')';\n",
       "}\n",
       "\n",
       ".xr-dim-list li:not(:last-child):after {\n",
       "  content: ',';\n",
       "  padding-right: 5px;\n",
       "}\n",
       "\n",
       ".xr-has-index {\n",
       "  font-weight: bold;\n",
       "}\n",
       "\n",
       ".xr-var-list,\n",
       ".xr-var-item {\n",
       "  display: contents;\n",
       "}\n",
       "\n",
       ".xr-var-item > div,\n",
       ".xr-var-item label,\n",
       ".xr-var-item > .xr-var-name span {\n",
       "  background-color: var(--xr-background-color-row-even);\n",
       "  margin-bottom: 0;\n",
       "}\n",
       "\n",
       ".xr-var-item > .xr-var-name:hover span {\n",
       "  padding-right: 5px;\n",
       "}\n",
       "\n",
       ".xr-var-list > li:nth-child(odd) > div,\n",
       ".xr-var-list > li:nth-child(odd) > label,\n",
       ".xr-var-list > li:nth-child(odd) > .xr-var-name span {\n",
       "  background-color: var(--xr-background-color-row-odd);\n",
       "}\n",
       "\n",
       ".xr-var-name {\n",
       "  grid-column: 1;\n",
       "}\n",
       "\n",
       ".xr-var-dims {\n",
       "  grid-column: 2;\n",
       "}\n",
       "\n",
       ".xr-var-dtype {\n",
       "  grid-column: 3;\n",
       "  text-align: right;\n",
       "  color: var(--xr-font-color2);\n",
       "}\n",
       "\n",
       ".xr-var-preview {\n",
       "  grid-column: 4;\n",
       "}\n",
       "\n",
       ".xr-var-name,\n",
       ".xr-var-dims,\n",
       ".xr-var-dtype,\n",
       ".xr-preview,\n",
       ".xr-attrs dt {\n",
       "  white-space: nowrap;\n",
       "  overflow: hidden;\n",
       "  text-overflow: ellipsis;\n",
       "  padding-right: 10px;\n",
       "}\n",
       "\n",
       ".xr-var-name:hover,\n",
       ".xr-var-dims:hover,\n",
       ".xr-var-dtype:hover,\n",
       ".xr-attrs dt:hover {\n",
       "  overflow: visible;\n",
       "  width: auto;\n",
       "  z-index: 1;\n",
       "}\n",
       "\n",
       ".xr-var-attrs,\n",
       ".xr-var-data {\n",
       "  display: none;\n",
       "  background-color: var(--xr-background-color) !important;\n",
       "  padding-bottom: 5px !important;\n",
       "}\n",
       "\n",
       ".xr-var-attrs-in:checked ~ .xr-var-attrs,\n",
       ".xr-var-data-in:checked ~ .xr-var-data {\n",
       "  display: block;\n",
       "}\n",
       "\n",
       ".xr-var-data > table {\n",
       "  float: right;\n",
       "}\n",
       "\n",
       ".xr-var-name span,\n",
       ".xr-var-data,\n",
       ".xr-attrs {\n",
       "  padding-left: 25px !important;\n",
       "}\n",
       "\n",
       ".xr-attrs,\n",
       ".xr-var-attrs,\n",
       ".xr-var-data {\n",
       "  grid-column: 1 / -1;\n",
       "}\n",
       "\n",
       "dl.xr-attrs {\n",
       "  padding: 0;\n",
       "  margin: 0;\n",
       "  display: grid;\n",
       "  grid-template-columns: 125px auto;\n",
       "}\n",
       "\n",
       ".xr-attrs dt,\n",
       ".xr-attrs dd {\n",
       "  padding: 0;\n",
       "  margin: 0;\n",
       "  float: left;\n",
       "  padding-right: 10px;\n",
       "  width: auto;\n",
       "}\n",
       "\n",
       ".xr-attrs dt {\n",
       "  font-weight: normal;\n",
       "  grid-column: 1;\n",
       "}\n",
       "\n",
       ".xr-attrs dt:hover span {\n",
       "  display: inline-block;\n",
       "  background: var(--xr-background-color);\n",
       "  padding-right: 10px;\n",
       "}\n",
       "\n",
       ".xr-attrs dd {\n",
       "  grid-column: 2;\n",
       "  white-space: pre-wrap;\n",
       "  word-break: break-all;\n",
       "}\n",
       "\n",
       ".xr-icon-database,\n",
       ".xr-icon-file-text2 {\n",
       "  display: inline-block;\n",
       "  vertical-align: middle;\n",
       "  width: 1em;\n",
       "  height: 1.5em !important;\n",
       "  stroke-width: 0;\n",
       "  stroke: currentColor;\n",
       "  fill: currentColor;\n",
       "}\n",
       "</style><pre class='xr-text-repr-fallback'>&lt;xarray.Dataset&gt;\n",
       "Dimensions:     (traj: 100000, obs: 44)\n",
       "Dimensions without coordinates: traj, obs\n",
       "Data variables:\n",
       "    lon         (traj, obs) float64 ...\n",
       "    lat         (traj, obs) float64 ...\n",
       "    z           (traj, obs) float64 ...\n",
       "    time        (traj, obs) datetime64[ns] ...\n",
       "    trajectory  (traj, obs) float64 ...\n",
       "    topography  (traj, obs) float32 ...\n",
       "    depthdiff   (traj, obs) float32 ...\n",
       "    distance    (traj, obs) float32 ...\n",
       "Attributes:\n",
       "    feature_type:           trajectory\n",
       "    Conventions:            CF-1.6/CF-1.7\n",
       "    ncei_template_version:  NCEI_NetCDF_Trajectory_Template_v2.0\n",
       "    parcels_version:        2.3.1\n",
       "    parcels_mesh:           spherical</pre><div class='xr-wrap' style='display:none'><div class='xr-header'><div class='xr-obj-type'>xarray.Dataset</div></div><ul class='xr-sections'><li class='xr-section-item'><input id='section-b9aa83ff-0568-4951-ab23-e9d87b1d509c' class='xr-section-summary-in' type='checkbox' disabled ><label for='section-b9aa83ff-0568-4951-ab23-e9d87b1d509c' class='xr-section-summary'  title='Expand/collapse section'>Dimensions:</label><div class='xr-section-inline-details'><ul class='xr-dim-list'><li><span>traj</span>: 100000</li><li><span>obs</span>: 44</li></ul></div><div class='xr-section-details'></div></li><li class='xr-section-item'><input id='section-110a103b-ec20-4c81-b965-7dfd335c56e2' class='xr-section-summary-in' type='checkbox' disabled ><label for='section-110a103b-ec20-4c81-b965-7dfd335c56e2' class='xr-section-summary'  title='Expand/collapse section'>Coordinates: <span>(0)</span></label><div class='xr-section-inline-details'></div><div class='xr-section-details'><ul class='xr-var-list'></ul></div></li><li class='xr-section-item'><input id='section-18a6abeb-9a24-4c04-9d03-b61bbd64de40' class='xr-section-summary-in' type='checkbox'  checked><label for='section-18a6abeb-9a24-4c04-9d03-b61bbd64de40' class='xr-section-summary' >Data variables: <span>(8)</span></label><div class='xr-section-inline-details'></div><div class='xr-section-details'><ul class='xr-var-list'><li class='xr-var-item'><div class='xr-var-name'><span>lon</span></div><div class='xr-var-dims'>(traj, obs)</div><div class='xr-var-dtype'>float64</div><div class='xr-var-preview xr-preview'>...</div><input id='attrs-a4ebc10a-c565-4147-a42c-f138f4b52978' class='xr-var-attrs-in' type='checkbox' ><label for='attrs-a4ebc10a-c565-4147-a42c-f138f4b52978' title='Show/Hide attributes'><svg class='icon xr-icon-file-text2'><use xlink:href='#icon-file-text2'></use></svg></label><input id='data-0fe2e332-7a68-48f7-9033-1660d6d78f75' class='xr-var-data-in' type='checkbox'><label for='data-0fe2e332-7a68-48f7-9033-1660d6d78f75' title='Show/Hide data repr'><svg class='icon xr-icon-database'><use xlink:href='#icon-database'></use></svg></label><div class='xr-var-attrs'><dl class='xr-attrs'><dt><span>long_name :</span></dt><dd></dd><dt><span>standard_name :</span></dt><dd>longitude</dd><dt><span>units :</span></dt><dd>degrees_east</dd><dt><span>axis :</span></dt><dd>X</dd></dl></div><div class='xr-var-data'><pre>[4400000 values with dtype=float64]</pre></div></li><li class='xr-var-item'><div class='xr-var-name'><span>lat</span></div><div class='xr-var-dims'>(traj, obs)</div><div class='xr-var-dtype'>float64</div><div class='xr-var-preview xr-preview'>...</div><input id='attrs-36cc33f6-3ef8-4a4f-acae-adefd0f88282' class='xr-var-attrs-in' type='checkbox' ><label for='attrs-36cc33f6-3ef8-4a4f-acae-adefd0f88282' title='Show/Hide attributes'><svg class='icon xr-icon-file-text2'><use xlink:href='#icon-file-text2'></use></svg></label><input id='data-3be9ab6a-3208-4259-8d5d-10878bf035e5' class='xr-var-data-in' type='checkbox'><label for='data-3be9ab6a-3208-4259-8d5d-10878bf035e5' title='Show/Hide data repr'><svg class='icon xr-icon-database'><use xlink:href='#icon-database'></use></svg></label><div class='xr-var-attrs'><dl class='xr-attrs'><dt><span>long_name :</span></dt><dd></dd><dt><span>standard_name :</span></dt><dd>latitude</dd><dt><span>units :</span></dt><dd>degrees_north</dd><dt><span>axis :</span></dt><dd>Y</dd></dl></div><div class='xr-var-data'><pre>[4400000 values with dtype=float64]</pre></div></li><li class='xr-var-item'><div class='xr-var-name'><span>z</span></div><div class='xr-var-dims'>(traj, obs)</div><div class='xr-var-dtype'>float64</div><div class='xr-var-preview xr-preview'>...</div><input id='attrs-ba2bf9fd-76e2-411d-afc1-8e25721b4df7' class='xr-var-attrs-in' type='checkbox' ><label for='attrs-ba2bf9fd-76e2-411d-afc1-8e25721b4df7' title='Show/Hide attributes'><svg class='icon xr-icon-file-text2'><use xlink:href='#icon-file-text2'></use></svg></label><input id='data-4ab2a022-d1dc-4fba-b650-445bb334d530' class='xr-var-data-in' type='checkbox'><label for='data-4ab2a022-d1dc-4fba-b650-445bb334d530' title='Show/Hide data repr'><svg class='icon xr-icon-database'><use xlink:href='#icon-database'></use></svg></label><div class='xr-var-attrs'><dl class='xr-attrs'><dt><span>long_name :</span></dt><dd></dd><dt><span>standard_name :</span></dt><dd>depth</dd><dt><span>units :</span></dt><dd>m</dd><dt><span>positive :</span></dt><dd>down</dd></dl></div><div class='xr-var-data'><pre>[4400000 values with dtype=float64]</pre></div></li><li class='xr-var-item'><div class='xr-var-name'><span>time</span></div><div class='xr-var-dims'>(traj, obs)</div><div class='xr-var-dtype'>datetime64[ns]</div><div class='xr-var-preview xr-preview'>...</div><input id='attrs-a6b7edfc-b918-45e0-a6d9-23952816dff4' class='xr-var-attrs-in' type='checkbox' ><label for='attrs-a6b7edfc-b918-45e0-a6d9-23952816dff4' title='Show/Hide attributes'><svg class='icon xr-icon-file-text2'><use xlink:href='#icon-file-text2'></use></svg></label><input id='data-15c408b9-b2cc-4180-82cf-021e411b222a' class='xr-var-data-in' type='checkbox'><label for='data-15c408b9-b2cc-4180-82cf-021e411b222a' title='Show/Hide data repr'><svg class='icon xr-icon-database'><use xlink:href='#icon-database'></use></svg></label><div class='xr-var-attrs'><dl class='xr-attrs'><dt><span>long_name :</span></dt><dd></dd><dt><span>standard_name :</span></dt><dd>time</dd><dt><span>axis :</span></dt><dd>T</dd></dl></div><div class='xr-var-data'><pre>[4400000 values with dtype=datetime64[ns]]</pre></div></li><li class='xr-var-item'><div class='xr-var-name'><span>trajectory</span></div><div class='xr-var-dims'>(traj, obs)</div><div class='xr-var-dtype'>float64</div><div class='xr-var-preview xr-preview'>...</div><input id='attrs-2d7cc25d-3100-4c07-8ec4-cd7a2f35bac6' class='xr-var-attrs-in' type='checkbox' ><label for='attrs-2d7cc25d-3100-4c07-8ec4-cd7a2f35bac6' title='Show/Hide attributes'><svg class='icon xr-icon-file-text2'><use xlink:href='#icon-file-text2'></use></svg></label><input id='data-72ed62a6-e391-4837-9230-ddd4af367e6e' class='xr-var-data-in' type='checkbox'><label for='data-72ed62a6-e391-4837-9230-ddd4af367e6e' title='Show/Hide data repr'><svg class='icon xr-icon-database'><use xlink:href='#icon-database'></use></svg></label><div class='xr-var-attrs'><dl class='xr-attrs'><dt><span>long_name :</span></dt><dd>Unique identifier for each particle</dd><dt><span>cf_role :</span></dt><dd>trajectory_id</dd></dl></div><div class='xr-var-data'><pre>[4400000 values with dtype=float64]</pre></div></li><li class='xr-var-item'><div class='xr-var-name'><span>topography</span></div><div class='xr-var-dims'>(traj, obs)</div><div class='xr-var-dtype'>float32</div><div class='xr-var-preview xr-preview'>...</div><input id='attrs-fa9a8c97-ca3e-45be-b2c0-eae03e0a4de0' class='xr-var-attrs-in' type='checkbox' ><label for='attrs-fa9a8c97-ca3e-45be-b2c0-eae03e0a4de0' title='Show/Hide attributes'><svg class='icon xr-icon-file-text2'><use xlink:href='#icon-file-text2'></use></svg></label><input id='data-3da0d261-c6ce-4e85-88be-8e4dc7320ddb' class='xr-var-data-in' type='checkbox'><label for='data-3da0d261-c6ce-4e85-88be-8e4dc7320ddb' title='Show/Hide data repr'><svg class='icon xr-icon-database'><use xlink:href='#icon-database'></use></svg></label><div class='xr-var-attrs'><dl class='xr-attrs'><dt><span>long_name :</span></dt><dd></dd><dt><span>standard_name :</span></dt><dd>topography</dd><dt><span>units :</span></dt><dd>unknown</dd></dl></div><div class='xr-var-data'><pre>[4400000 values with dtype=float32]</pre></div></li><li class='xr-var-item'><div class='xr-var-name'><span>depthdiff</span></div><div class='xr-var-dims'>(traj, obs)</div><div class='xr-var-dtype'>float32</div><div class='xr-var-preview xr-preview'>...</div><input id='attrs-629d19ef-d9ce-475e-82eb-9116e5cacfaa' class='xr-var-attrs-in' type='checkbox' ><label for='attrs-629d19ef-d9ce-475e-82eb-9116e5cacfaa' title='Show/Hide attributes'><svg class='icon xr-icon-file-text2'><use xlink:href='#icon-file-text2'></use></svg></label><input id='data-6da1ebca-73e2-42c0-8272-fdbc4140eb75' class='xr-var-data-in' type='checkbox'><label for='data-6da1ebca-73e2-42c0-8272-fdbc4140eb75' title='Show/Hide data repr'><svg class='icon xr-icon-database'><use xlink:href='#icon-database'></use></svg></label><div class='xr-var-attrs'><dl class='xr-attrs'><dt><span>long_name :</span></dt><dd></dd><dt><span>standard_name :</span></dt><dd>depthdiff</dd><dt><span>units :</span></dt><dd>unknown</dd></dl></div><div class='xr-var-data'><pre>[4400000 values with dtype=float32]</pre></div></li><li class='xr-var-item'><div class='xr-var-name'><span>distance</span></div><div class='xr-var-dims'>(traj, obs)</div><div class='xr-var-dtype'>float32</div><div class='xr-var-preview xr-preview'>...</div><input id='attrs-ded824e1-8299-462c-adce-dca1d68f486e' class='xr-var-attrs-in' type='checkbox' ><label for='attrs-ded824e1-8299-462c-adce-dca1d68f486e' title='Show/Hide attributes'><svg class='icon xr-icon-file-text2'><use xlink:href='#icon-file-text2'></use></svg></label><input id='data-63a2e80d-0116-4a94-a772-2040de13a7af' class='xr-var-data-in' type='checkbox'><label for='data-63a2e80d-0116-4a94-a772-2040de13a7af' title='Show/Hide data repr'><svg class='icon xr-icon-database'><use xlink:href='#icon-database'></use></svg></label><div class='xr-var-attrs'><dl class='xr-attrs'><dt><span>long_name :</span></dt><dd></dd><dt><span>standard_name :</span></dt><dd>distance</dd><dt><span>units :</span></dt><dd>unknown</dd></dl></div><div class='xr-var-data'><pre>[4400000 values with dtype=float32]</pre></div></li></ul></div></li><li class='xr-section-item'><input id='section-9feab70e-bff3-4a0d-b3f7-382c8744d6ba' class='xr-section-summary-in' type='checkbox'  checked><label for='section-9feab70e-bff3-4a0d-b3f7-382c8744d6ba' class='xr-section-summary' >Attributes: <span>(5)</span></label><div class='xr-section-inline-details'></div><div class='xr-section-details'><dl class='xr-attrs'><dt><span>feature_type :</span></dt><dd>trajectory</dd><dt><span>Conventions :</span></dt><dd>CF-1.6/CF-1.7</dd><dt><span>ncei_template_version :</span></dt><dd>NCEI_NetCDF_Trajectory_Template_v2.0</dd><dt><span>parcels_version :</span></dt><dd>2.3.1</dd><dt><span>parcels_mesh :</span></dt><dd>spherical</dd></dl></div></li></ul></div></div>"
      ],
      "text/plain": [
       "<xarray.Dataset>\n",
       "Dimensions:     (traj: 100000, obs: 44)\n",
       "Dimensions without coordinates: traj, obs\n",
       "Data variables:\n",
       "    lon         (traj, obs) float64 ...\n",
       "    lat         (traj, obs) float64 ...\n",
       "    z           (traj, obs) float64 ...\n",
       "    time        (traj, obs) datetime64[ns] ...\n",
       "    trajectory  (traj, obs) float64 ...\n",
       "    topography  (traj, obs) float32 ...\n",
       "    depthdiff   (traj, obs) float32 ...\n",
       "    distance    (traj, obs) float32 ...\n",
       "Attributes:\n",
       "    feature_type:           trajectory\n",
       "    Conventions:            CF-1.6/CF-1.7\n",
       "    ncei_template_version:  NCEI_NetCDF_Trajectory_Template_v2.0\n",
       "    parcels_version:        2.3.1\n",
       "    parcels_mesh:           spherical"
      ]
     },
     "execution_count": 3,
     "metadata": {},
     "output_type": "execute_result"
    }
   ],
   "source": [
    "INALT_mask=xr.open_dataset('/gxfs_work1/geomar/smomw044/prep_data_iAtlantic_LMock/INALT20.L46-KFS104/1_mesh_mask_iMirabilis.nc')\n",
    "particle_ds = xr.open_dataset(f'/gxfs_work1/geomar/smomw523/master-thesis/output_data/INALT20.L46-KFS104/Tides-Column_test_1500_{start_year:04d}{start_month:02d}{start_day:02d}_RT-42_N-100000_seed-12345.nc')\n",
    "#SIGMA=xr.open_dataset('/gxfs_work1/geomar/smomw523/master-thesis/data/config/ROMS/sigma2depth_parent.nc')\n",
    "#ROMS_ds = xr.open_dataset(f'/gxfs_work1/geomar/smomw523/master-thesis/output_data/ROMS/Track-Column_test_1500_{start_year:04d}{start_month:02d}{start_day:02d}_RT-42_N-100000_seed-12345.nc')\n",
    "#SIGMA_child=xr.open_dataset('/gxfs_work1/geomar/smomw523/master-thesis/data/config/ROMS/sigma2depth_child.nc')\n",
    "#ROMSchild_ds = xr.open_dataset(f'/gxfs_work1/geomar/smomw523/master-thesis/output_data/ROMS_child/Track-Column_test_1500_{start_year:04d}{start_month:02d}{start_day:02d}_RT-42_N-100000_seed-12345.nc')\n",
    "particle_ds"
   ]
  },
  {
   "cell_type": "code",
   "execution_count": 4,
   "id": "dee55623-cf70-48f7-b983-3cd16a656249",
   "metadata": {},
   "outputs": [
    {
     "data": {
      "text/plain": [
       "<matplotlib.collections.QuadMesh at 0x7fe71cf416c0>"
      ]
     },
     "execution_count": 4,
     "metadata": {},
     "output_type": "execute_result"
    },
    {
     "data": {
      "image/png": "[encoded data removed]",
      "text/plain": [
       "<Figure size 1080x288 with 2 Axes>"
      ]
     },
     "metadata": {
      "needs_background": "light"
     },
     "output_type": "display_data"
    }
   ],
   "source": [
    "topo_INALT = np.sum((INALT_mask.tmask*INALT_mask.e3t_0).isel(t=0),axis=0)\n",
    "topo_INALT = topo_INALT.assign_coords({\"lon\": INALT_mask.glamt.isel(t=0,y=0),\n",
    "                                       \"lat\": INALT_mask.gphit.isel(t=0,x=0),\n",
    "                                      })\n",
    "topo_INALT = topo_INALT.swap_dims({'x': 'lon', 'y': 'lat'})\n",
    "\n",
    "plt.figure(figsize=(15,4))\n",
    "plt.subplot(1, 3,1)\n",
    "topo_INALT.sel(lon=slice(8,8.5),lat=slice(-23.5,-23)).plot()\n",
    "#plt.subplot(1, 3,2)\n",
    "#SIGMA.h.plot()\n",
    "#plt.subplot(1, 3,3)\n",
    "#SIGMA_child.h.plot();"
   ]
  },
  {
   "cell_type": "code",
   "execution_count": 5,
   "id": "e23bd49d-47b2-4297-9d87-ea48222e77c0",
   "metadata": {},
   "outputs": [],
   "source": [
    "releasepoints_INALT = pd.read_csv('/gxfs_work1/geomar/smomw523/master-thesis/data/config/releasepoints_INALT.csv',usecols=[2,1]).reindex(columns=['lon','lat'])\n",
    "#releasepoints_ROMS = pd.read_csv('/gxfs_work1/geomar/smomw523/master-thesis/data/config/releasepoints_ROMS.csv',usecols=[2,1]).reindex(columns=['lon','lat'])\n",
    "#releasepoints_ROMSchild = pd.read_csv('/gxfs_work1/geomar/smomw523/master-thesis/data/config/releasepoints_ROMSchild.csv',usecols=[2,1]).reindex(columns=['lon','lat'])"
   ]
  },
  {
   "cell_type": "code",
   "execution_count": 6,
   "id": "aa833d9c-530e-4739-9a5b-72d09bb5a9e5",
   "metadata": {},
   "outputs": [
    {
     "data": {
      "text/plain": [
       "<matplotlib.collections.PathCollection at 0x7fe714ccc880>"
      ]
     },
     "execution_count": 6,
     "metadata": {},
     "output_type": "execute_result"
    },
    {
     "data": {
      "image/png": "[encoded data removed]",
      "text/plain": [
       "<Figure size 1080x288 with 1 Axes>"
      ]
     },
     "metadata": {
      "needs_background": "light"
     },
     "output_type": "display_data"
    }
   ],
   "source": [
    "plt.figure(figsize=(15,4))\n",
    "plt.subplot(1, 3,1)\n",
    "plt.pcolormesh(topo_INALT.sel(lon=slice(8,8.6),lat=slice(-23.5,-23)).lon,\n",
    "            topo_INALT.sel(lon=slice(8,8.6),lat=slice(-23.5,-23)).lat,\n",
    "            topo_INALT.sel(lon=slice(8,8.6),lat=slice(-23.5,-23)))#,levels=20)\n",
    "cl_INALT=plt.contour(topo_INALT.sel(lon=slice(8,8.6),lat=slice(-23.5,-23)).lon,\n",
    "            topo_INALT.sel(lon=slice(8,8.6),lat=slice(-23.5,-23)).lat,\n",
    "            topo_INALT.sel(lon=slice(8,8.6),lat=slice(-23.5,-23)),levels=[1500])\n",
    "plt.scatter(releasepoints_INALT['lon'],releasepoints_INALT['lat'],s=0.01,color='red')\n",
    "\n",
    "# plt.subplot(1, 3,2)\n",
    "# plt.pcolormesh(SIGMA.h.sel(lon_rho=slice(8,8.6),lat_rho=slice(-23.5,-23)).lon_rho,\n",
    "#             SIGMA.h.sel(lon_rho=slice(8,8.6),lat_rho=slice(-23.5,-23)).lat_rho,\n",
    "#             SIGMA.h.sel(lon_rho=slice(8,8.6),lat_rho=slice(-23.5,-23)))#,levels=20)\n",
    "# cl_ROMS=plt.contour(SIGMA.h.sel(lon_rho=slice(8,8.6),lat_rho=slice(-23.5,-23)).lon_rho,\n",
    "#             SIGMA.h.sel(lon_rho=slice(8,8.6),lat_rho=slice(-23.5,-23)).lat_rho,\n",
    "#             SIGMA.h.sel(lon_rho=slice(8,8.6),lat_rho=slice(-23.5,-23)),levels=[1500])\n",
    "# plt.scatter(releasepoints_ROMS['lon'],releasepoints_ROMS['lat'],s=0.01,color='red')\n",
    "# #ROMS_ds.isel(obs=0).plot.scatter(x='lon',y='lat',s=0.01,color='red')\n",
    "\n",
    "# plt.subplot(1, 3,3)\n",
    "# plt.pcolormesh(SIGMA_child.h.sel(lon_rho=slice(8,8.6),lat_rho=slice(-23.5,-23)).lon_rho,\n",
    "#             SIGMA_child.h.sel(lon_rho=slice(8,8.6),lat_rho=slice(-23.5,-23)).lat_rho,\n",
    "#             SIGMA_child.h.sel(lon_rho=slice(8,8.6),lat_rho=slice(-23.5,-23)))#,levels=20)\n",
    "# cl_ROMSchild=plt.contour(SIGMA_child.h.sel(lon_rho=slice(8,8.6),lat_rho=slice(-23.5,-23)).lon_rho,\n",
    "#             SIGMA_child.h.sel(lon_rho=slice(8,8.6),lat_rho=slice(-23.5,-23)).lat_rho,\n",
    "#             SIGMA_child.h.sel(lon_rho=slice(8,8.6),lat_rho=slice(-23.5,-23)),levels=[1500])\n",
    "# plt.scatter(releasepoints_ROMSchild['lon'],releasepoints_ROMSchild['lat'],s=0.01,color='red')\n",
    "# #ROMSchild_ds.isel(obs=0).plot.scatter(x='lon',y='lat',s=0.01,color='red');"
   ]
  },
  {
   "cell_type": "code",
   "execution_count": 7,
   "id": "d7f7b63b-744c-4a0d-967f-edee70f79bbe",
   "metadata": {},
   "outputs": [
    {
     "data": {
      "text/plain": [
       "<matplotlib.collections.PathCollection at 0x7fe714d55f00>"
      ]
     },
     "execution_count": 7,
     "metadata": {},
     "output_type": "execute_result"
    },
    {
     "data": {
      "image/png": "[encoded data removed]",
      "text/plain": [
       "<Figure size 1080x288 with 1 Axes>"
      ]
     },
     "metadata": {
      "needs_background": "light"
     },
     "output_type": "display_data"
    }
   ],
   "source": [
    "plt.figure(figsize=(15,4))\n",
    "plt.subplot(1, 3,1)\n",
    "plt.pcolormesh(topo_INALT.sel(lon=slice(8,8.6),lat=slice(-23.5,-23)).lon,\n",
    "            topo_INALT.sel(lon=slice(8,8.6),lat=slice(-23.5,-23)).lat,\n",
    "            topo_INALT.sel(lon=slice(8,8.6),lat=slice(-23.5,-23)))#,levels=20)\n",
    "cl_INALT=plt.contour(topo_INALT.sel(lon=slice(8,8.6),lat=slice(-23.5,-23)).lon,\n",
    "            topo_INALT.sel(lon=slice(8,8.6),lat=slice(-23.5,-23)).lat,\n",
    "            topo_INALT.sel(lon=slice(8,8.6),lat=slice(-23.5,-23)),levels=[1500])\n",
    "particle_ds.isel(obs=0).plot.scatter(x='lon',y='lat',s=0.1,color='red')\n",
    "\n",
    "# plt.subplot(1, 3,2)\n",
    "# plt.pcolormesh(SIGMA.h.sel(lon_rho=slice(8,8.6),lat_rho=slice(-23.5,-23)).lon_rho,\n",
    "#             SIGMA.h.sel(lon_rho=slice(8,8.6),lat_rho=slice(-23.5,-23)).lat_rho,\n",
    "#             SIGMA.h.sel(lon_rho=slice(8,8.6),lat_rho=slice(-23.5,-23)))#,levels=20)\n",
    "# cl_ROMS=plt.contour(SIGMA.h.sel(lon_rho=slice(8,8.6),lat_rho=slice(-23.5,-23)).lon_rho,\n",
    "#             SIGMA.h.sel(lon_rho=slice(8,8.6),lat_rho=slice(-23.5,-23)).lat_rho,\n",
    "#             SIGMA.h.sel(lon_rho=slice(8,8.6),lat_rho=slice(-23.5,-23)),levels=[1500])\n",
    "# ROMS_ds.isel(obs=0).plot.scatter(x='lon',y='lat',s=0.1,color='red')\n",
    "\n",
    "# plt.subplot(1, 3,3)\n",
    "# plt.pcolormesh(SIGMA_child.h.sel(lon_rho=slice(8,8.6),lat_rho=slice(-23.5,-23)).lon_rho,\n",
    "#             SIGMA_child.h.sel(lon_rho=slice(8,8.6),lat_rho=slice(-23.5,-23)).lat_rho,\n",
    "#             SIGMA_child.h.sel(lon_rho=slice(8,8.6),lat_rho=slice(-23.5,-23)))#,levels=20)\n",
    "# cl_ROMSchild=plt.contour(SIGMA_child.h.sel(lon_rho=slice(8,8.6),lat_rho=slice(-23.5,-23)).lon_rho,\n",
    "#             SIGMA_child.h.sel(lon_rho=slice(8,8.6),lat_rho=slice(-23.5,-23)).lat_rho,\n",
    "#             SIGMA_child.h.sel(lon_rho=slice(8,8.6),lat_rho=slice(-23.5,-23)),levels=[1500])\n",
    "# ROMSchild_ds.isel(obs=0).plot.scatter(x='lon',y='lat',s=0.1,color='red');"
   ]
  },
  {
   "cell_type": "code",
   "execution_count": 8,
   "id": "47e68949-fca4-4638-a303-a80fa68bb932",
   "metadata": {},
   "outputs": [],
   "source": [
    "hull_INALT=ConvexHull(releasepoints_INALT.to_numpy())\n",
    "# hull_ROMS=ConvexHull(releasepoints_ROMS.to_numpy())\n",
    "# hull_ROMSchild=ConvexHull(releasepoints_ROMSchild.to_numpy())\n",
    "\n",
    "#INALT\n",
    "x = np.array([8.175, 8.325, 8.325, 8.375, 8.375,\n",
    "              8.325, 8.325, 8.225, 8.225, 8.175])\n",
    "y = np.array([-23.12069, -23.12069, -23.1666665, -23.1666665, -23.2585715,\n",
    "              -23.2585715, -23.3045005, -23.3045005, -23.2585715, -23.2585715])\n",
    "#x = releasepoints_INALT.to_numpy()[hull_INALT.vertices, 0]\n",
    "#y = releasepoints_INALT.to_numpy()[hull_INALT.vertices, 1]\n",
    "#z = releasepoints_INALT.to_numpy()[hull_INALT.vertices, 2]\n",
    "poly_INALT = Polygon([(i[0], i[1]) for i in zip(x,y)])\n",
    "    \n",
    "# #ROMS\n",
    "# x = releasepoints_ROMS.to_numpy()[hull_ROMS.vertices, 0]\n",
    "# y = releasepoints_ROMS.to_numpy()[hull_ROMS.vertices, 1]\n",
    "# #z = releasepoints_ROMS.to_numpy()[hull_ROMS.vertices, 2]\n",
    "# poly_ROMS = Polygon([(i[0], i[1]) for i in zip(x,y)])\n",
    "    \n",
    "# #ROMSchild\n",
    "# x = releasepoints_ROMSchild.to_numpy()[hull_ROMSchild.vertices, 0]\n",
    "# y = releasepoints_ROMSchild.to_numpy()[hull_ROMSchild.vertices, 1]\n",
    "# #z = releasepoints_ROMSchild.to_numpy()[hull_ROMSchild.vertices, 2]\n",
    "# poly_ROMSchild = Polygon([(i[0], i[1]) for i in zip(x,y)])"
   ]
  },
  {
   "cell_type": "code",
   "execution_count": 9,
   "id": "6745dc80-b883-44f2-a16d-2795c4f5d765",
   "metadata": {},
   "outputs": [
    {
     "data": {
      "image/svg+xml": [
       "<svg xmlns=\"http://www.w3.org/2000/svg\" xmlns:xlink=\"http://www.w3.org/1999/xlink\" width=\"100.0\" height=\"100.0\" viewBox=\"8.167000000000002 -23.3125005 0.21599999999999753 0.19981049999999811\" preserveAspectRatio=\"xMinYMin meet\"><g transform=\"matrix(1,0,0,-1,0,-46.4251905)\"><path fill-rule=\"evenodd\" fill=\"#66cc99\" stroke=\"#555555\" stroke-width=\"0.004319999999999951\" opacity=\"0.6\" d=\"M 8.175,-23.12069 L 8.325,-23.12069 L 8.325,-23.1666665 L 8.375,-23.1666665 L 8.375,-23.2585715 L 8.325,-23.2585715 L 8.325,-23.3045005 L 8.225,-23.3045005 L 8.225,-23.2585715 L 8.175,-23.2585715 L 8.175,-23.12069 z\" /></g></svg>"
      ],
      "text/plain": [
       "<shapely.geometry.polygon.Polygon at 0x7fe714d02ad0>"
      ]
     },
     "execution_count": 9,
     "metadata": {},
     "output_type": "execute_result"
    }
   ],
   "source": [
    "poly_INALT"
   ]
  },
  {
   "cell_type": "raw",
   "id": "11e6e99d-1214-4bb3-b2de-25ee3ad404ae",
   "metadata": {},
   "source": [
    "poly_ROMS"
   ]
  },
  {
   "cell_type": "raw",
   "id": "34f91ecb-7972-4787-b2a1-472d0dfe7a75",
   "metadata": {},
   "source": [
    "poly_ROMSchild"
   ]
  },
  {
   "cell_type": "code",
   "execution_count": 15,
   "id": "7a5165b4-9c39-4fed-a101-85b5d9e019aa",
   "metadata": {},
   "outputs": [],
   "source": [
    "#particle_ds['depthdiff'] = particle_ds.topography-particle_ds.z\n",
    "# ROMS_ds['depthdiff'] = ROMS_ds.topography-ROMS_ds.z\n",
    "# ROMSchild_ds['depthdiff'] = ROMSchild_ds.topography-ROMSchild_ds.z"
   ]
  },
  {
   "cell_type": "code",
   "execution_count": 10,
   "id": "d12b803f-864a-4aeb-b777-14cfef25d4ed",
   "metadata": {},
   "outputs": [],
   "source": [
    "df_INALT1 = particle_ds.to_dataframe()\n",
    "# df_ROMS1 = ROMS_ds.to_dataframe()\n",
    "# df_ROMSchild1 = ROMSchild_ds.to_dataframe()"
   ]
  },
  {
   "cell_type": "code",
   "execution_count": 11,
   "id": "ecf9d575-ebee-4053-a55e-5d01db52b0c6",
   "metadata": {},
   "outputs": [
    {
     "name": "stdout",
     "output_type": "stream",
     "text": [
      "CPU times: user 3min 16s, sys: 8.39 s, total: 3min 25s\n",
      "Wall time: 3min 26s\n"
     ]
    }
   ],
   "source": [
    "%%time\n",
    "\n",
    "df_INALT1[\"is_in_column\"] = df_INALT1.apply(lambda row: poly_INALT.contains(\n",
    "    Point(row.loc[\"lon\"], row.loc[\"lat\"])), axis=1)\n",
    "\n",
    "# df_ROMS1[\"is_in_column\"] = df_ROMS1.apply(lambda row: poly_ROMS.contains(\n",
    "#      Point(row.loc[\"lon\"], row.loc[\"lat\"])), axis=1)\n",
    "\n",
    "# df_ROMSchild1[\"is_in_column\"] = df_ROMSchild1.apply(lambda row: poly_ROMSchild.contains(\n",
    "#      Point(row.loc[\"lon\"], row.loc[\"lat\"])), axis=1)"
   ]
  },
  {
   "cell_type": "code",
   "execution_count": 12,
   "id": "bce0e5df-1e95-4253-aacd-fd98898e1335",
   "metadata": {},
   "outputs": [],
   "source": [
    "INALT_1bool_xr = df_INALT1.to_xarray()\n",
    "# ROMS_1bool_xr, ROMSchild_1bool_xr = df_ROMS1.to_xarray(), df_ROMSchild1.to_xarray()"
   ]
  },
  {
   "cell_type": "code",
   "execution_count": 17,
   "id": "9bfe46b0-790b-428e-9019-6c8c6a789612",
   "metadata": {},
   "outputs": [
    {
     "name": "stderr",
     "output_type": "stream",
     "text": [
      "traj_INALT:   3%|▋                       | 2725/100000 [00:04<02:23, 677.18it/s]\n"
     ]
    },
    {
     "ename": "KeyboardInterrupt",
     "evalue": "",
     "output_type": "error",
     "traceback": [
      "\u001b[0;31m---------------------------------------------------------------------------\u001b[0m",
      "\u001b[0;31mKeyboardInterrupt\u001b[0m                         Traceback (most recent call last)",
      "File \u001b[0;32m<timed exec>:15\u001b[0m, in \u001b[0;36m<module>\u001b[0;34m\u001b[0m\n",
      "File \u001b[0;32m/opt/conda/lib/python3.10/site-packages/xarray/core/dataset.py:2352\u001b[0m, in \u001b[0;36mDataset.isel\u001b[0;34m(self, indexers, drop, missing_dims, **indexers_kwargs)\u001b[0m\n\u001b[1;32m   2350\u001b[0m indexers \u001b[38;5;241m=\u001b[39m either_dict_or_kwargs(indexers, indexers_kwargs, \u001b[38;5;124m\"\u001b[39m\u001b[38;5;124misel\u001b[39m\u001b[38;5;124m\"\u001b[39m)\n\u001b[1;32m   2351\u001b[0m \u001b[38;5;28;01mif\u001b[39;00m \u001b[38;5;28many\u001b[39m(is_fancy_indexer(idx) \u001b[38;5;28;01mfor\u001b[39;00m idx \u001b[38;5;129;01min\u001b[39;00m indexers\u001b[38;5;241m.\u001b[39mvalues()):\n\u001b[0;32m-> 2352\u001b[0m     \u001b[38;5;28;01mreturn\u001b[39;00m \u001b[38;5;28;43mself\u001b[39;49m\u001b[38;5;241;43m.\u001b[39;49m\u001b[43m_isel_fancy\u001b[49m\u001b[43m(\u001b[49m\u001b[43mindexers\u001b[49m\u001b[43m,\u001b[49m\u001b[43m \u001b[49m\u001b[43mdrop\u001b[49m\u001b[38;5;241;43m=\u001b[39;49m\u001b[43mdrop\u001b[49m\u001b[43m,\u001b[49m\u001b[43m \u001b[49m\u001b[43mmissing_dims\u001b[49m\u001b[38;5;241;43m=\u001b[39;49m\u001b[43mmissing_dims\u001b[49m\u001b[43m)\u001b[49m\n\u001b[1;32m   2354\u001b[0m \u001b[38;5;66;03m# Much faster algorithm for when all indexers are ints, slices, one-dimensional\u001b[39;00m\n\u001b[1;32m   2355\u001b[0m \u001b[38;5;66;03m# lists, or zero or one-dimensional np.ndarray's\u001b[39;00m\n\u001b[1;32m   2356\u001b[0m indexers \u001b[38;5;241m=\u001b[39m drop_dims_from_indexers(indexers, \u001b[38;5;28mself\u001b[39m\u001b[38;5;241m.\u001b[39mdims, missing_dims)\n",
      "File \u001b[0;32m/opt/conda/lib/python3.10/site-packages/xarray/core/dataset.py:2416\u001b[0m, in \u001b[0;36mDataset._isel_fancy\u001b[0;34m(self, indexers, drop, missing_dims)\u001b[0m\n\u001b[1;32m   2414\u001b[0m         indexes[name] \u001b[38;5;241m=\u001b[39m new_index\n\u001b[1;32m   2415\u001b[0m \u001b[38;5;28;01melif\u001b[39;00m var_indexers:\n\u001b[0;32m-> 2416\u001b[0m     new_var \u001b[38;5;241m=\u001b[39m \u001b[43mvar\u001b[49m\u001b[38;5;241;43m.\u001b[39;49m\u001b[43misel\u001b[49m\u001b[43m(\u001b[49m\u001b[43mindexers\u001b[49m\u001b[38;5;241;43m=\u001b[39;49m\u001b[43mvar_indexers\u001b[49m\u001b[43m)\u001b[49m\n\u001b[1;32m   2417\u001b[0m \u001b[38;5;28;01melse\u001b[39;00m:\n\u001b[1;32m   2418\u001b[0m     new_var \u001b[38;5;241m=\u001b[39m var\u001b[38;5;241m.\u001b[39mcopy(deep\u001b[38;5;241m=\u001b[39m\u001b[38;5;28;01mFalse\u001b[39;00m)\n",
      "File \u001b[0;32m/opt/conda/lib/python3.10/site-packages/xarray/core/variable.py:1186\u001b[0m, in \u001b[0;36mVariable.isel\u001b[0;34m(self, indexers, missing_dims, **indexers_kwargs)\u001b[0m\n\u001b[1;32m   1183\u001b[0m indexers \u001b[38;5;241m=\u001b[39m drop_dims_from_indexers(indexers, \u001b[38;5;28mself\u001b[39m\u001b[38;5;241m.\u001b[39mdims, missing_dims)\n\u001b[1;32m   1185\u001b[0m key \u001b[38;5;241m=\u001b[39m \u001b[38;5;28mtuple\u001b[39m(indexers\u001b[38;5;241m.\u001b[39mget(dim, \u001b[38;5;28mslice\u001b[39m(\u001b[38;5;28;01mNone\u001b[39;00m)) \u001b[38;5;28;01mfor\u001b[39;00m dim \u001b[38;5;129;01min\u001b[39;00m \u001b[38;5;28mself\u001b[39m\u001b[38;5;241m.\u001b[39mdims)\n\u001b[0;32m-> 1186\u001b[0m \u001b[38;5;28;01mreturn\u001b[39;00m \u001b[38;5;28;43mself\u001b[39;49m\u001b[43m[\u001b[49m\u001b[43mkey\u001b[49m\u001b[43m]\u001b[49m\n",
      "File \u001b[0;32m/opt/conda/lib/python3.10/site-packages/xarray/core/variable.py:782\u001b[0m, in \u001b[0;36mVariable.__getitem__\u001b[0;34m(self, key)\u001b[0m\n\u001b[1;32m    780\u001b[0m \u001b[38;5;28;01mif\u001b[39;00m new_order:\n\u001b[1;32m    781\u001b[0m     data \u001b[38;5;241m=\u001b[39m np\u001b[38;5;241m.\u001b[39mmoveaxis(data, \u001b[38;5;28mrange\u001b[39m(\u001b[38;5;28mlen\u001b[39m(new_order)), new_order)\n\u001b[0;32m--> 782\u001b[0m \u001b[38;5;28;01mreturn\u001b[39;00m \u001b[38;5;28;43mself\u001b[39;49m\u001b[38;5;241;43m.\u001b[39;49m\u001b[43m_finalize_indexing_result\u001b[49m\u001b[43m(\u001b[49m\u001b[43mdims\u001b[49m\u001b[43m,\u001b[49m\u001b[43m \u001b[49m\u001b[43mdata\u001b[49m\u001b[43m)\u001b[49m\n",
      "File \u001b[0;32m/opt/conda/lib/python3.10/site-packages/xarray/core/variable.py:786\u001b[0m, in \u001b[0;36mVariable._finalize_indexing_result\u001b[0;34m(self, dims, data)\u001b[0m\n\u001b[1;32m    784\u001b[0m \u001b[38;5;28;01mdef\u001b[39;00m \u001b[38;5;21m_finalize_indexing_result\u001b[39m(\u001b[38;5;28mself\u001b[39m: T_Variable, dims, data) \u001b[38;5;241m-\u001b[39m\u001b[38;5;241m>\u001b[39m T_Variable:\n\u001b[1;32m    785\u001b[0m     \u001b[38;5;124;03m\"\"\"Used by IndexVariable to return IndexVariable objects when possible.\"\"\"\u001b[39;00m\n\u001b[0;32m--> 786\u001b[0m     \u001b[38;5;28;01mreturn\u001b[39;00m \u001b[38;5;28;43mself\u001b[39;49m\u001b[38;5;241;43m.\u001b[39;49m\u001b[43m_replace\u001b[49m\u001b[43m(\u001b[49m\u001b[43mdims\u001b[49m\u001b[38;5;241;43m=\u001b[39;49m\u001b[43mdims\u001b[49m\u001b[43m,\u001b[49m\u001b[43m \u001b[49m\u001b[43mdata\u001b[49m\u001b[38;5;241;43m=\u001b[39;49m\u001b[43mdata\u001b[49m\u001b[43m)\u001b[49m\n",
      "File \u001b[0;32m/opt/conda/lib/python3.10/site-packages/xarray/core/variable.py:975\u001b[0m, in \u001b[0;36mVariable._replace\u001b[0;34m(self, dims, data, attrs, encoding)\u001b[0m\n\u001b[1;32m    973\u001b[0m     data \u001b[38;5;241m=\u001b[39m copy\u001b[38;5;241m.\u001b[39mcopy(\u001b[38;5;28mself\u001b[39m\u001b[38;5;241m.\u001b[39mdata)\n\u001b[1;32m    974\u001b[0m \u001b[38;5;28;01mif\u001b[39;00m attrs \u001b[38;5;129;01mis\u001b[39;00m _default:\n\u001b[0;32m--> 975\u001b[0m     attrs \u001b[38;5;241m=\u001b[39m \u001b[43mcopy\u001b[49m\u001b[38;5;241;43m.\u001b[39;49m\u001b[43mcopy\u001b[49m\u001b[43m(\u001b[49m\u001b[38;5;28;43mself\u001b[39;49m\u001b[38;5;241;43m.\u001b[39;49m\u001b[43m_attrs\u001b[49m\u001b[43m)\u001b[49m\n\u001b[1;32m    976\u001b[0m \u001b[38;5;28;01mif\u001b[39;00m encoding \u001b[38;5;129;01mis\u001b[39;00m _default:\n\u001b[1;32m    977\u001b[0m     encoding \u001b[38;5;241m=\u001b[39m copy\u001b[38;5;241m.\u001b[39mcopy(\u001b[38;5;28mself\u001b[39m\u001b[38;5;241m.\u001b[39m_encoding)\n",
      "File \u001b[0;32m/opt/conda/lib/python3.10/copy.py:66\u001b[0m, in \u001b[0;36mcopy\u001b[0;34m(x)\u001b[0m\n\u001b[1;32m     62\u001b[0m     PyStringMap \u001b[38;5;241m=\u001b[39m \u001b[38;5;28;01mNone\u001b[39;00m\n\u001b[1;32m     64\u001b[0m __all__ \u001b[38;5;241m=\u001b[39m [\u001b[38;5;124m\"\u001b[39m\u001b[38;5;124mError\u001b[39m\u001b[38;5;124m\"\u001b[39m, \u001b[38;5;124m\"\u001b[39m\u001b[38;5;124mcopy\u001b[39m\u001b[38;5;124m\"\u001b[39m, \u001b[38;5;124m\"\u001b[39m\u001b[38;5;124mdeepcopy\u001b[39m\u001b[38;5;124m\"\u001b[39m]\n\u001b[0;32m---> 66\u001b[0m \u001b[38;5;28;01mdef\u001b[39;00m \u001b[38;5;21mcopy\u001b[39m(x):\n\u001b[1;32m     67\u001b[0m     \u001b[38;5;124;03m\"\"\"Shallow copy operation on arbitrary Python objects.\u001b[39;00m\n\u001b[1;32m     68\u001b[0m \n\u001b[1;32m     69\u001b[0m \u001b[38;5;124;03m    See the module's __doc__ string for more info.\u001b[39;00m\n\u001b[1;32m     70\u001b[0m \u001b[38;5;124;03m    \"\"\"\u001b[39;00m\n\u001b[1;32m     72\u001b[0m     \u001b[38;5;28mcls\u001b[39m \u001b[38;5;241m=\u001b[39m \u001b[38;5;28mtype\u001b[39m(x)\n",
      "\u001b[0;31mKeyboardInterrupt\u001b[0m: "
     ]
    }
   ],
   "source": [
    "%%time\n",
    "\n",
    "exit_obs_index_INALT = []\n",
    "# exit_obs_index_ROMS, exit_obs_index_ROMSchild = [], [], []\n",
    "exit_z_INALT = []\n",
    "# exit_z_ROMS, exit_z_ROMSchild = [], [], []\n",
    "exitdepthdiff_INALT = []\n",
    "# exitdepthdiff_ROMS, exitdepthdiff_ROMSchild = [], [], []\n",
    "exitdistance_INALT = []\n",
    "# exitdistance_ROMS, exitdistance_ROMSchild = [], [], []\n",
    "\n",
    "for i in tqdm(range(len(INALT_1bool_xr.traj)),desc=\"traj_INALT\"):\n",
    "    obs_index_INALT = INALT_1bool_xr.isel(traj=i).is_in_column.idxmin(dim='obs').values.min()-1\n",
    "    exit_obs_index_INALT.append(obs_index_INALT)\n",
    "    z_INALT = INALT_1bool_xr.isel(traj=i, obs=obs_index_INALT).z.values.min()\n",
    "    exit_z_INALT.append(z_INALT)\n",
    "    exit_INALT = INALT_1bool_xr.isel(traj=i, obs=obs_index_INALT).depthdiff.values.min()\n",
    "    exitdepthdiff_INALT.append(exit_INALT)\n",
    "    distance_INALT = INALT_1bool_xr.isel(traj=i, obs=obs_index_INALT).distance.values.min()\n",
    "    exitdistance_INALT.append(distance_INALT)\n",
    "    \n",
    "# for i in tqdm(range(len(ROMS_1bool_xr.traj)),desc=\"traj_ROMS\"):\n",
    "#     obs_index_ROMS = ROMS_1bool_xr.isel(traj=i).is_in_column.idxmin(dim='obs').values.min()-1\n",
    "#     exit_obs_index_ROMS.append(obs_index_ROMS)\n",
    "#     z_ROMS = ROMS_1bool_xr.isel(traj=i, obs=obs_index_ROMS).z.values.min()\n",
    "#     exit_z_ROMS.append(z_ROMS)\n",
    "#     exit_ROMS = ROMS_1bool_xr.isel(traj=i, obs=obs_index_ROMS).depthdiff.values.min()\n",
    "#     exitdepthdiff_ROMS.append(exit_ROMS)\n",
    "#     distance_ROMS = ROMS_1bool_xr.isel(traj=i, obs=obs_index_ROMS).distance.values.min()\n",
    "#     exitdistance_ROMS.append(distance_ROMS)\n",
    "    \n",
    "# for i in tqdm(range(len(ROMSchild_1bool_xr.traj)),desc=\"traj_ROMSchild\"):\n",
    "#     obs_index_ROMSchild = ROMSchild_1bool_xr.isel(traj=i).is_in_column.idxmin(dim='obs').values.min()-1\n",
    "#     exit_obs_index_ROMSchild.append(obs_index_ROMSchild)\n",
    "#     z_ROMSchild = ROMSchild_1bool_xr.isel(traj=i, obs=obs_index_ROMSchild).z.values.min()\n",
    "#     exit_z_ROMSchild.append(z_ROMSchild)\n",
    "#     exit_ROMSchild = ROMSchild_1bool_xr.isel(traj=i, obs=obs_index_ROMSchild).depthdiff.values.min()\n",
    "#     exitdepthdiff_ROMSchild.append(exit_ROMSchild)\n",
    "#     distance_ROMSchild = ROMSchild_1bool_xr.isel(traj=i, obs=obs_index_ROMSchild).distance.values.min()\n",
    "#     exitdistance_ROMSchild.append(distance_ROMSchild)"
   ]
  },
  {
   "cell_type": "code",
   "execution_count": 14,
   "id": "1a5befc9-2d44-45da-9d97-7e8897cf6a10",
   "metadata": {
    "tags": []
   },
   "outputs": [],
   "source": [
    "dict = {'INALT-obs': exit_obs_index_INALT,'INALT-z': exit_z_INALT,'INALT-diff': exitdepthdiff_INALT,'INALT-distance': exitdistance_INALT,\n",
    "        #'ROMS-obs': exit_obs_index_ROMS,'ROMS-z': exit_z_ROMS,'INALT-z': exit_z_INALT,'ROMS-diff': exitdepthdiff_ROMS,'ROMS-distance': exitdistance_ROMS,\n",
    "        #'ROMSchild-obs': exit_obs_index_ROMSchild,'ROMSchild-z': exit_z_ROMSchild,'ROMSchild-diff': exitdepthdiff_ROMSchild,'ROMSchild-distance': exitdistance_ROMSchild,\n",
    "       }"
   ]
  },
  {
   "cell_type": "code",
   "execution_count": 15,
   "id": "b06e9e29-1a5d-4c74-809f-71bb149c3083",
   "metadata": {},
   "outputs": [],
   "source": [
    "pd.DataFrame(dict).to_csv(f'/gxfs_work1/geomar/smomw523/master-thesis/output_data/retention/tiefenunabhängig/tides/{start_year:04d}{start_month:02d}{start_day:02d}.csv')"
   ]
  },
  {
   "cell_type": "code",
   "execution_count": null,
   "id": "da002e0b-bf3d-4528-81c8-57d246043d19",
   "metadata": {},
   "outputs": [],
   "source": []
  }
 ],
 "metadata": {
  "kernelspec": {
   "display_name": "Python 3 (ipykernel)",
   "language": "python",
   "name": "python3"
  },
  "language_info": {
   "codemirror_mode": {
    "name": "ipython",
    "version": 3
   },
   "file_extension": ".py",
   "mimetype": "text/x-python",
   "name": "python",
   "nbconvert_exporter": "python",
   "pygments_lexer": "ipython3",
   "version": "3.10.5"
  }
 },
 "nbformat": 4,
 "nbformat_minor": 5
}

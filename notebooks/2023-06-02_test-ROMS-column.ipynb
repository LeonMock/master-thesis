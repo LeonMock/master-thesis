{
 "cells": [
  {
   "cell_type": "code",
   "execution_count": 1,
   "id": "0e3cd606-73eb-4d7a-b950-5b816e4bd325",
   "metadata": {},
   "outputs": [
    {
     "name": "stderr",
     "output_type": "stream",
     "text": [
      "fatal: not a git repository (or any of the parent directories): .git\n"
     ]
    }
   ],
   "source": [
    "from parcels import (\n",
    "    AdvectionRK4_3D,\n",
    "    ErrorCode,\n",
    "    FieldSet,\n",
    "    JITParticle,\n",
    "    ParticleSet,\n",
    "    Variable,\n",
    "    plotTrajectoriesFile\n",
    ")\n",
    "\n",
    "from operator import attrgetter\n",
    "from datetime import datetime, timedelta\n",
    "\n",
    "import numpy as np\n",
    "from pathlib import Path\n",
    "import matplotlib.pyplot as plt\n",
    "import xarray as xr\n",
    "import pandas as pd"
   ]
  },
  {
   "cell_type": "code",
   "execution_count": 2,
   "id": "6b06cde2-5d83-48bf-af95-1fc904e76cc7",
   "metadata": {},
   "outputs": [],
   "source": [
    "# Parameters\n",
    "\n",
    "##### release position \n",
    "#release_zone = \"test_1500\"\n",
    "bathymodiolus_delta_lat = 0.6  #seamount diameter\n",
    "\n",
    "#release_depth = 1500\n",
    "\n",
    "# release particles\n",
    "#number_particles = 100\n",
    "\n",
    "# release timing\n",
    "release_time_in_days = 1   # e.g. from 01/01/2009 to 03/01/2009 \n",
    "start_year = 2009\n",
    "start_month = 3\n",
    "start_day = 1\n",
    "\n",
    "# experiment duration etc\n",
    "runtime_in_days = 42\n",
    "dt_in_minutes = 60\n",
    "\n",
    "# particle positions are stored every x hours \n",
    "outputdt_in_hours = 24\n",
    "\n",
    "# release location file\n",
    "release_locations_file = \"../data/config/test_stations.csv\"\n",
    "\n",
    "# location of input data\n",
    "data_path = '../data/config/'#'/gxfs_work1/geomar/smomw044/prep_data_iAtlantic_LMock/'\n",
    "experiment_name = 'ROMS' \n",
    "data_resolution = '1d'\n",
    "mesh_path = '/gxfs_work1/geomar/smomw044/prep_data_iAtlantic_LMock/'\n",
    "\n",
    "# names of files to load\n",
    "fname = 'roms_avg*_2009_datetime.nc'\n",
    "depthfile = 'sigma2depth_parent.nc'\n",
    "meshfile = 'roms_grd2_1500mVT1.nc'\n",
    "\n",
    "# location of output data\n",
    "outpath = f'../output_data/{experiment_name}'\n",
    "output_filename = 'Column_{release_zone}_{start_year}{start_month:02d}{start_day:02d}_RT-{runtime_in_days}_N-{number_particles}_seed-{RNG_seed}.nc'\n",
    "\n",
    "# how to initialize the random number generator\n",
    "RNG_seed = 12345\n"
   ]
  },
  {
   "cell_type": "code",
   "execution_count": 3,
   "id": "1874c693-c754-46fd-b728-884ef0fadd72",
   "metadata": {},
   "outputs": [],
   "source": [
    "# remove spaces and lower the input from csv file\n",
    "release_zone = release_zone.lower().replace(' ', '-').replace(\"'\", '-')\n",
    "\n",
    "# correct runtime\n",
    "corrected_runtime_in_days = runtime_in_days + release_time_in_days"
   ]
  },
  {
   "cell_type": "markdown",
   "id": "2761fbc2-bd5a-48e0-ac95-924354e5aac2",
   "metadata": {},
   "source": [
    "### Construct input / output paths etc."
   ]
  },
  {
   "cell_type": "code",
   "execution_count": 4,
   "id": "9f9b82c1-073e-4343-88b4-384301711b88",
   "metadata": {},
   "outputs": [
    {
     "data": {
      "text/plain": [
       "PosixPath('../output_data/ROMS/Column_test_1500_20090301_RT-42_N-100_seed-12345.nc')"
      ]
     },
     "execution_count": 4,
     "metadata": {},
     "output_type": "execute_result"
    }
   ],
   "source": [
    "data_path = Path(data_path)\n",
    "mesh_path = Path(mesh_path)\n",
    "depth_path = data_path\n",
    "#mesh_mask = mask_path / experiment_name / fname\n",
    "\n",
    "outpath = Path(outpath)\n",
    "\n",
    "output_filename = output_filename.format(\n",
    "    release_zone = release_zone,\n",
    "    RNG_seed=RNG_seed,\n",
    "    start_year=start_year,\n",
    "    start_month = start_month,\n",
    "    start_day = start_day,\n",
    "    runtime_in_days = runtime_in_days,\n",
    "    number_particles=number_particles\n",
    ")\n",
    "outfile = outpath / output_filename\n",
    "outfile"
   ]
  },
  {
   "cell_type": "markdown",
   "id": "d37603b7-76ab-43ef-9151-6eca3adff9f5",
   "metadata": {},
   "source": [
    "### Load release location"
   ]
  },
  {
   "cell_type": "code",
   "execution_count": 5,
   "id": "5261d75d-08b0-4142-9aab-c12f0b2b5f1a",
   "metadata": {},
   "outputs": [],
   "source": [
    "def load_release_locations(release_locations_file):\n",
    "    df = pd.read_csv(release_locations_file, delimiter=\",\")\n",
    "    df = df.set_index(\"release_zone\")\n",
    "    df.index = df.index.str.lower().str.replace(' ', '-').str.replace(\"'\", '-')\n",
    "    return df"
   ]
  },
  {
   "cell_type": "code",
   "execution_count": 6,
   "id": "51683a9d-7823-4446-b293-cb82d04f5301",
   "metadata": {},
   "outputs": [
    {
     "data": {
      "text/plain": [
       "(-23.25, 8.25, 1500.0)"
      ]
     },
     "execution_count": 6,
     "metadata": {},
     "output_type": "execute_result"
    }
   ],
   "source": [
    "release_locations = load_release_locations(release_locations_file)\n",
    "bathymodiolus_lat, bathymodiolus_lon, release_depth = release_locations.loc[release_zone]\n",
    "bathymodiolus_delta_lon = bathymodiolus_delta_lat * np.cos(np.deg2rad(bathymodiolus_lat))\n",
    "\n",
    "bathymodiolus_lat, bathymodiolus_lon, release_depth"
   ]
  },
  {
   "cell_type": "markdown",
   "id": "63e66584-97b3-4040-9cf7-1c7765b72d3e",
   "metadata": {},
   "source": [
    "### Fieldset"
   ]
  },
  {
   "cell_type": "code",
   "execution_count": 7,
   "id": "173fb741",
   "metadata": {},
   "outputs": [],
   "source": [
    "def fieldset_definitions(\n",
    "    data_file, mesh_file, depth_file \n",
    "):\n",
    "    \n",
    "    filenames = {'U': {'lon': mesh_file, 'lat': mesh_file, 'depth': depth_file, 'data': data_file},\n",
    "                 'V': {'lon': mesh_file, 'lat': mesh_file, 'depth': depth_file, 'data': data_file},\n",
    "                 'WA': {'lon': mesh_file, 'lat': mesh_file, 'depth': depth_file, 'data': data_file},\n",
    "                 'T': {'lon': mesh_file, 'lat': mesh_file, 'depth': depth_file, 'data': data_file},\n",
    "                }\n",
    "\n",
    "    variables = {'U': 'u', 'V': 'v', 'WA': 'w', 'T': 'temp'}\n",
    "    \n",
    "    dimensions = {'U': {'lon': 'lon_psi', 'lat': 'lat_psi', 'depth': 'hs',\n",
    "                       'time': 'time'},  # needs to be on f-nodes (psi)\n",
    "                  'V': {'lon': 'lon_psi', 'lat': 'lat_psi', 'depth': 'hs',\n",
    "                        'time': 'time'},  # needs to be on f-nodes (psi)\n",
    "                  'WA': {'lon': 'lon_psi', 'lat': 'lat_psi', 'depth': 'hs',\n",
    "                        'time': 'time'},  # needs to be on f-nodes (psi)\n",
    "                  'T': {'lon': 'lon_rho', 'lat': 'lat_rho', 'depth': 'hs',\n",
    "                        'time': 'time'},  # needs to be on t-nodes (rho)\n",
    "                 }  \n",
    "\n",
    "    return FieldSet.from_c_grid_dataset(\n",
    "        filenames, variables, dimensions,\n",
    "        chunksize=False,\n",
    "        mesh='spherical',\n",
    "        tracer_interp_method='cgrid_tracer',\n",
    "        allow_time_extrapolation=True\n",
    "    )"
   ]
  },
  {
   "cell_type": "code",
   "execution_count": 8,
   "id": "cb58ef87-e8ee-4e74-abc2-d245a6ae3d94",
   "metadata": {},
   "outputs": [],
   "source": [
    "def create_fieldset(\n",
    "    data_path=data_path, mesh_path=mesh_path, depth_path=depth_path, experiment_name=experiment_name,\n",
    "    fname=fname, meshfile=meshfile, depthfile=depthfile\n",
    "):\n",
    "    \n",
    "    data = list(sorted((data_path / experiment_name).glob(fname)))\n",
    "    mesh = list(sorted((mesh_path / experiment_name).glob(meshfile)))\n",
    "    depth = list(sorted((depth_path / experiment_name).glob(depthfile)))\n",
    "    \n",
    "    fieldset = fieldset_definitions(\n",
    "        data, mesh, depth)\n",
    "    return fieldset"
   ]
  },
  {
   "cell_type": "code",
   "execution_count": 9,
   "id": "40329619",
   "metadata": {},
   "outputs": [
    {
     "name": "stderr",
     "output_type": "stream",
     "text": [
      "/opt/conda/lib/python3.10/site-packages/parcels/field.py:248: VisibleDeprecationWarning: Creating an ndarray from ragged nested sequences (which is a list-or-tuple of lists-or-tuples-or ndarrays with different lengths or shapes) is deprecated. If you meant to do this, you must specify 'dtype=object' when creating the ndarray.\n",
      "  timeslices = np.array(timeslices)\n",
      "/opt/conda/lib/python3.10/site-packages/parcels/field.py:250: VisibleDeprecationWarning: Creating an ndarray from ragged nested sequences (which is a list-or-tuple of lists-or-tuples-or ndarrays with different lengths or shapes) is deprecated. If you meant to do this, you must specify 'dtype=object' when creating the ndarray.\n",
      "  dataFiles = np.concatenate(np.array(dataFiles))\n",
      "/opt/conda/lib/python3.10/site-packages/parcels/field.py:248: VisibleDeprecationWarning: Creating an ndarray from ragged nested sequences (which is a list-or-tuple of lists-or-tuples-or ndarrays with different lengths or shapes) is deprecated. If you meant to do this, you must specify 'dtype=object' when creating the ndarray.\n",
      "  timeslices = np.array(timeslices)\n",
      "/opt/conda/lib/python3.10/site-packages/parcels/field.py:250: VisibleDeprecationWarning: Creating an ndarray from ragged nested sequences (which is a list-or-tuple of lists-or-tuples-or ndarrays with different lengths or shapes) is deprecated. If you meant to do this, you must specify 'dtype=object' when creating the ndarray.\n",
      "  dataFiles = np.concatenate(np.array(dataFiles))\n"
     ]
    }
   ],
   "source": [
    "fieldset = create_fieldset()"
   ]
  },
  {
   "cell_type": "code",
   "execution_count": 10,
   "id": "dbe8bee4",
   "metadata": {
    "scrolled": true
   },
   "outputs": [
    {
     "name": "stdout",
     "output_type": "stream",
     "text": [
      "<class 'parcels.grid.RectilinearSGrid'>\n"
     ]
    }
   ],
   "source": [
    "print(type(fieldset.U.grid))\n",
    "assert fieldset.U.grid is fieldset.V.grid\n",
    "assert fieldset.U.grid is fieldset.WA.grid"
   ]
  },
  {
   "cell_type": "code",
   "execution_count": 11,
   "id": "ce89cae6",
   "metadata": {},
   "outputs": [
    {
     "name": "stdout",
     "output_type": "stream",
     "text": [
      "(2, 32, 257, 237)\n",
      "(237,)\n",
      "(257,)\n",
      "(32, 257, 237)\n"
     ]
    }
   ],
   "source": [
    "fieldset.computeTimeChunk(time=fieldset.U.grid.time[0], dt=1)\n",
    "print(fieldset.U.data.shape)\n",
    "print(fieldset.U.grid.lon.shape)\n",
    "print(fieldset.U.grid.lat.shape)\n",
    "print(fieldset.U.grid.depth.shape)"
   ]
  },
  {
   "cell_type": "code",
   "execution_count": 12,
   "id": "76da6b9d-6972-480b-a4d6-f113b1994ca0",
   "metadata": {},
   "outputs": [],
   "source": [
    "fieldset.WA.set_scaling_factor(-1)"
   ]
  },
  {
   "cell_type": "code",
   "execution_count": 13,
   "id": "a73376fe-1ba2-427f-9dae-ad698f51177b",
   "metadata": {},
   "outputs": [
    {
     "data": {
      "text/plain": [
       "<parcels.fieldset.FieldSet at 0x7f38fc7ab340>"
      ]
     },
     "execution_count": 13,
     "metadata": {},
     "output_type": "execute_result"
    }
   ],
   "source": [
    "fieldset"
   ]
  },
  {
   "cell_type": "code",
   "execution_count": 14,
   "id": "8b30f04d",
   "metadata": {},
   "outputs": [
    {
     "name": "stdout",
     "output_type": "stream",
     "text": [
      "[1396.8757   1384.7084   1369.9467   1352.1112   1330.6694   1305.0474\n",
      " 1274.6512   1238.9001   1197.2747   1149.3776   1095.0068   1034.2303\n",
      "  967.45197   895.4517    819.3852    740.73145   661.18933   582.5356\n",
      "  506.4691    434.46884   367.69043   306.91394   252.5432    204.64613\n",
      "  163.02061   127.269585   96.8734     71.25141    49.809605   31.974112\n",
      "   17.212467    5.045076]\n"
     ]
    }
   ],
   "source": [
    "print(fieldset.U.grid.depth[:,20,0])"
   ]
  },
  {
   "cell_type": "markdown",
   "id": "b86848ec-7308-4acf-b75e-77de67c102b9",
   "metadata": {},
   "source": [
    "### Create a set of particles with random initial positions"
   ]
  },
  {
   "cell_type": "code",
   "execution_count": 15,
   "id": "8050dbb7-5890-47b3-a900-a45b54186cb0",
   "metadata": {},
   "outputs": [],
   "source": [
    "np.random.seed(RNG_seed)\n",
    "\n",
    "time = np.sort(\n",
    "        datetime(start_year, start_month, start_day)\n",
    "        + timedelta(hours=1) * np.random.randint(\n",
    "            0, (release_time_in_days) * 24 * 60 / dt_in_minutes, size=(number_particles, )\n",
    "        )\n",
    ")"
   ]
  },
  {
   "cell_type": "code",
   "execution_count": 16,
   "id": "533f6dca-38d3-437a-9e10-136d152d1ef1",
   "metadata": {},
   "outputs": [],
   "source": [
    "def get_uniform_random_in_cube(\n",
    "    lat_start=bathymodiolus_lat-bathymodiolus_delta_lat, lat_end=bathymodiolus_lat+bathymodiolus_delta_lat,\n",
    "    lon_start=bathymodiolus_lon-bathymodiolus_delta_lon, lon_end=bathymodiolus_lon+bathymodiolus_delta_lon,\n",
    "    release_depth=release_depth,\n",
    "    N=10,\n",
    "):\n",
    "    lat = np.rad2deg(\n",
    "        np.arcsin(\n",
    "            np.random.uniform(\n",
    "                np.sin(np.deg2rad(lat_start)),\n",
    "                np.sin(np.deg2rad(-22.9)),      # eigentlich lat_end statt -22.9\n",
    "                size=(N, ),\n",
    "            )\n",
    "        )\n",
    "    )\n",
    "    lon = np.random.uniform(lon_start, lon_end, size=(N, ))\n",
    "    depth = np.random.uniform(0,release_depth, size=(N, ))\n",
    "    \n",
    "    return pd.DataFrame(\n",
    "        {\n",
    "            \"lat\": lat,\n",
    "            \"lon\": lon,\n",
    "            \"depth\": depth,\n",
    "        }\n",
    "    )"
   ]
  },
  {
   "cell_type": "code",
   "execution_count": 17,
   "id": "fc34bd05-713a-485c-a299-93ad816b6075",
   "metadata": {},
   "outputs": [
    {
     "data": {
      "text/plain": [
       "<matplotlib.collections.QuadMesh at 0x7f38fc565690>"
      ]
     },
     "execution_count": 17,
     "metadata": {},
     "output_type": "execute_result"
    },
    {
     "data": {
      "image/png": "[encoded data removed]",
      "text/plain": [
       "<Figure size 432x288 with 2 Axes>"
      ]
     },
     "metadata": {
      "needs_background": "light"
     },
     "output_type": "display_data"
    }
   ],
   "source": [
    "SIGMA=xr.open_dataset('/gxfs_work1/geomar/smomw523/master-thesis/data/config/ROMS/sigma2depth_parent.nc')\n",
    "topo_ROMS = SIGMA['h']\n",
    "topo_ROMS = topo_ROMS.rename({'lat_rho': 'lat','lon_rho': 'lon'})\n",
    "\n",
    "topo_ROMS.plot()"
   ]
  },
  {
   "cell_type": "code",
   "execution_count": 18,
   "id": "14e87366-0863-4e10-9a70-f93c1320aaec",
   "metadata": {},
   "outputs": [],
   "source": [
    "release_points = get_uniform_random_in_cube(N=200*number_particles,\n",
    ")\n",
    "release_points[\"topo_ROMS\"] = topo_ROMS.sel(\n",
    "    lat=release_points.to_xarray().lat,\n",
    "    lon=release_points.to_xarray().lon,\n",
    "    method=\"nearest\",\n",
    ")\n",
    "release_points = release_points.where((release_points.topo_ROMS > release_points.depth + 50) & (  # at least 50 meters above ground\n",
    "    release_points.topo_ROMS < release_depth)).dropna().iloc[\n",
    "    :number_particles].reset_index(drop=True)"
   ]
  },
  {
   "cell_type": "code",
   "execution_count": 19,
   "id": "61b0318c-2854-4fb8-afab-b7d9908bb366",
   "metadata": {},
   "outputs": [
    {
     "data": {
      "text/html": [
       "<div>\n",
       "<style scoped>\n",
       "    .dataframe tbody tr th:only-of-type {\n",
       "        vertical-align: middle;\n",
       "    }\n",
       "\n",
       "    .dataframe tbody tr th {\n",
       "        vertical-align: top;\n",
       "    }\n",
       "\n",
       "    .dataframe thead th {\n",
       "        text-align: right;\n",
       "    }\n",
       "</style>\n",
       "<table border=\"1\" class=\"dataframe\">\n",
       "  <thead>\n",
       "    <tr style=\"text-align: right;\">\n",
       "      <th></th>\n",
       "      <th>lat</th>\n",
       "      <th>lon</th>\n",
       "      <th>depth</th>\n",
       "      <th>topo_ROMS</th>\n",
       "    </tr>\n",
       "  </thead>\n",
       "  <tbody>\n",
       "    <tr>\n",
       "      <th>0</th>\n",
       "      <td>-23.234232</td>\n",
       "      <td>8.381739</td>\n",
       "      <td>1317.976814</td>\n",
       "      <td>1406.546753</td>\n",
       "    </tr>\n",
       "    <tr>\n",
       "      <th>1</th>\n",
       "      <td>-23.191206</td>\n",
       "      <td>8.226234</td>\n",
       "      <td>104.186600</td>\n",
       "      <td>1038.832764</td>\n",
       "    </tr>\n",
       "    <tr>\n",
       "      <th>2</th>\n",
       "      <td>-23.275476</td>\n",
       "      <td>8.243977</td>\n",
       "      <td>948.520777</td>\n",
       "      <td>1041.707886</td>\n",
       "    </tr>\n",
       "    <tr>\n",
       "      <th>3</th>\n",
       "      <td>-23.211091</td>\n",
       "      <td>8.234260</td>\n",
       "      <td>882.196916</td>\n",
       "      <td>1080.712402</td>\n",
       "    </tr>\n",
       "    <tr>\n",
       "      <th>4</th>\n",
       "      <td>-23.297147</td>\n",
       "      <td>8.274663</td>\n",
       "      <td>300.039560</td>\n",
       "      <td>1182.162720</td>\n",
       "    </tr>\n",
       "    <tr>\n",
       "      <th>...</th>\n",
       "      <td>...</td>\n",
       "      <td>...</td>\n",
       "      <td>...</td>\n",
       "      <td>...</td>\n",
       "    </tr>\n",
       "    <tr>\n",
       "      <th>95</th>\n",
       "      <td>-23.339793</td>\n",
       "      <td>8.317534</td>\n",
       "      <td>794.923867</td>\n",
       "      <td>1493.608521</td>\n",
       "    </tr>\n",
       "    <tr>\n",
       "      <th>96</th>\n",
       "      <td>-23.182507</td>\n",
       "      <td>8.397614</td>\n",
       "      <td>93.221225</td>\n",
       "      <td>1218.166016</td>\n",
       "    </tr>\n",
       "    <tr>\n",
       "      <th>97</th>\n",
       "      <td>-23.138272</td>\n",
       "      <td>8.200746</td>\n",
       "      <td>103.045776</td>\n",
       "      <td>1452.462524</td>\n",
       "    </tr>\n",
       "    <tr>\n",
       "      <th>98</th>\n",
       "      <td>-23.182605</td>\n",
       "      <td>8.388576</td>\n",
       "      <td>581.195007</td>\n",
       "      <td>1218.166016</td>\n",
       "    </tr>\n",
       "    <tr>\n",
       "      <th>99</th>\n",
       "      <td>-23.284214</td>\n",
       "      <td>8.303112</td>\n",
       "      <td>11.460546</td>\n",
       "      <td>1085.699219</td>\n",
       "    </tr>\n",
       "  </tbody>\n",
       "</table>\n",
       "<p>100 rows × 4 columns</p>\n",
       "</div>"
      ],
      "text/plain": [
       "          lat       lon        depth    topo_ROMS\n",
       "0  -23.234232  8.381739  1317.976814  1406.546753\n",
       "1  -23.191206  8.226234   104.186600  1038.832764\n",
       "2  -23.275476  8.243977   948.520777  1041.707886\n",
       "3  -23.211091  8.234260   882.196916  1080.712402\n",
       "4  -23.297147  8.274663   300.039560  1182.162720\n",
       "..        ...       ...          ...          ...\n",
       "95 -23.339793  8.317534   794.923867  1493.608521\n",
       "96 -23.182507  8.397614    93.221225  1218.166016\n",
       "97 -23.138272  8.200746   103.045776  1452.462524\n",
       "98 -23.182605  8.388576   581.195007  1218.166016\n",
       "99 -23.284214  8.303112    11.460546  1085.699219\n",
       "\n",
       "[100 rows x 4 columns]"
      ]
     },
     "execution_count": 19,
     "metadata": {},
     "output_type": "execute_result"
    }
   ],
   "source": [
    "release_points"
   ]
  },
  {
   "cell_type": "code",
   "execution_count": 20,
   "id": "1ff2bf21",
   "metadata": {},
   "outputs": [
    {
     "name": "stdout",
     "output_type": "stream",
     "text": [
      "[datetime.datetime(2009, 3, 1, 0, 0) datetime.datetime(2009, 3, 1, 0, 0)\n",
      " datetime.datetime(2009, 3, 1, 0, 0)]\n"
     ]
    }
   ],
   "source": [
    "print(time[0:3])"
   ]
  },
  {
   "cell_type": "code",
   "execution_count": 21,
   "id": "b7eae5df-3b71-429e-835c-d5f2f3ad2adf",
   "metadata": {},
   "outputs": [
    {
     "data": {
      "image/png": "[encoded data removed]",
      "text/plain": [
       "<Figure size 432x288 with 1 Axes>"
      ]
     },
     "metadata": {
      "needs_background": "light"
     },
     "output_type": "display_data"
    }
   ],
   "source": [
    "plt.hist(time, bins=10);"
   ]
  },
  {
   "cell_type": "code",
   "execution_count": 22,
   "id": "034de07f-af59-4eea-a317-e2b1b1f7f246",
   "metadata": {},
   "outputs": [
    {
     "data": {
      "image/png": "[encoded data removed]",
      "text/plain": [
       "<Figure size 1008x360 with 3 Axes>"
      ]
     },
     "metadata": {
      "needs_background": "light"
     },
     "output_type": "display_data"
    }
   ],
   "source": [
    "fig = plt.figure(figsize=(14,5))\n",
    "plt.subplot(1,3,1)\n",
    "plt.scatter(release_points.lon, release_points.lat, s=5)\n",
    "plt.xlabel('lon')\n",
    "plt.ylabel('lat')\n",
    "plt.subplot(1,3,2)\n",
    "plt.scatter(release_points.lon, -release_points.depth, s=5)\n",
    "plt.xlabel('lon')\n",
    "plt.ylabel('depth')\n",
    "plt.subplot(1,3,3)\n",
    "plt.scatter(release_points.lat, -release_points.depth, s=5)\n",
    "plt.xlabel('lat')\n",
    "plt.ylabel('depth')\n",
    "\n",
    "fig.suptitle('Release points ROMS column over 1500m',fontsize = 14)\n",
    "fig.tight_layout()\n",
    "\n",
    "#plt.savefig(('../output_data/{experiment_name}/plots/release-points_column_{release_zone}_{start_year}{start_month:02d}{start_day:02d}_RT-{runtime_in_days}_N-{number_particles}_seed-{RNG_seed}.png').format(\n",
    "#    experiment_name = experiment_name,\n",
    "#    release_zone = release_zone,\n",
    "#    RNG_seed=RNG_seed,\n",
    "#    start_year=start_year,\n",
    "#    start_month = start_month,\n",
    "#    start_day = start_day,\n",
    "#    runtime_in_days = runtime_in_days,\n",
    "#    number_particles=number_particles)\n",
    "#           )\n",
    "\n",
    "plt.show;"
   ]
  },
  {
   "cell_type": "code",
   "execution_count": 23,
   "id": "a24b273b-626f-4d28-a9f2-d139c43985dc",
   "metadata": {
    "scrolled": true
   },
   "outputs": [
    {
     "name": "stdout",
     "output_type": "stream",
     "text": [
      "P[0](lon=8.381739, lat=-23.234232, depth=1317.976814, time=5097600.000000)\n",
      "CPU times: user 1.05 ms, sys: 1.02 ms, total: 2.07 ms\n",
      "Wall time: 2.04 ms\n"
     ]
    }
   ],
   "source": [
    "%%time\n",
    "pset = ParticleSet(\n",
    "    fieldset=fieldset,\n",
    "    pclass=JITParticle, #SampleParticle später? muss dann vorher auch def werden,\n",
    "    lat=release_points.lat,\n",
    "    lon=release_points.lon,\n",
    "    depth=release_points.depth,\n",
    "    time=time\n",
    ")\n",
    "print(pset[0])"
   ]
  },
  {
   "cell_type": "code",
   "execution_count": 24,
   "id": "306d3cc7-24db-479a-b7a4-dd060d6b92b1",
   "metadata": {},
   "outputs": [],
   "source": [
    "#https://github.com/OceanParcels/parcels/issues/765 (Erik)\n",
    "def AdvectionRK4_3D_alternative(particle, fieldset, time):\n",
    "    \"\"\"Advection of particles using fourth-order Runge-Kutta integration with vertical velocity independent of vertical grid distortion.\n",
    "\n",
    "    Function needs to be converted to Kernel object before execution\"\"\"\n",
    "    (u1, v1) = fieldset.UV[time, particle.depth, particle.lat, particle.lon]\n",
    "    w1 = fieldset.WA[time, particle.depth, particle.lat, particle.lon]\n",
    "    lon1 = particle.lon + u1*.5*particle.dt\n",
    "    lat1 = particle.lat + v1*.5*particle.dt\n",
    "    dep1 = particle.depth + w1*.5*particle.dt\n",
    "    (u2, v2) = fieldset.UV[time + .5 * particle.dt, dep1, lat1, lon1]\n",
    "    w2 = fieldset.WA[time + .5 * particle.dt, dep1, lat1, lon1]\n",
    "    lon2 = particle.lon + u2*.5*particle.dt\n",
    "    lat2 = particle.lat + v2*.5*particle.dt\n",
    "    dep2 = particle.depth + w2*.5*particle.dt\n",
    "    (u3, v3) = fieldset.UV[time + .5 * particle.dt, dep2, lat2, lon2]\n",
    "    w3 = fieldset.WA[time + .5 * particle.dt, dep2, lat2, lon2]\n",
    "    lon3 = particle.lon + u3*particle.dt\n",
    "    lat3 = particle.lat + v3*particle.dt\n",
    "    dep3 = particle.depth + w3*particle.dt\n",
    "    (u4, v4) = fieldset.UV[time + particle.dt, dep3, lat3, lon3]\n",
    "    w4 = fieldset.WA[time + particle.dt, dep3, lat3, lon3]\n",
    "    particle.lon += (u1 + 2*u2 + 2*u3 + u4) / 6. * particle.dt\n",
    "    particle.lat += (v1 + 2*v2 + 2*v3 + v4) / 6. * particle.dt\n",
    "    particle.depth += (w1 + 2*w2 + 2*w3 + w4) / 6. * particle.dt"
   ]
  },
  {
   "cell_type": "code",
   "execution_count": 25,
   "id": "8c9ee7a0-7717-45f8-9e39-6c060b310919",
   "metadata": {},
   "outputs": [],
   "source": [
    "kernel = pset.Kernel(AdvectionRK4_3D_alternative)"
   ]
  },
  {
   "cell_type": "markdown",
   "id": "536af1dc-370a-406d-9c7f-d090027785e3",
   "metadata": {},
   "source": [
    "### Be able to handle errors during integration"
   ]
  },
  {
   "cell_type": "code",
   "execution_count": 26,
   "id": "1ee1d976-72ce-41e3-ac3b-89ccc633a451",
   "metadata": {},
   "outputs": [],
   "source": [
    "def DeleteParticle(particle, fieldset, time):\n",
    "    particle.delete()\n",
    "    \n",
    "recovery_cases = {ErrorCode.ErrorOutOfBounds: DeleteParticle,\n",
    "    ErrorCode.ErrorThroughSurface: DeleteParticle\n",
    "    }"
   ]
  },
  {
   "cell_type": "code",
   "execution_count": 27,
   "id": "ac2562a5-2674-41a3-97bf-8224d1fc5c31",
   "metadata": {},
   "outputs": [
    {
     "data": {
      "text/plain": [
       "PosixPath('../output_data/ROMS/Column_test_1500_20090301_RT-42_N-100_seed-12345.nc')"
      ]
     },
     "execution_count": 27,
     "metadata": {},
     "output_type": "execute_result"
    }
   ],
   "source": [
    "outfile"
   ]
  },
  {
   "cell_type": "code",
   "execution_count": 28,
   "id": "5a9a131e-299c-43f2-8eca-b8870d027a58",
   "metadata": {},
   "outputs": [],
   "source": [
    "output_pfile = pset.ParticleFile(name=outfile, outputdt=timedelta(hours=outputdt_in_hours))"
   ]
  },
  {
   "cell_type": "code",
   "execution_count": 29,
   "id": "8e69e821-cae7-4391-b55f-226659111cca",
   "metadata": {},
   "outputs": [
    {
     "name": "stderr",
     "output_type": "stream",
     "text": [
      "INFO: Compiled ArrayJITParticleAdvectionRK4_3D_alternative ==> /tmp/parcels-726810/lib28d7f4c63ff9a9fe09c8a6278d2da2f0_0.so\n",
      "INFO: Temporary output files are stored in ../output_data/ROMS/out-PHWERJEW.\n",
      "INFO: You can use \"parcels_convert_npydir_to_netcdf ../output_data/ROMS/out-PHWERJEW\" to convert these to a NetCDF file during the run.\n",
      "100%|█████████████████████████| 3715200.0/3715200.0 [00:04<00:00, 799088.26it/s]\n"
     ]
    }
   ],
   "source": [
    "pset.execute(\n",
    "    kernel,\n",
    "    runtime=timedelta(days=corrected_runtime_in_days),\n",
    "    dt=timedelta(minutes=dt_in_minutes),\n",
    "    output_file=output_pfile,\n",
    "    recovery=recovery_cases,\n",
    ")"
   ]
  },
  {
   "cell_type": "markdown",
   "id": "a15bba25",
   "metadata": {},
   "source": [
    "### Errors at bottom:\n",
    "* Particle P[23](lon=8.339165, lat=-23.223385, depth=936.193193, time=216000.000000)\n",
    "  \n",
    "  Time: 2009-01-03T12:00:00.000000000,\ttimestep dt: 3600.000000\n",
    "  \n",
    "  Through-surface sampling by particle at (8.339165, -23.223385, 936.193193)\n",
    "\n",
    "### Errors at surface:\n",
    "* Particle P[4](lon=8.254837, lat=-23.426231, depth=10.000000, time=0.000000)\n",
    "   \n",
    "  Time: 2009-01-01T00:00:00.000000000,\ttimestep dt: 3600.000000\n",
    "  \n",
    "  Out-of-bounds sampling by particle at (8.254837, -23.426231, 10.000000)"
   ]
  },
  {
   "cell_type": "code",
   "execution_count": 30,
   "id": "e707b59f-2f14-4290-9591-a19ef871f357",
   "metadata": {},
   "outputs": [],
   "source": [
    "output_pfile.export()"
   ]
  },
  {
   "cell_type": "code",
   "execution_count": 31,
   "id": "f6bd6e0b-5489-40c9-a539-0b65d4071aa5",
   "metadata": {},
   "outputs": [
    {
     "data": {
      "text/html": [
       "<div><svg style=\"position: absolute; width: 0; height: 0; overflow: hidden\">\n",
       "<defs>\n",
       "<symbol id=\"icon-database\" viewBox=\"0 0 32 32\">\n",
       "<path d=\"M16 0c-8.837 0-16 2.239-16 5v4c0 2.761 7.163 5 16 5s16-2.239 16-5v-4c0-2.761-7.163-5-16-5z\"></path>\n",
       "<path d=\"M16 17c-8.837 0-16-2.239-16-5v6c0 2.761 7.163 5 16 5s16-2.239 16-5v-6c0 2.761-7.163 5-16 5z\"></path>\n",
       "<path d=\"M16 26c-8.837 0-16-2.239-16-5v6c0 2.761 7.163 5 16 5s16-2.239 16-5v-6c0 2.761-7.163 5-16 5z\"></path>\n",
       "</symbol>\n",
       "<symbol id=\"icon-file-text2\" viewBox=\"0 0 32 32\">\n",
       "<path d=\"M28.681 7.159c-0.694-0.947-1.662-2.053-2.724-3.116s-2.169-2.030-3.116-2.724c-1.612-1.182-2.393-1.319-2.841-1.319h-15.5c-1.378 0-2.5 1.121-2.5 2.5v27c0 1.378 1.122 2.5 2.5 2.5h23c1.378 0 2.5-1.122 2.5-2.5v-19.5c0-0.448-0.137-1.23-1.319-2.841zM24.543 5.457c0.959 0.959 1.712 1.825 2.268 2.543h-4.811v-4.811c0.718 0.556 1.584 1.309 2.543 2.268zM28 29.5c0 0.271-0.229 0.5-0.5 0.5h-23c-0.271 0-0.5-0.229-0.5-0.5v-27c0-0.271 0.229-0.5 0.5-0.5 0 0 15.499-0 15.5 0v7c0 0.552 0.448 1 1 1h7v19.5z\"></path>\n",
       "<path d=\"M23 26h-14c-0.552 0-1-0.448-1-1s0.448-1 1-1h14c0.552 0 1 0.448 1 1s-0.448 1-1 1z\"></path>\n",
       "<path d=\"M23 22h-14c-0.552 0-1-0.448-1-1s0.448-1 1-1h14c0.552 0 1 0.448 1 1s-0.448 1-1 1z\"></path>\n",
       "<path d=\"M23 18h-14c-0.552 0-1-0.448-1-1s0.448-1 1-1h14c0.552 0 1 0.448 1 1s-0.448 1-1 1z\"></path>\n",
       "</symbol>\n",
       "</defs>\n",
       "</svg>\n",
       "<style>/* CSS stylesheet for displaying xarray objects in jupyterlab.\n",
       " *\n",
       " */\n",
       "\n",
       ":root {\n",
       "  --xr-font-color0: var(--jp-content-font-color0, rgba(0, 0, 0, 1));\n",
       "  --xr-font-color2: var(--jp-content-font-color2, rgba(0, 0, 0, 0.54));\n",
       "  --xr-font-color3: var(--jp-content-font-color3, rgba(0, 0, 0, 0.38));\n",
       "  --xr-border-color: var(--jp-border-color2, #e0e0e0);\n",
       "  --xr-disabled-color: var(--jp-layout-color3, #bdbdbd);\n",
       "  --xr-background-color: var(--jp-layout-color0, white);\n",
       "  --xr-background-color-row-even: var(--jp-layout-color1, white);\n",
       "  --xr-background-color-row-odd: var(--jp-layout-color2, #eeeeee);\n",
       "}\n",
       "\n",
       "html[theme=dark],\n",
       "body.vscode-dark {\n",
       "  --xr-font-color0: rgba(255, 255, 255, 1);\n",
       "  --xr-font-color2: rgba(255, 255, 255, 0.54);\n",
       "  --xr-font-color3: rgba(255, 255, 255, 0.38);\n",
       "  --xr-border-color: #1F1F1F;\n",
       "  --xr-disabled-color: #515151;\n",
       "  --xr-background-color: #111111;\n",
       "  --xr-background-color-row-even: #111111;\n",
       "  --xr-background-color-row-odd: #313131;\n",
       "}\n",
       "\n",
       ".xr-wrap {\n",
       "  display: block !important;\n",
       "  min-width: 300px;\n",
       "  max-width: 700px;\n",
       "}\n",
       "\n",
       ".xr-text-repr-fallback {\n",
       "  /* fallback to plain text repr when CSS is not injected (untrusted notebook) */\n",
       "  display: none;\n",
       "}\n",
       "\n",
       ".xr-header {\n",
       "  padding-top: 6px;\n",
       "  padding-bottom: 6px;\n",
       "  margin-bottom: 4px;\n",
       "  border-bottom: solid 1px var(--xr-border-color);\n",
       "}\n",
       "\n",
       ".xr-header > div,\n",
       ".xr-header > ul {\n",
       "  display: inline;\n",
       "  margin-top: 0;\n",
       "  margin-bottom: 0;\n",
       "}\n",
       "\n",
       ".xr-obj-type,\n",
       ".xr-array-name {\n",
       "  margin-left: 2px;\n",
       "  margin-right: 10px;\n",
       "}\n",
       "\n",
       ".xr-obj-type {\n",
       "  color: var(--xr-font-color2);\n",
       "}\n",
       "\n",
       ".xr-sections {\n",
       "  padding-left: 0 !important;\n",
       "  display: grid;\n",
       "  grid-template-columns: 150px auto auto 1fr 20px 20px;\n",
       "}\n",
       "\n",
       ".xr-section-item {\n",
       "  display: contents;\n",
       "}\n",
       "\n",
       ".xr-section-item input {\n",
       "  display: none;\n",
       "}\n",
       "\n",
       ".xr-section-item input + label {\n",
       "  color: var(--xr-disabled-color);\n",
       "}\n",
       "\n",
       ".xr-section-item input:enabled + label {\n",
       "  cursor: pointer;\n",
       "  color: var(--xr-font-color2);\n",
       "}\n",
       "\n",
       ".xr-section-item input:enabled + label:hover {\n",
       "  color: var(--xr-font-color0);\n",
       "}\n",
       "\n",
       ".xr-section-summary {\n",
       "  grid-column: 1;\n",
       "  color: var(--xr-font-color2);\n",
       "  font-weight: 500;\n",
       "}\n",
       "\n",
       ".xr-section-summary > span {\n",
       "  display: inline-block;\n",
       "  padding-left: 0.5em;\n",
       "}\n",
       "\n",
       ".xr-section-summary-in:disabled + label {\n",
       "  color: var(--xr-font-color2);\n",
       "}\n",
       "\n",
       ".xr-section-summary-in + label:before {\n",
       "  display: inline-block;\n",
       "  content: '►';\n",
       "  font-size: 11px;\n",
       "  width: 15px;\n",
       "  text-align: center;\n",
       "}\n",
       "\n",
       ".xr-section-summary-in:disabled + label:before {\n",
       "  color: var(--xr-disabled-color);\n",
       "}\n",
       "\n",
       ".xr-section-summary-in:checked + label:before {\n",
       "  content: '▼';\n",
       "}\n",
       "\n",
       ".xr-section-summary-in:checked + label > span {\n",
       "  display: none;\n",
       "}\n",
       "\n",
       ".xr-section-summary,\n",
       ".xr-section-inline-details {\n",
       "  padding-top: 4px;\n",
       "  padding-bottom: 4px;\n",
       "}\n",
       "\n",
       ".xr-section-inline-details {\n",
       "  grid-column: 2 / -1;\n",
       "}\n",
       "\n",
       ".xr-section-details {\n",
       "  display: none;\n",
       "  grid-column: 1 / -1;\n",
       "  margin-bottom: 5px;\n",
       "}\n",
       "\n",
       ".xr-section-summary-in:checked ~ .xr-section-details {\n",
       "  display: contents;\n",
       "}\n",
       "\n",
       ".xr-array-wrap {\n",
       "  grid-column: 1 / -1;\n",
       "  display: grid;\n",
       "  grid-template-columns: 20px auto;\n",
       "}\n",
       "\n",
       ".xr-array-wrap > label {\n",
       "  grid-column: 1;\n",
       "  vertical-align: top;\n",
       "}\n",
       "\n",
       ".xr-preview {\n",
       "  color: var(--xr-font-color3);\n",
       "}\n",
       "\n",
       ".xr-array-preview,\n",
       ".xr-array-data {\n",
       "  padding: 0 5px !important;\n",
       "  grid-column: 2;\n",
       "}\n",
       "\n",
       ".xr-array-data,\n",
       ".xr-array-in:checked ~ .xr-array-preview {\n",
       "  display: none;\n",
       "}\n",
       "\n",
       ".xr-array-in:checked ~ .xr-array-data,\n",
       ".xr-array-preview {\n",
       "  display: inline-block;\n",
       "}\n",
       "\n",
       ".xr-dim-list {\n",
       "  display: inline-block !important;\n",
       "  list-style: none;\n",
       "  padding: 0 !important;\n",
       "  margin: 0;\n",
       "}\n",
       "\n",
       ".xr-dim-list li {\n",
       "  display: inline-block;\n",
       "  padding: 0;\n",
       "  margin: 0;\n",
       "}\n",
       "\n",
       ".xr-dim-list:before {\n",
       "  content: '(';\n",
       "}\n",
       "\n",
       ".xr-dim-list:after {\n",
       "  content: ')';\n",
       "}\n",
       "\n",
       ".xr-dim-list li:not(:last-child):after {\n",
       "  content: ',';\n",
       "  padding-right: 5px;\n",
       "}\n",
       "\n",
       ".xr-has-index {\n",
       "  font-weight: bold;\n",
       "}\n",
       "\n",
       ".xr-var-list,\n",
       ".xr-var-item {\n",
       "  display: contents;\n",
       "}\n",
       "\n",
       ".xr-var-item > div,\n",
       ".xr-var-item label,\n",
       ".xr-var-item > .xr-var-name span {\n",
       "  background-color: var(--xr-background-color-row-even);\n",
       "  margin-bottom: 0;\n",
       "}\n",
       "\n",
       ".xr-var-item > .xr-var-name:hover span {\n",
       "  padding-right: 5px;\n",
       "}\n",
       "\n",
       ".xr-var-list > li:nth-child(odd) > div,\n",
       ".xr-var-list > li:nth-child(odd) > label,\n",
       ".xr-var-list > li:nth-child(odd) > .xr-var-name span {\n",
       "  background-color: var(--xr-background-color-row-odd);\n",
       "}\n",
       "\n",
       ".xr-var-name {\n",
       "  grid-column: 1;\n",
       "}\n",
       "\n",
       ".xr-var-dims {\n",
       "  grid-column: 2;\n",
       "}\n",
       "\n",
       ".xr-var-dtype {\n",
       "  grid-column: 3;\n",
       "  text-align: right;\n",
       "  color: var(--xr-font-color2);\n",
       "}\n",
       "\n",
       ".xr-var-preview {\n",
       "  grid-column: 4;\n",
       "}\n",
       "\n",
       ".xr-var-name,\n",
       ".xr-var-dims,\n",
       ".xr-var-dtype,\n",
       ".xr-preview,\n",
       ".xr-attrs dt {\n",
       "  white-space: nowrap;\n",
       "  overflow: hidden;\n",
       "  text-overflow: ellipsis;\n",
       "  padding-right: 10px;\n",
       "}\n",
       "\n",
       ".xr-var-name:hover,\n",
       ".xr-var-dims:hover,\n",
       ".xr-var-dtype:hover,\n",
       ".xr-attrs dt:hover {\n",
       "  overflow: visible;\n",
       "  width: auto;\n",
       "  z-index: 1;\n",
       "}\n",
       "\n",
       ".xr-var-attrs,\n",
       ".xr-var-data {\n",
       "  display: none;\n",
       "  background-color: var(--xr-background-color) !important;\n",
       "  padding-bottom: 5px !important;\n",
       "}\n",
       "\n",
       ".xr-var-attrs-in:checked ~ .xr-var-attrs,\n",
       ".xr-var-data-in:checked ~ .xr-var-data {\n",
       "  display: block;\n",
       "}\n",
       "\n",
       ".xr-var-data > table {\n",
       "  float: right;\n",
       "}\n",
       "\n",
       ".xr-var-name span,\n",
       ".xr-var-data,\n",
       ".xr-attrs {\n",
       "  padding-left: 25px !important;\n",
       "}\n",
       "\n",
       ".xr-attrs,\n",
       ".xr-var-attrs,\n",
       ".xr-var-data {\n",
       "  grid-column: 1 / -1;\n",
       "}\n",
       "\n",
       "dl.xr-attrs {\n",
       "  padding: 0;\n",
       "  margin: 0;\n",
       "  display: grid;\n",
       "  grid-template-columns: 125px auto;\n",
       "}\n",
       "\n",
       ".xr-attrs dt,\n",
       ".xr-attrs dd {\n",
       "  padding: 0;\n",
       "  margin: 0;\n",
       "  float: left;\n",
       "  padding-right: 10px;\n",
       "  width: auto;\n",
       "}\n",
       "\n",
       ".xr-attrs dt {\n",
       "  font-weight: normal;\n",
       "  grid-column: 1;\n",
       "}\n",
       "\n",
       ".xr-attrs dt:hover span {\n",
       "  display: inline-block;\n",
       "  background: var(--xr-background-color);\n",
       "  padding-right: 10px;\n",
       "}\n",
       "\n",
       ".xr-attrs dd {\n",
       "  grid-column: 2;\n",
       "  white-space: pre-wrap;\n",
       "  word-break: break-all;\n",
       "}\n",
       "\n",
       ".xr-icon-database,\n",
       ".xr-icon-file-text2 {\n",
       "  display: inline-block;\n",
       "  vertical-align: middle;\n",
       "  width: 1em;\n",
       "  height: 1.5em !important;\n",
       "  stroke-width: 0;\n",
       "  stroke: currentColor;\n",
       "  fill: currentColor;\n",
       "}\n",
       "</style><pre class='xr-text-repr-fallback'>&lt;xarray.Dataset&gt;\n",
       "Dimensions:     (traj: 100, obs: 44)\n",
       "Dimensions without coordinates: traj, obs\n",
       "Data variables:\n",
       "    lon         (traj, obs) float64 8.382 8.391 8.383 8.358 ... nan nan nan nan\n",
       "    lat         (traj, obs) float64 -23.23 -23.23 -23.23 -23.26 ... nan nan nan\n",
       "    z           (traj, obs) float64 1.318e+03 1.384e+03 1.423e+03 ... nan nan\n",
       "    time        (traj, obs) datetime64[ns] 2009-03-01 2009-03-02 ... NaT NaT\n",
       "    trajectory  (traj, obs) float64 0.0 0.0 0.0 0.0 nan ... nan nan nan nan nan\n",
       "Attributes:\n",
       "    feature_type:           trajectory\n",
       "    Conventions:            CF-1.6/CF-1.7\n",
       "    ncei_template_version:  NCEI_NetCDF_Trajectory_Template_v2.0\n",
       "    parcels_version:        2.3.1\n",
       "    parcels_mesh:           spherical</pre><div class='xr-wrap' style='display:none'><div class='xr-header'><div class='xr-obj-type'>xarray.Dataset</div></div><ul class='xr-sections'><li class='xr-section-item'><input id='section-4dcc161f-7043-4cf4-8da3-00d151dac1cc' class='xr-section-summary-in' type='checkbox' disabled ><label for='section-4dcc161f-7043-4cf4-8da3-00d151dac1cc' class='xr-section-summary'  title='Expand/collapse section'>Dimensions:</label><div class='xr-section-inline-details'><ul class='xr-dim-list'><li><span>traj</span>: 100</li><li><span>obs</span>: 44</li></ul></div><div class='xr-section-details'></div></li><li class='xr-section-item'><input id='section-13423071-fdf9-4bf6-a4ca-fe9831058c02' class='xr-section-summary-in' type='checkbox' disabled ><label for='section-13423071-fdf9-4bf6-a4ca-fe9831058c02' class='xr-section-summary'  title='Expand/collapse section'>Coordinates: <span>(0)</span></label><div class='xr-section-inline-details'></div><div class='xr-section-details'><ul class='xr-var-list'></ul></div></li><li class='xr-section-item'><input id='section-91d1ff65-cee9-4364-906e-bb167c7a16e2' class='xr-section-summary-in' type='checkbox'  checked><label for='section-91d1ff65-cee9-4364-906e-bb167c7a16e2' class='xr-section-summary' >Data variables: <span>(5)</span></label><div class='xr-section-inline-details'></div><div class='xr-section-details'><ul class='xr-var-list'><li class='xr-var-item'><div class='xr-var-name'><span>lon</span></div><div class='xr-var-dims'>(traj, obs)</div><div class='xr-var-dtype'>float64</div><div class='xr-var-preview xr-preview'>...</div><input id='attrs-b474e70f-f9ea-4f6c-897b-de8b21753250' class='xr-var-attrs-in' type='checkbox' ><label for='attrs-b474e70f-f9ea-4f6c-897b-de8b21753250' title='Show/Hide attributes'><svg class='icon xr-icon-file-text2'><use xlink:href='#icon-file-text2'></use></svg></label><input id='data-a35d3e17-a435-4e70-a9d0-49a63c80fc9a' class='xr-var-data-in' type='checkbox'><label for='data-a35d3e17-a435-4e70-a9d0-49a63c80fc9a' title='Show/Hide data repr'><svg class='icon xr-icon-database'><use xlink:href='#icon-database'></use></svg></label><div class='xr-var-attrs'><dl class='xr-attrs'><dt><span>long_name :</span></dt><dd></dd><dt><span>standard_name :</span></dt><dd>longitude</dd><dt><span>units :</span></dt><dd>degrees_east</dd><dt><span>axis :</span></dt><dd>X</dd></dl></div><div class='xr-var-data'><pre>array([[8.381739, 8.390852, 8.382847, ...,      nan,      nan,      nan],\n",
       "       [8.226234, 8.21504 , 8.194936, ..., 9.10051 , 9.035463, 8.963075],\n",
       "       [8.243977, 8.3096  , 8.37288 , ..., 9.354797, 9.337777, 9.319443],\n",
       "       ...,\n",
       "       [8.202485, 8.23655 , 8.276401, ..., 8.858542, 8.895259,      nan],\n",
       "       [8.391056, 8.451996, 8.520377, ..., 9.552856, 9.546473,      nan],\n",
       "       [8.303423, 8.311937, 8.343731, ...,      nan,      nan,      nan]])</pre></div></li><li class='xr-var-item'><div class='xr-var-name'><span>lat</span></div><div class='xr-var-dims'>(traj, obs)</div><div class='xr-var-dtype'>float64</div><div class='xr-var-preview xr-preview'>...</div><input id='attrs-ea7d3723-e08c-4089-95cd-7c2fde27ee5f' class='xr-var-attrs-in' type='checkbox' ><label for='attrs-ea7d3723-e08c-4089-95cd-7c2fde27ee5f' title='Show/Hide attributes'><svg class='icon xr-icon-file-text2'><use xlink:href='#icon-file-text2'></use></svg></label><input id='data-9c732cf8-bcd7-4a77-b041-4c926f203074' class='xr-var-data-in' type='checkbox'><label for='data-9c732cf8-bcd7-4a77-b041-4c926f203074' title='Show/Hide data repr'><svg class='icon xr-icon-database'><use xlink:href='#icon-database'></use></svg></label><div class='xr-var-attrs'><dl class='xr-attrs'><dt><span>long_name :</span></dt><dd></dd><dt><span>standard_name :</span></dt><dd>latitude</dd><dt><span>units :</span></dt><dd>degrees_north</dd><dt><span>axis :</span></dt><dd>Y</dd></dl></div><div class='xr-var-data'><pre>array([[-23.234232, -23.228028, -23.23039 , ...,        nan,        nan,\n",
       "               nan],\n",
       "       [-23.191206, -23.213407, -23.230862, ..., -22.300278, -22.241444,\n",
       "        -22.180906],\n",
       "       [-23.275476, -23.273398, -23.224961, ..., -23.696007, -23.730789,\n",
       "        -23.764749],\n",
       "       ...,\n",
       "       [-23.139491, -23.163327, -23.176492, ..., -22.76217 , -22.711484,\n",
       "               nan],\n",
       "       [-23.182765, -23.183828, -23.175525, ..., -23.965828, -23.965979,\n",
       "               nan],\n",
       "       [-23.286133, -23.329412, -23.36581 , ...,        nan,        nan,\n",
       "               nan]])</pre></div></li><li class='xr-var-item'><div class='xr-var-name'><span>z</span></div><div class='xr-var-dims'>(traj, obs)</div><div class='xr-var-dtype'>float64</div><div class='xr-var-preview xr-preview'>...</div><input id='attrs-7caeacf8-d0da-48a3-bfd6-7a6ae4c53376' class='xr-var-attrs-in' type='checkbox' ><label for='attrs-7caeacf8-d0da-48a3-bfd6-7a6ae4c53376' title='Show/Hide attributes'><svg class='icon xr-icon-file-text2'><use xlink:href='#icon-file-text2'></use></svg></label><input id='data-f73c4ad3-b458-4b81-9635-6b19bf876301' class='xr-var-data-in' type='checkbox'><label for='data-f73c4ad3-b458-4b81-9635-6b19bf876301' title='Show/Hide data repr'><svg class='icon xr-icon-database'><use xlink:href='#icon-database'></use></svg></label><div class='xr-var-attrs'><dl class='xr-attrs'><dt><span>long_name :</span></dt><dd></dd><dt><span>standard_name :</span></dt><dd>depth</dd><dt><span>units :</span></dt><dd>m</dd><dt><span>positive :</span></dt><dd>down</dd></dl></div><div class='xr-var-data'><pre>array([[1317.976814, 1384.057142, 1423.190501, ...,         nan,         nan,\n",
       "                nan],\n",
       "       [ 104.1866  ,   96.861829,   90.80673 , ...,   78.533299,   80.608951,\n",
       "          82.791883],\n",
       "       [ 948.520777,  950.133515,  953.990351, ...,  898.005634,  899.369719,\n",
       "         896.96893 ],\n",
       "       ...,\n",
       "       [ 102.564422,   99.418697,   96.636431, ...,   48.045577,   46.036937,\n",
       "                nan],\n",
       "       [ 581.851528,  577.710437,  588.969907, ...,  596.580884,  596.242051,\n",
       "                nan],\n",
       "       [  11.142181,   12.088286,   11.287661, ...,         nan,         nan,\n",
       "                nan]])</pre></div></li><li class='xr-var-item'><div class='xr-var-name'><span>time</span></div><div class='xr-var-dims'>(traj, obs)</div><div class='xr-var-dtype'>datetime64[ns]</div><div class='xr-var-preview xr-preview'>...</div><input id='attrs-ec1bbca1-f652-4e0d-b94a-1e19894fe269' class='xr-var-attrs-in' type='checkbox' ><label for='attrs-ec1bbca1-f652-4e0d-b94a-1e19894fe269' title='Show/Hide attributes'><svg class='icon xr-icon-file-text2'><use xlink:href='#icon-file-text2'></use></svg></label><input id='data-792a166d-1f83-4290-bfc2-4cdb009d42b8' class='xr-var-data-in' type='checkbox'><label for='data-792a166d-1f83-4290-bfc2-4cdb009d42b8' title='Show/Hide data repr'><svg class='icon xr-icon-database'><use xlink:href='#icon-database'></use></svg></label><div class='xr-var-attrs'><dl class='xr-attrs'><dt><span>long_name :</span></dt><dd></dd><dt><span>standard_name :</span></dt><dd>time</dd><dt><span>axis :</span></dt><dd>T</dd></dl></div><div class='xr-var-data'><pre>array([[&#x27;2009-03-01T00:00:00.000000000&#x27;, &#x27;2009-03-02T00:00:00.000000000&#x27;,\n",
       "        &#x27;2009-03-03T00:00:00.000000000&#x27;, ...,                           &#x27;NaT&#x27;,\n",
       "                                  &#x27;NaT&#x27;,                           &#x27;NaT&#x27;],\n",
       "       [&#x27;2009-03-01T00:00:00.000000000&#x27;, &#x27;2009-03-02T00:00:00.000000000&#x27;,\n",
       "        &#x27;2009-03-03T00:00:00.000000000&#x27;, ..., &#x27;2009-04-11T00:00:00.000000000&#x27;,\n",
       "        &#x27;2009-04-12T00:00:00.000000000&#x27;, &#x27;2009-04-13T00:00:00.000000000&#x27;],\n",
       "       [&#x27;2009-03-01T00:00:00.000000000&#x27;, &#x27;2009-03-02T00:00:00.000000000&#x27;,\n",
       "        &#x27;2009-03-03T00:00:00.000000000&#x27;, ..., &#x27;2009-04-11T00:00:00.000000000&#x27;,\n",
       "        &#x27;2009-04-12T00:00:00.000000000&#x27;, &#x27;2009-04-13T00:00:00.000000000&#x27;],\n",
       "       ...,\n",
       "       [&#x27;2009-03-02T00:00:00.000000000&#x27;, &#x27;2009-03-03T00:00:00.000000000&#x27;,\n",
       "        &#x27;2009-03-04T00:00:00.000000000&#x27;, ..., &#x27;2009-04-12T00:00:00.000000000&#x27;,\n",
       "        &#x27;2009-04-13T00:00:00.000000000&#x27;,                           &#x27;NaT&#x27;],\n",
       "       [&#x27;2009-03-02T00:00:00.000000000&#x27;, &#x27;2009-03-03T00:00:00.000000000&#x27;,\n",
       "        &#x27;2009-03-04T00:00:00.000000000&#x27;, ..., &#x27;2009-04-12T00:00:00.000000000&#x27;,\n",
       "        &#x27;2009-04-13T00:00:00.000000000&#x27;,                           &#x27;NaT&#x27;],\n",
       "       [&#x27;2009-03-02T00:00:00.000000000&#x27;, &#x27;2009-03-03T00:00:00.000000000&#x27;,\n",
       "        &#x27;2009-03-04T00:00:00.000000000&#x27;, ...,                           &#x27;NaT&#x27;,\n",
       "                                  &#x27;NaT&#x27;,                           &#x27;NaT&#x27;]],\n",
       "      dtype=&#x27;datetime64[ns]&#x27;)</pre></div></li><li class='xr-var-item'><div class='xr-var-name'><span>trajectory</span></div><div class='xr-var-dims'>(traj, obs)</div><div class='xr-var-dtype'>float64</div><div class='xr-var-preview xr-preview'>...</div><input id='attrs-0dd95925-2896-4806-aec4-615a062eb26c' class='xr-var-attrs-in' type='checkbox' ><label for='attrs-0dd95925-2896-4806-aec4-615a062eb26c' title='Show/Hide attributes'><svg class='icon xr-icon-file-text2'><use xlink:href='#icon-file-text2'></use></svg></label><input id='data-0fb948db-3e37-4da9-a947-d3dce0f9a137' class='xr-var-data-in' type='checkbox'><label for='data-0fb948db-3e37-4da9-a947-d3dce0f9a137' title='Show/Hide data repr'><svg class='icon xr-icon-database'><use xlink:href='#icon-database'></use></svg></label><div class='xr-var-attrs'><dl class='xr-attrs'><dt><span>long_name :</span></dt><dd>Unique identifier for each particle</dd><dt><span>cf_role :</span></dt><dd>trajectory_id</dd></dl></div><div class='xr-var-data'><pre>array([[ 0.,  0.,  0., ..., nan, nan, nan],\n",
       "       [ 1.,  1.,  1., ...,  1.,  1.,  1.],\n",
       "       [ 2.,  2.,  2., ...,  2.,  2.,  2.],\n",
       "       ...,\n",
       "       [97., 97., 97., ..., 97., 97., nan],\n",
       "       [98., 98., 98., ..., 98., 98., nan],\n",
       "       [99., 99., 99., ..., nan, nan, nan]])</pre></div></li></ul></div></li><li class='xr-section-item'><input id='section-de7015da-33bc-4a96-bfaa-457c8d3f1c92' class='xr-section-summary-in' type='checkbox'  checked><label for='section-de7015da-33bc-4a96-bfaa-457c8d3f1c92' class='xr-section-summary' >Attributes: <span>(5)</span></label><div class='xr-section-inline-details'></div><div class='xr-section-details'><dl class='xr-attrs'><dt><span>feature_type :</span></dt><dd>trajectory</dd><dt><span>Conventions :</span></dt><dd>CF-1.6/CF-1.7</dd><dt><span>ncei_template_version :</span></dt><dd>NCEI_NetCDF_Trajectory_Template_v2.0</dd><dt><span>parcels_version :</span></dt><dd>2.3.1</dd><dt><span>parcels_mesh :</span></dt><dd>spherical</dd></dl></div></li></ul></div></div>"
      ],
      "text/plain": [
       "<xarray.Dataset>\n",
       "Dimensions:     (traj: 100, obs: 44)\n",
       "Dimensions without coordinates: traj, obs\n",
       "Data variables:\n",
       "    lon         (traj, obs) float64 ...\n",
       "    lat         (traj, obs) float64 ...\n",
       "    z           (traj, obs) float64 ...\n",
       "    time        (traj, obs) datetime64[ns] ...\n",
       "    trajectory  (traj, obs) float64 ...\n",
       "Attributes:\n",
       "    feature_type:           trajectory\n",
       "    Conventions:            CF-1.6/CF-1.7\n",
       "    ncei_template_version:  NCEI_NetCDF_Trajectory_Template_v2.0\n",
       "    parcels_version:        2.3.1\n",
       "    parcels_mesh:           spherical"
      ]
     },
     "execution_count": 31,
     "metadata": {},
     "output_type": "execute_result"
    }
   ],
   "source": [
    "particle_ds = xr.open_dataset(outfile)\n",
    "particle_ds"
   ]
  },
  {
   "cell_type": "code",
   "execution_count": 32,
   "id": "2dda4ad2-86b8-43fe-b40d-d9ffc5ea834e",
   "metadata": {},
   "outputs": [
    {
     "data": {
      "text/plain": [
       "[<matplotlib.lines.Line2D at 0x7f38f2b12b00>]"
      ]
     },
     "execution_count": 32,
     "metadata": {},
     "output_type": "execute_result"
    },
    {
     "data": {
      "image/png": "[encoded data removed]",
      "text/plain": [
       "<Figure size 432x288 with 1 Axes>"
      ]
     },
     "metadata": {
      "needs_background": "light"
     },
     "output_type": "display_data"
    }
   ],
   "source": [
    "particle_ds.plot.scatter(x=\"lon\", y=\"lat\")\n",
    "particle_ds.isel(obs=0).plot.scatter(x=\"lon\", y=\"lat\")\n",
    "plt.plot(bathymodiolus_lon, bathymodiolus_lat, 'rx')"
   ]
  },
  {
   "cell_type": "code",
   "execution_count": 33,
   "id": "a4d6b1b3-41d5-496f-bbcf-26fe71045295",
   "metadata": {},
   "outputs": [
    {
     "data": {
      "text/plain": [
       "[<matplotlib.lines.Line2D at 0x7f38f2880e20>]"
      ]
     },
     "execution_count": 33,
     "metadata": {},
     "output_type": "execute_result"
    },
    {
     "data": {
      "image/png": "[encoded data removed]",
      "text/plain": [
       "<Figure size 432x288 with 1 Axes>"
      ]
     },
     "metadata": {
      "needs_background": "light"
     },
     "output_type": "display_data"
    }
   ],
   "source": [
    "particle_ds.lon.isnull().sum(\"traj\").plot()"
   ]
  }
 ],
 "metadata": {
  "kernelspec": {
   "display_name": "Python 3 (ipykernel)",
   "language": "python",
   "name": "python3"
  },
  "language_info": {
   "codemirror_mode": {
    "name": "ipython",
    "version": 3
   },
   "file_extension": ".py",
   "mimetype": "text/x-python",
   "name": "python",
   "nbconvert_exporter": "python",
   "pygments_lexer": "ipython3",
   "version": "3.10.5"
  }
 },
 "nbformat": 4,
 "nbformat_minor": 5
}

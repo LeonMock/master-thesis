{
 "cells": [
  {
   "cell_type": "code",
   "execution_count": 29,
   "id": "0e3cd606-73eb-4d7a-b950-5b816e4bd325",
   "metadata": {},
   "outputs": [],
   "source": [
    "from parcels import (\n",
    "    AdvectionRK4_3D,\n",
    "    ErrorCode,\n",
    "    FieldSet,\n",
    "    JITParticle,\n",
    "    ParticleSet,\n",
    "    Variable,\n",
    "    plotTrajectoriesFile\n",
    ")\n",
    "\n",
    "from operator import attrgetter\n",
    "from datetime import datetime, timedelta\n",
    "\n",
    "import numpy as np\n",
    "from pathlib import Path\n",
    "import matplotlib.pyplot as plt\n",
    "import xarray as xr\n",
    "import pandas as pd\n",
    "import cartopy.crs as ccrs\n",
    "import cartopy.feature as cf"
   ]
  },
  {
   "cell_type": "code",
   "execution_count": 2,
   "id": "6b06cde2-5d83-48bf-af95-1fc904e76cc7",
   "metadata": {},
   "outputs": [],
   "source": [
    "# Parameters\n",
    "\n",
    "##### release position \n",
    "release_zone = \"test_001\"\n",
    "bathymodiolus_delta_lat = 0.08  #change??\n",
    "\n",
    "release_depth = 200\n",
    "\n",
    "# release particles\n",
    "number_particles = 100\n",
    "\n",
    "# release timing\n",
    "release_time_in_days = 1   # e.g. from 01/01/2009 to 03/01/2009 \n",
    "start_year = 2009\n",
    "start_month = 1\n",
    "start_day = 1\n",
    "\n",
    "# experiment duration etc\n",
    "runtime_in_days = 5\n",
    "dt_in_minutes = 60\n",
    "\n",
    "# particle positions are stored every x hours \n",
    "outputdt_in_hours = 24\n",
    "\n",
    "# release location file\n",
    "release_locations_file = \"../data/config/test_stations.csv\"\n",
    "\n",
    "# location of input data\n",
    "data_path = '../data/config/'#'/gxfs_work1/geomar/smomw044/prep_data_iAtlantic_LMock/'\n",
    "experiment_name = 'ROMS' \n",
    "data_resolution = '1d'\n",
    "\n",
    "# names of files to load\n",
    "fname = 'roms_avg01_2009_datetime.nc'\n",
    "depthfile = 'sigma2depth_parent.nc'\n",
    "meshfile = 'roms_grd2_1500mVT1.nc'\n",
    "\n",
    "# location of output data\n",
    "outpath = f'../output_data/{experiment_name}'\n",
    "output_filename = '{release_zone}_{start_year}{start_month:02d}{start_day:02d}_RT-{runtime_in_days}_N-{number_particles}_seed-{RNG_seed}.nc'\n",
    "\n",
    "# how to initialize the random number generator\n",
    "RNG_seed = 12345\n"
   ]
  },
  {
   "cell_type": "code",
   "execution_count": 3,
   "id": "1874c693-c754-46fd-b728-884ef0fadd72",
   "metadata": {},
   "outputs": [],
   "source": [
    "# remove spaces and lower the input from csv file\n",
    "release_zone = release_zone.lower().replace(' ', '-').replace(\"'\", '-')\n",
    "\n",
    "# correct runtime\n",
    "corrected_runtime_in_days = runtime_in_days + release_time_in_days"
   ]
  },
  {
   "cell_type": "markdown",
   "id": "2761fbc2-bd5a-48e0-ac95-924354e5aac2",
   "metadata": {},
   "source": [
    "### Construct input / output paths etc."
   ]
  },
  {
   "cell_type": "code",
   "execution_count": 4,
   "id": "9f9b82c1-073e-4343-88b4-384301711b88",
   "metadata": {},
   "outputs": [
    {
     "data": {
      "text/plain": [
       "PosixPath('../output_data/ROMS/test_001_20090101_RT-5_N-100_seed-12345.nc')"
      ]
     },
     "execution_count": 4,
     "metadata": {},
     "output_type": "execute_result"
    }
   ],
   "source": [
    "data_path = Path(data_path)\n",
    "mesh_path = data_path\n",
    "depth_path = data_path\n",
    "#mesh_mask = mask_path / experiment_name / fname\n",
    "\n",
    "outpath = Path(outpath)\n",
    "\n",
    "output_filename = output_filename.format(\n",
    "    release_zone = release_zone,\n",
    "    RNG_seed=RNG_seed,\n",
    "    start_year=start_year,\n",
    "    start_month = start_month,\n",
    "    start_day = start_day,\n",
    "    runtime_in_days = runtime_in_days,\n",
    "    number_particles=number_particles\n",
    ")\n",
    "outfile = outpath / output_filename\n",
    "outfile"
   ]
  },
  {
   "cell_type": "markdown",
   "id": "d37603b7-76ab-43ef-9151-6eca3adff9f5",
   "metadata": {},
   "source": [
    "### Load release location"
   ]
  },
  {
   "cell_type": "code",
   "execution_count": 5,
   "id": "5261d75d-08b0-4142-9aab-c12f0b2b5f1a",
   "metadata": {},
   "outputs": [],
   "source": [
    "def load_release_locations(release_locations_file):\n",
    "    df = pd.read_csv(release_locations_file, delimiter=\",\")\n",
    "    df = df.set_index(\"release_zone\")\n",
    "    df.index = df.index.str.lower().str.replace(' ', '-').str.replace(\"'\", '-')\n",
    "    return df"
   ]
  },
  {
   "cell_type": "code",
   "execution_count": 6,
   "id": "51683a9d-7823-4446-b293-cb82d04f5301",
   "metadata": {},
   "outputs": [
    {
     "data": {
      "text/plain": [
       "(-23.25, 8.25, 200.0)"
      ]
     },
     "execution_count": 6,
     "metadata": {},
     "output_type": "execute_result"
    }
   ],
   "source": [
    "release_locations = load_release_locations(release_locations_file)\n",
    "bathymodiolus_lat, bathymodiolus_lon, release_depth = release_locations.loc[release_zone]\n",
    "bathymodiolus_delta_lon = bathymodiolus_delta_lat * np.cos(np.deg2rad(bathymodiolus_lat))\n",
    "\n",
    "bathymodiolus_lat, bathymodiolus_lon, release_depth"
   ]
  },
  {
   "cell_type": "markdown",
   "id": "63e66584-97b3-4040-9cf7-1c7765b72d3e",
   "metadata": {},
   "source": [
    "### Fieldset"
   ]
  },
  {
   "cell_type": "raw",
   "id": "3a86661d",
   "metadata": {},
   "source": [
    "data_file = '../data/config/ROMS/roms_avg01_2009.nc'\n",
    "mesh_file = '../data/config/ROMS/roms_grd2_1500mVT1.nc'\n",
    "depth_file = '../data/config/ROMS/sigma2depth_parent.nc'\n",
    "\n",
    "filenames = {'U': {'lon': mesh_file, 'lat': mesh_file, 'depth': depth_file, 'data': data_file},\n",
    "             'V': {'lon': mesh_file, 'lat': mesh_file, 'depth': depth_file, 'data': data_file},\n",
    "             'W': {'lon': mesh_file, 'lat': mesh_file, 'depth': depth_file, 'data': data_file},\n",
    "             'T': {'lon': mesh_file, 'lat': mesh_file, 'depth': depth_file, 'data': data_file},\n",
    "            }\n",
    "\n",
    "variables = {'U': 'u',\n",
    "             'V': 'v',\n",
    "             'W': 'w',\n",
    "             'T': 'temp',\n",
    "            }\n",
    "                 \n",
    "dimensions = {'lon': 'lon_psi', 'lat': 'lat_psi', 'depth': 'hs', 'time': 'time'}\n",
    "dimensions['depth'] = {'lon': 'lon_rho', 'lat': 'lat_rho'}\n",
    "    \n",
    "fieldset=FieldSet.from_nemo(filenames,variables,dimensions,\n",
    "                            chunksize=False,\n",
    "                            mesh='spherical',\n",
    "                            tracer_interp_method='cgrid_tracer',\n",
    "                            allow_time_extrapolation=True)"
   ]
  },
  {
   "cell_type": "code",
   "execution_count": 7,
   "id": "173fb741",
   "metadata": {},
   "outputs": [],
   "source": [
    "def fieldset_definitions(\n",
    "    data_file, mesh_file, depth_file \n",
    "):\n",
    "    \n",
    "    filenames = {'U': {'lon': mesh_file, 'lat': mesh_file, 'depth': depth_file, 'data': data_file},\n",
    "                 'V': {'lon': mesh_file, 'lat': mesh_file, 'depth': depth_file, 'data': data_file},\n",
    "                 'W': {'lon': mesh_file, 'lat': mesh_file, 'depth': depth_file, 'data': data_file},\n",
    "                 'T': {'lon': mesh_file, 'lat': mesh_file, 'depth': depth_file, 'data': data_file},\n",
    "                }\n",
    "\n",
    "    variables = {'U': 'u',\n",
    "                 'V': 'v',\n",
    "                 'W': 'w',\n",
    "                 'T': 'temp'\n",
    "                }\n",
    "    \n",
    "    dimensions = {'lon': 'lon_psi', 'lat': 'lat_psi', 'depth': 'hs', 'time': 'time'}\n",
    "    \n",
    "    #dimensions = {'U': {'lon': 'lon_rho', 'lat': 'lat_rho', 'depth': 'hs',\n",
    "    #                   'time': 'time'},  # needs to be on f-nodes\n",
    "    #              'V': {'lon': 'lon_rho', 'lat': 'lat_rho', 'depth': 'hs',\n",
    "    #                    'time': 'time'},  # needs to be on f-nodes\n",
    "    #              'W': {'lon': 'lon_rho', 'lat': 'lat_rho', 'depth': 'hs',\n",
    "    #                    'time': 'time'},  # needs to be on f-nodes\n",
    "    #              'T': {'lon': 'lon_psi', 'lat': 'lat_psi', 'depth': 'hs',\n",
    "    #                    'time': 'time'},  # needs to be on t-nodes\n",
    "    #             }  \n",
    "\n",
    "    return FieldSet.from_nemo(\n",
    "        filenames, variables, dimensions,\n",
    "        chunksize=False,\n",
    "        mesh='spherical',\n",
    "        tracer_interp_method='cgrid_tracer',\n",
    "        allow_time_extrapolation=True\n",
    "    )"
   ]
  },
  {
   "cell_type": "code",
   "execution_count": 8,
   "id": "cb58ef87-e8ee-4e74-abc2-d245a6ae3d94",
   "metadata": {},
   "outputs": [],
   "source": [
    "def create_fieldset(\n",
    "    data_path=data_path, mesh_path=mesh_path, depth_path=depth_path, experiment_name=experiment_name,\n",
    "    fname=fname, meshfile=meshfile, depthfile=depthfile\n",
    "):\n",
    "    \n",
    "    data = list(sorted((data_path / experiment_name).glob(fname)))\n",
    "    mesh = list(sorted((mesh_path / experiment_name).glob(meshfile)))\n",
    "    depth = list(sorted((depth_path / experiment_name).glob(depthfile)))\n",
    "    \n",
    "    fieldset = fieldset_definitions(\n",
    "        data, mesh, depth)\n",
    "    return fieldset"
   ]
  },
  {
   "cell_type": "code",
   "execution_count": 9,
   "id": "40329619",
   "metadata": {},
   "outputs": [],
   "source": [
    "fieldset = create_fieldset()"
   ]
  },
  {
   "cell_type": "code",
   "execution_count": 10,
   "id": "dbe8bee4",
   "metadata": {
    "scrolled": true
   },
   "outputs": [
    {
     "name": "stdout",
     "output_type": "stream",
     "text": [
      "<class 'parcels.grid.RectilinearSGrid'>\n"
     ]
    }
   ],
   "source": [
    "print(type(fieldset.U.grid))\n",
    "assert fieldset.U.grid is fieldset.V.grid\n",
    "assert fieldset.U.grid is fieldset.W.grid"
   ]
  },
  {
   "cell_type": "code",
   "execution_count": 11,
   "id": "ce89cae6",
   "metadata": {},
   "outputs": [
    {
     "name": "stdout",
     "output_type": "stream",
     "text": [
      "(2, 32, 257, 237)\n",
      "(237,)\n",
      "(257,)\n",
      "(32, 257, 237)\n"
     ]
    }
   ],
   "source": [
    "fieldset.computeTimeChunk(time=fieldset.U.grid.time[0], dt=1)\n",
    "print(fieldset.U.data.shape)\n",
    "print(fieldset.U.grid.lon.shape)\n",
    "print(fieldset.U.grid.lat.shape)\n",
    "print(fieldset.U.grid.depth.shape)"
   ]
  },
  {
   "cell_type": "code",
   "execution_count": 12,
   "id": "8b30f04d",
   "metadata": {},
   "outputs": [
    {
     "name": "stdout",
     "output_type": "stream",
     "text": [
      "[1681.8895   1667.2445   1649.4756   1628.0054   1602.1926   1571.3462\n",
      " 1534.751    1491.7078   1441.5907   1383.9218   1318.4575   1245.2798\n",
      " 1164.8749   1078.1821    986.5929    891.8883    796.1139    701.4093\n",
      "  609.82007   523.12726   442.72235   369.54465   304.0804    246.4115\n",
      "  196.29445   153.25117   116.65596    85.80959    59.99679    38.526546\n",
      "   20.757671    6.112674]\n"
     ]
    }
   ],
   "source": [
    "print(fieldset.U.grid.depth[:,0,0])"
   ]
  },
  {
   "cell_type": "markdown",
   "id": "b86848ec-7308-4acf-b75e-77de67c102b9",
   "metadata": {},
   "source": [
    "### Create a set of particles with random initial positions"
   ]
  },
  {
   "cell_type": "code",
   "execution_count": 13,
   "id": "205ea51b-23f7-4bcb-891c-cdcc73abc097",
   "metadata": {},
   "outputs": [],
   "source": [
    "np.random.seed(RNG_seed)\n",
    "\n",
    "time = np.sort(\n",
    "        datetime(start_year, start_month, start_day)\n",
    "        + timedelta(hours=1) * np.random.randint(\n",
    "            0, (release_time_in_days) * 24 * 60 / dt_in_minutes, size=(number_particles, )\n",
    "        )\n",
    ")\n",
    "\n",
    "######\n",
    "lat = np.random.normal(\n",
    "    loc=bathymodiolus_lat, scale=bathymodiolus_delta_lat,\n",
    "    size=time.shape\n",
    ")\n",
    "\n",
    "lon = np.random.normal(\n",
    "    loc=bathymodiolus_lon, scale=bathymodiolus_delta_lon,\n",
    "    size=time.shape\n",
    ")\n",
    "\n",
    "depth = np.ones(time.size) * release_depth \n",
    "\n",
    "speed_param = np.random.uniform(\n",
    "    low=0, high=1.0, size=time.shape\n",
    ")"
   ]
  },
  {
   "cell_type": "code",
   "execution_count": 14,
   "id": "1ff2bf21",
   "metadata": {},
   "outputs": [
    {
     "name": "stdout",
     "output_type": "stream",
     "text": [
      "[datetime.datetime(2009, 1, 1, 0, 0) datetime.datetime(2009, 1, 1, 0, 0)\n",
      " datetime.datetime(2009, 1, 1, 0, 0) datetime.datetime(2009, 1, 1, 0, 0)\n",
      " datetime.datetime(2009, 1, 1, 0, 0)]\n"
     ]
    }
   ],
   "source": [
    "print(time[:5])"
   ]
  },
  {
   "cell_type": "code",
   "execution_count": 15,
   "id": "b7eae5df-3b71-429e-835c-d5f2f3ad2adf",
   "metadata": {},
   "outputs": [
    {
     "data": {
      "image/png": "[encoded data removed]",
      "text/plain": [
       "<Figure size 432x288 with 1 Axes>"
      ]
     },
     "metadata": {
      "needs_background": "light"
     },
     "output_type": "display_data"
    }
   ],
   "source": [
    "plt.hist(time, bins=10);"
   ]
  },
  {
   "cell_type": "code",
   "execution_count": 16,
   "id": "034de07f-af59-4eea-a317-e2b1b1f7f246",
   "metadata": {
    "scrolled": false
   },
   "outputs": [
    {
     "data": {
      "image/png": "[encoded data removed]",
      "text/plain": [
       "<Figure size 432x288 with 1 Axes>"
      ]
     },
     "metadata": {
      "needs_background": "light"
     },
     "output_type": "display_data"
    }
   ],
   "source": [
    "plt.scatter(lon, lat, s=5);"
   ]
  },
  {
   "cell_type": "code",
   "execution_count": 17,
   "id": "760d88b7",
   "metadata": {},
   "outputs": [],
   "source": [
    "fieldset.U.grid.time_full = fieldset.U.grid.time_full.astype(np.float64)\n",
    "# This next line shouldn't be necessary. But there was a bug at some time apparently"
   ]
  },
  {
   "cell_type": "code",
   "execution_count": 18,
   "id": "a24b273b-626f-4d28-a9f2-d139c43985dc",
   "metadata": {
    "scrolled": true
   },
   "outputs": [
    {
     "name": "stdout",
     "output_type": "stream",
     "text": [
      "P[0](lon=8.169476, lat=-23.217178, depth=200.000000, time=0.000000)\n",
      "CPU times: user 42.5 ms, sys: 55.3 ms, total: 97.7 ms\n",
      "Wall time: 46 ms\n"
     ]
    }
   ],
   "source": [
    "%%time\n",
    "pset = ParticleSet(\n",
    "    fieldset=fieldset,\n",
    "    pclass=JITParticle, #SampleParticle später? muss dann vorher auch def werden,\n",
    "    lat=lat,\n",
    "    lon=lon,\n",
    "    depth=depth,\n",
    "    time=time\n",
    ")\n",
    "print(pset[0])"
   ]
  },
  {
   "cell_type": "code",
   "execution_count": 19,
   "id": "8c9ee7a0-7717-45f8-9e39-6c060b310919",
   "metadata": {},
   "outputs": [],
   "source": [
    "kernel = pset.Kernel(AdvectionRK4_3D)"
   ]
  },
  {
   "cell_type": "markdown",
   "id": "536af1dc-370a-406d-9c7f-d090027785e3",
   "metadata": {},
   "source": [
    "### Be able to handle errors during integration"
   ]
  },
  {
   "cell_type": "code",
   "execution_count": 20,
   "id": "1ee1d976-72ce-41e3-ac3b-89ccc633a451",
   "metadata": {},
   "outputs": [],
   "source": [
    "def DeleteParticle(particle, fieldset, time):\n",
    "    particle.delete()\n",
    "    \n",
    "recovery_cases = {\n",
    "        ErrorCode.ErrorOutOfBounds: DeleteParticle\n",
    "    }"
   ]
  },
  {
   "cell_type": "code",
   "execution_count": 21,
   "id": "ac2562a5-2674-41a3-97bf-8224d1fc5c31",
   "metadata": {},
   "outputs": [
    {
     "data": {
      "text/plain": [
       "PosixPath('../output_data/ROMS/test_001_20090101_RT-5_N-100_seed-12345.nc')"
      ]
     },
     "execution_count": 21,
     "metadata": {},
     "output_type": "execute_result"
    }
   ],
   "source": [
    "outfile"
   ]
  },
  {
   "cell_type": "code",
   "execution_count": 22,
   "id": "5a9a131e-299c-43f2-8eca-b8870d027a58",
   "metadata": {},
   "outputs": [],
   "source": [
    "output_pfile = pset.ParticleFile(name=outfile, outputdt=timedelta(hours=outputdt_in_hours))"
   ]
  },
  {
   "cell_type": "code",
   "execution_count": 23,
   "id": "8e69e821-cae7-4391-b55f-226659111cca",
   "metadata": {},
   "outputs": [
    {
     "name": "stderr",
     "output_type": "stream",
     "text": [
      "INFO: Compiled ArrayJITParticleAdvectionRK4_3D ==> /tmp/parcels-1001/lib8b0434235702749bd8e67c6b3a44f9e8_0.so\n"
     ]
    }
   ],
   "source": [
    "pset.execute(\n",
    "    kernel,\n",
    "    runtime=timedelta(days=corrected_runtime_in_days),\n",
    "    dt=timedelta(minutes=dt_in_minutes),\n",
    "    output_file=output_pfile,\n",
    ")"
   ]
  },
  {
   "cell_type": "markdown",
   "id": "a15bba25",
   "metadata": {},
   "source": [
    "### Errors at bottom:\n",
    "* Particle P[23](lon=8.339165, lat=-23.223385, depth=936.193193, time=216000.000000)\n",
    "  \n",
    "  Time: 2009-01-03T12:00:00.000000000,\ttimestep dt: 3600.000000\n",
    "  \n",
    "  Through-surface sampling by particle at (8.339165, -23.223385, 936.193193)\n",
    "\n",
    "### Errors at surface:\n",
    "* Particle P[4](lon=8.254837, lat=-23.426231, depth=10.000000, time=0.000000)\n",
    "   \n",
    "  Time: 2009-01-01T00:00:00.000000000,\ttimestep dt: 3600.000000\n",
    "  \n",
    "  Out-of-bounds sampling by particle at (8.254837, -23.426231, 10.000000)"
   ]
  },
  {
   "cell_type": "code",
   "execution_count": 24,
   "id": "e707b59f-2f14-4290-9591-a19ef871f357",
   "metadata": {},
   "outputs": [
    {
     "name": "stderr",
     "output_type": "stream",
     "text": [
      "/home/lmock/anaconda3/envs/py3_parcels/lib/python3.10/site-packages/numpy/lib/arraysetops.py:270: VisibleDeprecationWarning: Creating an ndarray from ragged nested sequences (which is a list-or-tuple of lists-or-tuples-or ndarrays with different lengths or shapes) is deprecated. If you meant to do this, you must specify 'dtype=object' when creating the ndarray.\n",
      "  ar = np.asanyarray(ar)\n"
     ]
    }
   ],
   "source": [
    "output_pfile.export()"
   ]
  },
  {
   "cell_type": "code",
   "execution_count": 25,
   "id": "f6bd6e0b-5489-40c9-a539-0b65d4071aa5",
   "metadata": {},
   "outputs": [
    {
     "data": {
      "text/html": [
       "<div><svg style=\"position: absolute; width: 0; height: 0; overflow: hidden\">\n",
       "<defs>\n",
       "<symbol id=\"icon-database\" viewBox=\"0 0 32 32\">\n",
       "<path d=\"M16 0c-8.837 0-16 2.239-16 5v4c0 2.761 7.163 5 16 5s16-2.239 16-5v-4c0-2.761-7.163-5-16-5z\"></path>\n",
       "<path d=\"M16 17c-8.837 0-16-2.239-16-5v6c0 2.761 7.163 5 16 5s16-2.239 16-5v-6c0 2.761-7.163 5-16 5z\"></path>\n",
       "<path d=\"M16 26c-8.837 0-16-2.239-16-5v6c0 2.761 7.163 5 16 5s16-2.239 16-5v-6c0 2.761-7.163 5-16 5z\"></path>\n",
       "</symbol>\n",
       "<symbol id=\"icon-file-text2\" viewBox=\"0 0 32 32\">\n",
       "<path d=\"M28.681 7.159c-0.694-0.947-1.662-2.053-2.724-3.116s-2.169-2.030-3.116-2.724c-1.612-1.182-2.393-1.319-2.841-1.319h-15.5c-1.378 0-2.5 1.121-2.5 2.5v27c0 1.378 1.122 2.5 2.5 2.5h23c1.378 0 2.5-1.122 2.5-2.5v-19.5c0-0.448-0.137-1.23-1.319-2.841zM24.543 5.457c0.959 0.959 1.712 1.825 2.268 2.543h-4.811v-4.811c0.718 0.556 1.584 1.309 2.543 2.268zM28 29.5c0 0.271-0.229 0.5-0.5 0.5h-23c-0.271 0-0.5-0.229-0.5-0.5v-27c0-0.271 0.229-0.5 0.5-0.5 0 0 15.499-0 15.5 0v7c0 0.552 0.448 1 1 1h7v19.5z\"></path>\n",
       "<path d=\"M23 26h-14c-0.552 0-1-0.448-1-1s0.448-1 1-1h14c0.552 0 1 0.448 1 1s-0.448 1-1 1z\"></path>\n",
       "<path d=\"M23 22h-14c-0.552 0-1-0.448-1-1s0.448-1 1-1h14c0.552 0 1 0.448 1 1s-0.448 1-1 1z\"></path>\n",
       "<path d=\"M23 18h-14c-0.552 0-1-0.448-1-1s0.448-1 1-1h14c0.552 0 1 0.448 1 1s-0.448 1-1 1z\"></path>\n",
       "</symbol>\n",
       "</defs>\n",
       "</svg>\n",
       "<style>/* CSS stylesheet for displaying xarray objects in jupyterlab.\n",
       " *\n",
       " */\n",
       "\n",
       ":root {\n",
       "  --xr-font-color0: var(--jp-content-font-color0, rgba(0, 0, 0, 1));\n",
       "  --xr-font-color2: var(--jp-content-font-color2, rgba(0, 0, 0, 0.54));\n",
       "  --xr-font-color3: var(--jp-content-font-color3, rgba(0, 0, 0, 0.38));\n",
       "  --xr-border-color: var(--jp-border-color2, #e0e0e0);\n",
       "  --xr-disabled-color: var(--jp-layout-color3, #bdbdbd);\n",
       "  --xr-background-color: var(--jp-layout-color0, white);\n",
       "  --xr-background-color-row-even: var(--jp-layout-color1, white);\n",
       "  --xr-background-color-row-odd: var(--jp-layout-color2, #eeeeee);\n",
       "}\n",
       "\n",
       "html[theme=dark],\n",
       "body.vscode-dark {\n",
       "  --xr-font-color0: rgba(255, 255, 255, 1);\n",
       "  --xr-font-color2: rgba(255, 255, 255, 0.54);\n",
       "  --xr-font-color3: rgba(255, 255, 255, 0.38);\n",
       "  --xr-border-color: #1F1F1F;\n",
       "  --xr-disabled-color: #515151;\n",
       "  --xr-background-color: #111111;\n",
       "  --xr-background-color-row-even: #111111;\n",
       "  --xr-background-color-row-odd: #313131;\n",
       "}\n",
       "\n",
       ".xr-wrap {\n",
       "  display: block !important;\n",
       "  min-width: 300px;\n",
       "  max-width: 700px;\n",
       "}\n",
       "\n",
       ".xr-text-repr-fallback {\n",
       "  /* fallback to plain text repr when CSS is not injected (untrusted notebook) */\n",
       "  display: none;\n",
       "}\n",
       "\n",
       ".xr-header {\n",
       "  padding-top: 6px;\n",
       "  padding-bottom: 6px;\n",
       "  margin-bottom: 4px;\n",
       "  border-bottom: solid 1px var(--xr-border-color);\n",
       "}\n",
       "\n",
       ".xr-header > div,\n",
       ".xr-header > ul {\n",
       "  display: inline;\n",
       "  margin-top: 0;\n",
       "  margin-bottom: 0;\n",
       "}\n",
       "\n",
       ".xr-obj-type,\n",
       ".xr-array-name {\n",
       "  margin-left: 2px;\n",
       "  margin-right: 10px;\n",
       "}\n",
       "\n",
       ".xr-obj-type {\n",
       "  color: var(--xr-font-color2);\n",
       "}\n",
       "\n",
       ".xr-sections {\n",
       "  padding-left: 0 !important;\n",
       "  display: grid;\n",
       "  grid-template-columns: 150px auto auto 1fr 20px 20px;\n",
       "}\n",
       "\n",
       ".xr-section-item {\n",
       "  display: contents;\n",
       "}\n",
       "\n",
       ".xr-section-item input {\n",
       "  display: none;\n",
       "}\n",
       "\n",
       ".xr-section-item input + label {\n",
       "  color: var(--xr-disabled-color);\n",
       "}\n",
       "\n",
       ".xr-section-item input:enabled + label {\n",
       "  cursor: pointer;\n",
       "  color: var(--xr-font-color2);\n",
       "}\n",
       "\n",
       ".xr-section-item input:enabled + label:hover {\n",
       "  color: var(--xr-font-color0);\n",
       "}\n",
       "\n",
       ".xr-section-summary {\n",
       "  grid-column: 1;\n",
       "  color: var(--xr-font-color2);\n",
       "  font-weight: 500;\n",
       "}\n",
       "\n",
       ".xr-section-summary > span {\n",
       "  display: inline-block;\n",
       "  padding-left: 0.5em;\n",
       "}\n",
       "\n",
       ".xr-section-summary-in:disabled + label {\n",
       "  color: var(--xr-font-color2);\n",
       "}\n",
       "\n",
       ".xr-section-summary-in + label:before {\n",
       "  display: inline-block;\n",
       "  content: '►';\n",
       "  font-size: 11px;\n",
       "  width: 15px;\n",
       "  text-align: center;\n",
       "}\n",
       "\n",
       ".xr-section-summary-in:disabled + label:before {\n",
       "  color: var(--xr-disabled-color);\n",
       "}\n",
       "\n",
       ".xr-section-summary-in:checked + label:before {\n",
       "  content: '▼';\n",
       "}\n",
       "\n",
       ".xr-section-summary-in:checked + label > span {\n",
       "  display: none;\n",
       "}\n",
       "\n",
       ".xr-section-summary,\n",
       ".xr-section-inline-details {\n",
       "  padding-top: 4px;\n",
       "  padding-bottom: 4px;\n",
       "}\n",
       "\n",
       ".xr-section-inline-details {\n",
       "  grid-column: 2 / -1;\n",
       "}\n",
       "\n",
       ".xr-section-details {\n",
       "  display: none;\n",
       "  grid-column: 1 / -1;\n",
       "  margin-bottom: 5px;\n",
       "}\n",
       "\n",
       ".xr-section-summary-in:checked ~ .xr-section-details {\n",
       "  display: contents;\n",
       "}\n",
       "\n",
       ".xr-array-wrap {\n",
       "  grid-column: 1 / -1;\n",
       "  display: grid;\n",
       "  grid-template-columns: 20px auto;\n",
       "}\n",
       "\n",
       ".xr-array-wrap > label {\n",
       "  grid-column: 1;\n",
       "  vertical-align: top;\n",
       "}\n",
       "\n",
       ".xr-preview {\n",
       "  color: var(--xr-font-color3);\n",
       "}\n",
       "\n",
       ".xr-array-preview,\n",
       ".xr-array-data {\n",
       "  padding: 0 5px !important;\n",
       "  grid-column: 2;\n",
       "}\n",
       "\n",
       ".xr-array-data,\n",
       ".xr-array-in:checked ~ .xr-array-preview {\n",
       "  display: none;\n",
       "}\n",
       "\n",
       ".xr-array-in:checked ~ .xr-array-data,\n",
       ".xr-array-preview {\n",
       "  display: inline-block;\n",
       "}\n",
       "\n",
       ".xr-dim-list {\n",
       "  display: inline-block !important;\n",
       "  list-style: none;\n",
       "  padding: 0 !important;\n",
       "  margin: 0;\n",
       "}\n",
       "\n",
       ".xr-dim-list li {\n",
       "  display: inline-block;\n",
       "  padding: 0;\n",
       "  margin: 0;\n",
       "}\n",
       "\n",
       ".xr-dim-list:before {\n",
       "  content: '(';\n",
       "}\n",
       "\n",
       ".xr-dim-list:after {\n",
       "  content: ')';\n",
       "}\n",
       "\n",
       ".xr-dim-list li:not(:last-child):after {\n",
       "  content: ',';\n",
       "  padding-right: 5px;\n",
       "}\n",
       "\n",
       ".xr-has-index {\n",
       "  font-weight: bold;\n",
       "}\n",
       "\n",
       ".xr-var-list,\n",
       ".xr-var-item {\n",
       "  display: contents;\n",
       "}\n",
       "\n",
       ".xr-var-item > div,\n",
       ".xr-var-item label,\n",
       ".xr-var-item > .xr-var-name span {\n",
       "  background-color: var(--xr-background-color-row-even);\n",
       "  margin-bottom: 0;\n",
       "}\n",
       "\n",
       ".xr-var-item > .xr-var-name:hover span {\n",
       "  padding-right: 5px;\n",
       "}\n",
       "\n",
       ".xr-var-list > li:nth-child(odd) > div,\n",
       ".xr-var-list > li:nth-child(odd) > label,\n",
       ".xr-var-list > li:nth-child(odd) > .xr-var-name span {\n",
       "  background-color: var(--xr-background-color-row-odd);\n",
       "}\n",
       "\n",
       ".xr-var-name {\n",
       "  grid-column: 1;\n",
       "}\n",
       "\n",
       ".xr-var-dims {\n",
       "  grid-column: 2;\n",
       "}\n",
       "\n",
       ".xr-var-dtype {\n",
       "  grid-column: 3;\n",
       "  text-align: right;\n",
       "  color: var(--xr-font-color2);\n",
       "}\n",
       "\n",
       ".xr-var-preview {\n",
       "  grid-column: 4;\n",
       "}\n",
       "\n",
       ".xr-var-name,\n",
       ".xr-var-dims,\n",
       ".xr-var-dtype,\n",
       ".xr-preview,\n",
       ".xr-attrs dt {\n",
       "  white-space: nowrap;\n",
       "  overflow: hidden;\n",
       "  text-overflow: ellipsis;\n",
       "  padding-right: 10px;\n",
       "}\n",
       "\n",
       ".xr-var-name:hover,\n",
       ".xr-var-dims:hover,\n",
       ".xr-var-dtype:hover,\n",
       ".xr-attrs dt:hover {\n",
       "  overflow: visible;\n",
       "  width: auto;\n",
       "  z-index: 1;\n",
       "}\n",
       "\n",
       ".xr-var-attrs,\n",
       ".xr-var-data {\n",
       "  display: none;\n",
       "  background-color: var(--xr-background-color) !important;\n",
       "  padding-bottom: 5px !important;\n",
       "}\n",
       "\n",
       ".xr-var-attrs-in:checked ~ .xr-var-attrs,\n",
       ".xr-var-data-in:checked ~ .xr-var-data {\n",
       "  display: block;\n",
       "}\n",
       "\n",
       ".xr-var-data > table {\n",
       "  float: right;\n",
       "}\n",
       "\n",
       ".xr-var-name span,\n",
       ".xr-var-data,\n",
       ".xr-attrs {\n",
       "  padding-left: 25px !important;\n",
       "}\n",
       "\n",
       ".xr-attrs,\n",
       ".xr-var-attrs,\n",
       ".xr-var-data {\n",
       "  grid-column: 1 / -1;\n",
       "}\n",
       "\n",
       "dl.xr-attrs {\n",
       "  padding: 0;\n",
       "  margin: 0;\n",
       "  display: grid;\n",
       "  grid-template-columns: 125px auto;\n",
       "}\n",
       "\n",
       ".xr-attrs dt,\n",
       ".xr-attrs dd {\n",
       "  padding: 0;\n",
       "  margin: 0;\n",
       "  float: left;\n",
       "  padding-right: 10px;\n",
       "  width: auto;\n",
       "}\n",
       "\n",
       ".xr-attrs dt {\n",
       "  font-weight: normal;\n",
       "  grid-column: 1;\n",
       "}\n",
       "\n",
       ".xr-attrs dt:hover span {\n",
       "  display: inline-block;\n",
       "  background: var(--xr-background-color);\n",
       "  padding-right: 10px;\n",
       "}\n",
       "\n",
       ".xr-attrs dd {\n",
       "  grid-column: 2;\n",
       "  white-space: pre-wrap;\n",
       "  word-break: break-all;\n",
       "}\n",
       "\n",
       ".xr-icon-database,\n",
       ".xr-icon-file-text2 {\n",
       "  display: inline-block;\n",
       "  vertical-align: middle;\n",
       "  width: 1em;\n",
       "  height: 1.5em !important;\n",
       "  stroke-width: 0;\n",
       "  stroke: currentColor;\n",
       "  fill: currentColor;\n",
       "}\n",
       "</style><pre class='xr-text-repr-fallback'>&lt;xarray.Dataset&gt;\n",
       "Dimensions:     (traj: 100, obs: 7)\n",
       "Dimensions without coordinates: traj, obs\n",
       "Data variables:\n",
       "    trajectory  (traj, obs) float64 0.0 0.0 0.0 0.0 0.0 ... 99.0 99.0 99.0 nan\n",
       "    time        (traj, obs) datetime64[ns] 2009-01-01 2009-01-02 ... NaT\n",
       "    lat         (traj, obs) float64 -23.22 -23.22 -23.23 ... -23.23 -23.21 nan\n",
       "    lon         (traj, obs) float64 8.169 8.229 8.277 8.314 ... 8.433 8.494 nan\n",
       "    z           (traj, obs) float64 200.0 131.6 105.9 102.3 ... 445.5 525.2 nan\n",
       "Attributes:\n",
       "    feature_type:           trajectory\n",
       "    Conventions:            CF-1.6/CF-1.7\n",
       "    ncei_template_version:  NCEI_NetCDF_Trajectory_Template_v2.0\n",
       "    parcels_version:        2.3.0\n",
       "    parcels_mesh:           spherical</pre><div class='xr-wrap' style='display:none'><div class='xr-header'><div class='xr-obj-type'>xarray.Dataset</div></div><ul class='xr-sections'><li class='xr-section-item'><input id='section-b7aa38b4-540c-44a3-9381-56fc56b658f8' class='xr-section-summary-in' type='checkbox' disabled ><label for='section-b7aa38b4-540c-44a3-9381-56fc56b658f8' class='xr-section-summary'  title='Expand/collapse section'>Dimensions:</label><div class='xr-section-inline-details'><ul class='xr-dim-list'><li><span>traj</span>: 100</li><li><span>obs</span>: 7</li></ul></div><div class='xr-section-details'></div></li><li class='xr-section-item'><input id='section-2cd3d3f3-8c09-46b5-86c6-cb0def677b2e' class='xr-section-summary-in' type='checkbox' disabled ><label for='section-2cd3d3f3-8c09-46b5-86c6-cb0def677b2e' class='xr-section-summary'  title='Expand/collapse section'>Coordinates: <span>(0)</span></label><div class='xr-section-inline-details'></div><div class='xr-section-details'><ul class='xr-var-list'></ul></div></li><li class='xr-section-item'><input id='section-92cd7556-027b-45f6-baa7-6e60a08ea9a3' class='xr-section-summary-in' type='checkbox'  checked><label for='section-92cd7556-027b-45f6-baa7-6e60a08ea9a3' class='xr-section-summary' >Data variables: <span>(5)</span></label><div class='xr-section-inline-details'></div><div class='xr-section-details'><ul class='xr-var-list'><li class='xr-var-item'><div class='xr-var-name'><span>trajectory</span></div><div class='xr-var-dims'>(traj, obs)</div><div class='xr-var-dtype'>float64</div><div class='xr-var-preview xr-preview'>...</div><input id='attrs-9c45020d-d4b9-4346-b23f-059c8419d60c' class='xr-var-attrs-in' type='checkbox' ><label for='attrs-9c45020d-d4b9-4346-b23f-059c8419d60c' title='Show/Hide attributes'><svg class='icon xr-icon-file-text2'><use xlink:href='#icon-file-text2'></use></svg></label><input id='data-197892ec-c966-43ea-84f4-d101fc14dac1' class='xr-var-data-in' type='checkbox'><label for='data-197892ec-c966-43ea-84f4-d101fc14dac1' title='Show/Hide data repr'><svg class='icon xr-icon-database'><use xlink:href='#icon-database'></use></svg></label><div class='xr-var-attrs'><dl class='xr-attrs'><dt><span>long_name :</span></dt><dd>Unique identifier for each particle</dd><dt><span>cf_role :</span></dt><dd>trajectory_id</dd></dl></div><div class='xr-var-data'><pre>array([[ 0.,  0.,  0., ...,  0.,  0.,  0.],\n",
       "       [ 1.,  1.,  1., ...,  1.,  1.,  1.],\n",
       "       [ 2.,  2.,  2., ...,  2.,  2.,  2.],\n",
       "       ...,\n",
       "       [97., 97., 97., ..., 97., 97., nan],\n",
       "       [98., 98., 98., ..., 98., 98., nan],\n",
       "       [99., 99., 99., ..., 99., 99., nan]])</pre></div></li><li class='xr-var-item'><div class='xr-var-name'><span>time</span></div><div class='xr-var-dims'>(traj, obs)</div><div class='xr-var-dtype'>datetime64[ns]</div><div class='xr-var-preview xr-preview'>...</div><input id='attrs-e198cf76-3ac8-4873-a995-f0353fe7b1ce' class='xr-var-attrs-in' type='checkbox' ><label for='attrs-e198cf76-3ac8-4873-a995-f0353fe7b1ce' title='Show/Hide attributes'><svg class='icon xr-icon-file-text2'><use xlink:href='#icon-file-text2'></use></svg></label><input id='data-376f9085-3a6f-40a7-9e68-79b825818822' class='xr-var-data-in' type='checkbox'><label for='data-376f9085-3a6f-40a7-9e68-79b825818822' title='Show/Hide data repr'><svg class='icon xr-icon-database'><use xlink:href='#icon-database'></use></svg></label><div class='xr-var-attrs'><dl class='xr-attrs'><dt><span>long_name :</span></dt><dd></dd><dt><span>standard_name :</span></dt><dd>time</dd><dt><span>axis :</span></dt><dd>T</dd></dl></div><div class='xr-var-data'><pre>array([[&#x27;2009-01-01T00:00:00.000000000&#x27;, &#x27;2009-01-02T00:00:00.000000000&#x27;,\n",
       "        &#x27;2009-01-03T00:00:00.000000000&#x27;, ..., &#x27;2009-01-05T00:00:00.000000000&#x27;,\n",
       "        &#x27;2009-01-06T00:00:00.000000000&#x27;, &#x27;2009-01-07T00:00:00.000000000&#x27;],\n",
       "       [&#x27;2009-01-01T00:00:00.000000000&#x27;, &#x27;2009-01-02T00:00:00.000000000&#x27;,\n",
       "        &#x27;2009-01-03T00:00:00.000000000&#x27;, ..., &#x27;2009-01-05T00:00:00.000000000&#x27;,\n",
       "        &#x27;2009-01-06T00:00:00.000000000&#x27;, &#x27;2009-01-07T00:00:00.000000000&#x27;],\n",
       "       [&#x27;2009-01-01T00:00:00.000000000&#x27;, &#x27;2009-01-02T00:00:00.000000000&#x27;,\n",
       "        &#x27;2009-01-03T00:00:00.000000000&#x27;, ..., &#x27;2009-01-05T00:00:00.000000000&#x27;,\n",
       "        &#x27;2009-01-06T00:00:00.000000000&#x27;, &#x27;2009-01-07T00:00:00.000000000&#x27;],\n",
       "       ...,\n",
       "       [&#x27;2009-01-02T00:00:00.000000000&#x27;, &#x27;2009-01-03T00:00:00.000000000&#x27;,\n",
       "        &#x27;2009-01-04T00:00:00.000000000&#x27;, ..., &#x27;2009-01-06T00:00:00.000000000&#x27;,\n",
       "        &#x27;2009-01-07T00:00:00.000000000&#x27;,                           &#x27;NaT&#x27;],\n",
       "       [&#x27;2009-01-02T00:00:00.000000000&#x27;, &#x27;2009-01-03T00:00:00.000000000&#x27;,\n",
       "        &#x27;2009-01-04T00:00:00.000000000&#x27;, ..., &#x27;2009-01-06T00:00:00.000000000&#x27;,\n",
       "        &#x27;2009-01-07T00:00:00.000000000&#x27;,                           &#x27;NaT&#x27;],\n",
       "       [&#x27;2009-01-02T00:00:00.000000000&#x27;, &#x27;2009-01-03T00:00:00.000000000&#x27;,\n",
       "        &#x27;2009-01-04T00:00:00.000000000&#x27;, ..., &#x27;2009-01-06T00:00:00.000000000&#x27;,\n",
       "        &#x27;2009-01-07T00:00:00.000000000&#x27;,                           &#x27;NaT&#x27;]],\n",
       "      dtype=&#x27;datetime64[ns]&#x27;)</pre></div></li><li class='xr-var-item'><div class='xr-var-name'><span>lat</span></div><div class='xr-var-dims'>(traj, obs)</div><div class='xr-var-dtype'>float64</div><div class='xr-var-preview xr-preview'>...</div><input id='attrs-9b6b7651-1370-47cc-96ac-27eba778dc3d' class='xr-var-attrs-in' type='checkbox' ><label for='attrs-9b6b7651-1370-47cc-96ac-27eba778dc3d' title='Show/Hide attributes'><svg class='icon xr-icon-file-text2'><use xlink:href='#icon-file-text2'></use></svg></label><input id='data-018097c4-22e4-4645-b7c3-36c113d535b0' class='xr-var-data-in' type='checkbox'><label for='data-018097c4-22e4-4645-b7c3-36c113d535b0' title='Show/Hide data repr'><svg class='icon xr-icon-database'><use xlink:href='#icon-database'></use></svg></label><div class='xr-var-attrs'><dl class='xr-attrs'><dt><span>long_name :</span></dt><dd></dd><dt><span>standard_name :</span></dt><dd>latitude</dd><dt><span>units :</span></dt><dd>degrees_north</dd><dt><span>axis :</span></dt><dd>Y</dd></dl></div><div class='xr-var-data'><pre>array([[-23.217178, -23.220437, -23.225521, ..., -23.231255, -23.226627,\n",
       "        -23.211092],\n",
       "       [-23.2449  , -23.24278 , -23.245267, ..., -23.255492, -23.246294,\n",
       "        -23.224691],\n",
       "       [-23.182998, -23.181473, -23.17891 , ..., -23.159994, -23.144936,\n",
       "        -23.123014],\n",
       "       ...,\n",
       "       [-23.272578, -23.276699, -23.277271, ..., -23.252484, -23.232647,\n",
       "               nan],\n",
       "       [-23.157359, -23.150923, -23.140431, ..., -23.114393, -23.094484,\n",
       "               nan],\n",
       "       [-23.231938, -23.232872, -23.233267, ..., -23.226984, -23.214918,\n",
       "               nan]])</pre></div></li><li class='xr-var-item'><div class='xr-var-name'><span>lon</span></div><div class='xr-var-dims'>(traj, obs)</div><div class='xr-var-dtype'>float64</div><div class='xr-var-preview xr-preview'>...</div><input id='attrs-09c90b09-bf61-41f8-a8e7-060e31749b2d' class='xr-var-attrs-in' type='checkbox' ><label for='attrs-09c90b09-bf61-41f8-a8e7-060e31749b2d' title='Show/Hide attributes'><svg class='icon xr-icon-file-text2'><use xlink:href='#icon-file-text2'></use></svg></label><input id='data-4094f0f3-9b14-421f-aca3-85f1ca4f068a' class='xr-var-data-in' type='checkbox'><label for='data-4094f0f3-9b14-421f-aca3-85f1ca4f068a' title='Show/Hide data repr'><svg class='icon xr-icon-database'><use xlink:href='#icon-database'></use></svg></label><div class='xr-var-attrs'><dl class='xr-attrs'><dt><span>long_name :</span></dt><dd></dd><dt><span>standard_name :</span></dt><dd>longitude</dd><dt><span>units :</span></dt><dd>degrees_east</dd><dt><span>axis :</span></dt><dd>X</dd></dl></div><div class='xr-var-data'><pre>array([[8.169476, 8.229175, 8.277247, ..., 8.3423  , 8.358097, 8.386528],\n",
       "       [8.104655, 8.166948, 8.218011, ..., 8.299266, 8.344541, 8.384487],\n",
       "       [8.219138, 8.263433, 8.309851, ..., 8.434216, 8.47896 , 8.485311],\n",
       "       ...,\n",
       "       [8.269262, 8.320658, 8.378043, ..., 8.48989 , 8.532625,      nan],\n",
       "       [8.278651, 8.325394, 8.394061, ..., 8.472456, 8.48022 ,      nan],\n",
       "       [8.247509, 8.303611, 8.351076, ..., 8.43334 , 8.493614,      nan]])</pre></div></li><li class='xr-var-item'><div class='xr-var-name'><span>z</span></div><div class='xr-var-dims'>(traj, obs)</div><div class='xr-var-dtype'>float64</div><div class='xr-var-preview xr-preview'>...</div><input id='attrs-7c9d33a3-e773-4533-82d7-8b92bcfa7548' class='xr-var-attrs-in' type='checkbox' ><label for='attrs-7c9d33a3-e773-4533-82d7-8b92bcfa7548' title='Show/Hide attributes'><svg class='icon xr-icon-file-text2'><use xlink:href='#icon-file-text2'></use></svg></label><input id='data-6cc041b0-e3d8-43bc-833d-faafeb121045' class='xr-var-data-in' type='checkbox'><label for='data-6cc041b0-e3d8-43bc-833d-faafeb121045' title='Show/Hide data repr'><svg class='icon xr-icon-database'><use xlink:href='#icon-database'></use></svg></label><div class='xr-var-attrs'><dl class='xr-attrs'><dt><span>long_name :</span></dt><dd></dd><dt><span>standard_name :</span></dt><dd>depth</dd><dt><span>units :</span></dt><dd>m</dd><dt><span>positive :</span></dt><dd>down</dd></dl></div><div class='xr-var-data'><pre>array([[200.      , 131.567529, 105.873558, ..., 120.388023, 129.716626,\n",
       "        138.777789],\n",
       "       [200.      , 137.306427,  84.477943, ...,  68.088393,  82.066524,\n",
       "        101.824967],\n",
       "       [200.      , 190.481971, 196.438731, ..., 336.923741, 510.835682,\n",
       "        696.169812],\n",
       "       ...,\n",
       "       [199.547034, 214.599185, 409.168407, ..., 803.461822, 817.564182,\n",
       "               nan],\n",
       "       [201.635171, 299.273484, 379.235223, ..., 575.152543, 680.967625,\n",
       "               nan],\n",
       "       [197.555833, 162.21877 , 216.873845, ..., 445.511884, 525.158723,\n",
       "               nan]])</pre></div></li></ul></div></li><li class='xr-section-item'><input id='section-eda85eb0-04f5-4374-b1b2-0dc417c23993' class='xr-section-summary-in' type='checkbox'  checked><label for='section-eda85eb0-04f5-4374-b1b2-0dc417c23993' class='xr-section-summary' >Attributes: <span>(5)</span></label><div class='xr-section-inline-details'></div><div class='xr-section-details'><dl class='xr-attrs'><dt><span>feature_type :</span></dt><dd>trajectory</dd><dt><span>Conventions :</span></dt><dd>CF-1.6/CF-1.7</dd><dt><span>ncei_template_version :</span></dt><dd>NCEI_NetCDF_Trajectory_Template_v2.0</dd><dt><span>parcels_version :</span></dt><dd>2.3.0</dd><dt><span>parcels_mesh :</span></dt><dd>spherical</dd></dl></div></li></ul></div></div>"
      ],
      "text/plain": [
       "<xarray.Dataset>\n",
       "Dimensions:     (traj: 100, obs: 7)\n",
       "Dimensions without coordinates: traj, obs\n",
       "Data variables:\n",
       "    trajectory  (traj, obs) float64 ...\n",
       "    time        (traj, obs) datetime64[ns] ...\n",
       "    lat         (traj, obs) float64 ...\n",
       "    lon         (traj, obs) float64 ...\n",
       "    z           (traj, obs) float64 ...\n",
       "Attributes:\n",
       "    feature_type:           trajectory\n",
       "    Conventions:            CF-1.6/CF-1.7\n",
       "    ncei_template_version:  NCEI_NetCDF_Trajectory_Template_v2.0\n",
       "    parcels_version:        2.3.0\n",
       "    parcels_mesh:           spherical"
      ]
     },
     "execution_count": 25,
     "metadata": {},
     "output_type": "execute_result"
    }
   ],
   "source": [
    "particle_ds = xr.open_dataset(outfile)\n",
    "particle_ds"
   ]
  },
  {
   "cell_type": "code",
   "execution_count": 26,
   "id": "2dda4ad2-86b8-43fe-b40d-d9ffc5ea834e",
   "metadata": {},
   "outputs": [
    {
     "data": {
      "text/plain": [
       "[<matplotlib.lines.Line2D at 0x7fa75bfe5a20>]"
      ]
     },
     "execution_count": 26,
     "metadata": {},
     "output_type": "execute_result"
    },
    {
     "data": {
      "image/png": "[encoded data removed]",
      "text/plain": [
       "<Figure size 432x288 with 1 Axes>"
      ]
     },
     "metadata": {
      "needs_background": "light"
     },
     "output_type": "display_data"
    }
   ],
   "source": [
    "particle_ds.plot.scatter(x=\"lon\", y=\"lat\")\n",
    "particle_ds.isel(obs=0).plot.scatter(x=\"lon\", y=\"lat\")\n",
    "plt.plot(bathymodiolus_lon, bathymodiolus_lat, 'rx')"
   ]
  },
  {
   "cell_type": "code",
   "execution_count": 27,
   "id": "a4d6b1b3-41d5-496f-bbcf-26fe71045295",
   "metadata": {},
   "outputs": [
    {
     "data": {
      "text/plain": [
       "[<matplotlib.lines.Line2D at 0x7fa75c058400>]"
      ]
     },
     "execution_count": 27,
     "metadata": {},
     "output_type": "execute_result"
    },
    {
     "data": {
      "image/png": "[encoded data removed]",
      "text/plain": [
       "<Figure size 432x288 with 1 Axes>"
      ]
     },
     "metadata": {
      "needs_background": "light"
     },
     "output_type": "display_data"
    }
   ],
   "source": [
    "particle_ds.lon.isnull().sum(\"traj\").plot()"
   ]
  }
 ],
 "metadata": {
  "kernelspec": {
   "display_name": "Python 3 (ipykernel)",
   "language": "python",
   "name": "python3"
  },
  "language_info": {
   "codemirror_mode": {
    "name": "ipython",
    "version": 3
   },
   "file_extension": ".py",
   "mimetype": "text/x-python",
   "name": "python",
   "nbconvert_exporter": "python",
   "pygments_lexer": "ipython3",
   "version": "3.10.4"
  }
 },
 "nbformat": 4,
 "nbformat_minor": 5
}
